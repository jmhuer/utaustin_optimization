{
  "nbformat": 4,
  "nbformat_minor": 0,
  "metadata": {
    "colab": {
      "name": "Elin-assignment",
      "provenance": [],
      "collapsed_sections": [],
      "include_colab_link": true
    },
    "kernelspec": {
      "name": "python3",
      "display_name": "Python 3"
    }
  },
  "cells": [
    {
      "cell_type": "markdown",
      "metadata": {
        "id": "view-in-github",
        "colab_type": "text"
      },
      "source": [
        "<a href=\"https://colab.research.google.com/github/jmhuer/utaustin_optimization/blob/main/homework9/Elin_assignment.ipynb\" target=\"_parent\"><img src=\"https://colab.research.google.com/assets/colab-badge.svg\" alt=\"Open In Colab\"/></a>"
      ]
    },
    {
      "cell_type": "markdown",
      "metadata": {
        "id": "GpIjBmUzWW_f"
      },
      "source": [
        "# Elimination\n",
        "\n",
        "In this excercises, we will be playing with the Multi-arm bandit problem with the Elinmination algorithm.\n",
        "\n",
        "## Setup\n",
        "\n",
        "As before, consider unstructural bandit problem. Suppose we have $k$ arms, each with random rewards $p_i = u_i + \\epsilon$ where $\\epsilon$ is draw from i.i.d. standard gaussian. (Note that we only require $\\epsilon$ to be sub-gaussian for the analysis to go through)\n",
        "\n",
        "The following codes is capturing the setup."
      ]
    },
    {
      "cell_type": "code",
      "metadata": {
        "id": "3E5387xdWXl7"
      },
      "source": [
        "import numpy as np\n",
        "import matplotlib.pyplot as plt\n",
        "import pdb\n",
        "\n",
        "class Gaussian_Arm:\n",
        "  def __init__(self, num_arms, mu=None):\n",
        "    '''\n",
        "    num_arms: (int). the number of arms\n",
        "    mu: (None or list-type). the mean of the reward of each arm.\n",
        "        if set to None, a random vector will be generated.\n",
        "    '''\n",
        "    if num_arms <= 1 or not isinstance(num_arms, int):\n",
        "      print('number of arms has an int that is at least two')\n",
        "      return\n",
        "    \n",
        "    self.num_arms = num_arms\n",
        "    #\n",
        "    if mu:\n",
        "      self.mu = np.asarray(mu)\n",
        "      if len(self.mu) != num_arms:\n",
        "        print('The lenth of mu does not match the number of arms')\n",
        "        return\n",
        "    else:\n",
        "      self.mu = np.random.rand((num_arms))\n",
        "    # \n",
        "    self.delta = max(self.mu) - min(self.mu)\n",
        "    #\n",
        "\n",
        "    # keep track of the rewards for the user\n",
        "    self.rewards_history = []\n",
        "    # keep track of how many times the arms have been pulled\n",
        "    self.total_pull = 0 \n",
        "\n",
        "  def pull_arm(self, arm_id=-1, pull_time=1):\n",
        "    if arm_id < 0 or arm_id >= self.num_arms:\n",
        "      print('please specify arm id in the range of 0-%d' % (self.num_arms))\n",
        "      return\n",
        "    assert (isinstance(pull_time, int) and pull_time >= 1)\n",
        "    self.total_pull += pull_time\n",
        "    # Generate reward\n",
        "    reward = self.mu[arm_id] * pull_time + sum(np.random.randn(pull_time))\n",
        "    self.rewards_history.append(reward)\n",
        "    return reward\n",
        "\n",
        "\n",
        "  def genie_reward(self):\n",
        "    '''\n",
        "    the best expected reward after pulling self.total_pull times\n",
        "    '''\n",
        "    best_mu = max(self.mu)\n",
        "    return self.total_pull * best_mu\n",
        "\n",
        "  def my_rewards(self):\n",
        "    return sum(self.rewards_history)\n",
        "\n",
        "  def clear_reward_hist(self):\n",
        "    self.rewards_history = []\n",
        "    self.total_pull = 0"
      ],
      "execution_count": 105,
      "outputs": []
    },
    {
      "cell_type": "markdown",
      "metadata": {
        "id": "AV8CUnF2WgUD"
      },
      "source": [
        "\n",
        "\n",
        "## Goal of this exercise\n",
        "1. Basic Elimination algorithm implementation\n",
        "2. Plot the regret VS horizon ($n$).\n",
        "3. Implement the doubling trick\n",
        "4. Plot the regret of the doubling trick VS horizon.\n",
        "\n",
        "Please refer to previous assignment for tips.\n"
      ]
    },
    {
      "cell_type": "code",
      "metadata": {
        "id": "9o3-8o83W9CW"
      },
      "source": [
        "\n",
        "\n",
        "NUM_ARMS = 2\n",
        "\n",
        "class Empirical_mean:\n",
        "    def __init__(self,num_arms):\n",
        "        self.rewards = np.zeros(num_arms)\n",
        "        self.count = np.zeros(num_arms)\n",
        "        self.mean =  np.zeros(num_arms)\n",
        "    def add_new_reward(self, reward, indx):\n",
        "        self.rewards[indx] += reward\n",
        "        self.count[indx] += 1\n",
        "        self.mean[indx] = self.rewards[indx] / self.count[indx]\n",
        "    def mean(self, indx):\n",
        "        return self.mean[indx]\n",
        "    def reset(self):\n",
        "        self.rewards = self.rewards * 0 \n",
        "        self.count = self.rewards * 0 \n",
        "        self.mean =  self.rewards * 0 \n",
        "\n",
        "\n",
        "def elimination(arm, N, num_arms=NUM_ARMS):\n",
        "  '''\n",
        "  arm: Arm object.\n",
        "  N: the ultimate time horizon\n",
        "  delta: separation\n",
        "  m: int. The exploration time for EACH arm\n",
        "  num_arms: int. The total number of arms\n",
        "  '''\n",
        "  delta=1\n",
        "  B = [i for i in range(num_arms)] # here live index of alive arms \n",
        "  mean_vals = Empirical_mean(num_arms)\n",
        "  while len(B) > 1: ##repeat untill only 1 left\n",
        "      mean_vals.reset()\n",
        "      m = int( (2*np.log(N * (delta**2) )) / delta**2  )\n",
        "      if m <= 1: break\n",
        "    \n",
        "      # PHASE 1: round robin\n",
        "      for i in range(m): \n",
        "        for k in B:\n",
        "          mean_vals.add_new_reward(arm.pull_arm(k), k)\n",
        "\n",
        "      # PHASE 2: decide who stays\n",
        "      C = np.sqrt(np.log(N*(delta**2))/(2*m))\n",
        "      max_muo = max([mean_vals.mean[b] - C for b in B])\n",
        "      # print(\"max measn\", max_muo )\n",
        "      # print(\"B + C \", mean_vals.mean + C)\n",
        "      B = [b for b in B if (mean_vals.mean[b] + C >= max_muo)]\n",
        "      delta *= 0.5\n",
        "      # print(\"size of C {} \\t size of B {} \\t delta {} \\t m val {}\".format(C, len(B), delta, m))\n",
        "  # print(\"size of B~~~~~~~~~~\", len(B))\n",
        "  pulls_left = int(N - sum(mean_vals.count))\n",
        "  if pulls_left > 0 : arm.pull_arm(B.pop(), pull_time = pulls_left) ## pull arm N - m*num_arms\n",
        "  return arm.my_rewards()\n",
        "\n",
        "\n",
        "\n",
        "def doubling_elimination(arm, N, num_arms=NUM_ARMS):\n",
        "  total_run = 0\n",
        "  r = 8\n",
        "  delta = arm.delta\n",
        "  #\n",
        "  while total_run < N:\n",
        "    r += 1\n",
        "    N_r = num_arms ** r\n",
        "    if total_run + N_r > N:\n",
        "      N_r = N - total_run\n",
        "    m_r = max(1, 4/delta**2*np.log(N_r * delta**2 / 4))\n",
        "    m_r = int(m_r)\n",
        "    elimination(arm, N=m_r, num_arms=num_arms)\n",
        "    total_run += N_r\n",
        "  return arm.my_rewards()\n",
        "\n"
      ],
      "execution_count": 106,
      "outputs": []
    },
    {
      "cell_type": "code",
      "metadata": {
        "id": "Svfee6G8XCwM"
      },
      "source": [
        "\n",
        "\n",
        "def regret_vs_horizon(Ns:list, REPEAT:int, algorithm: type(lambda x: None)):\n",
        "  regret = []\n",
        "  mu = [0.1, 0.0]\n",
        "  my_arm = Gaussian_Arm(NUM_ARMS, mu=mu)\n",
        "  for NUM_RUNs in Ns:\n",
        "    print(NUM_RUNs)\n",
        "    cur_regret = 0\n",
        "    for repeat in range(REPEAT):\n",
        "      rewards = algorithm(my_arm, NUM_RUNs, my_arm.num_arms) ## everyrun NUM_RUNs += 10000\n",
        "      cur_regret += my_arm.genie_reward() - rewards\n",
        "      my_arm.clear_reward_hist()\n",
        "      #\n",
        "    cur_regret /= REPEAT\n",
        "    regret.append(cur_regret)\n",
        "    #\n",
        "  return regret\n",
        "\n",
        "\n",
        "\n",
        "import plotly.graph_objects as graph\n",
        "def plot(all_history:list, title:str, log = False):\n",
        "    \"\"\"\n",
        "    input:\n",
        "        all_history: list of dicts to plot\n",
        "    ret:\n",
        "        None: show plotly fig\n",
        "    \"\"\"\n",
        "    fig = graph.Figure(layout = graph.Layout(title=graph.layout.Title(text=title))) \n",
        "    for i in range(len(all_history)):\n",
        "        fig.add_trace(graph.Scatter(x = all_history[i][\"x\"], \n",
        "                                    y = all_history[i][\"y\"],\n",
        "                                    name = all_history[i][\"legend\"])) \n",
        "    if log: fig.update_xaxes(type=\"log\")\n",
        "    fig.show()\n",
        "\n",
        "\n"
      ],
      "execution_count": 107,
      "outputs": []
    },
    {
      "cell_type": "code",
      "metadata": {
        "colab": {
          "base_uri": "https://localhost:8080/"
        },
        "id": "8TZWJNKvJnHe",
        "outputId": "cce7547c-8986-4c4a-9b9a-4a2fafd4f9bd"
      },
      "source": [
        "\n",
        "Ninit = 200\n",
        "Ns  = [Ninit * (2**i) for i in range(1, 10)]\n",
        "UCB_regret = regret_vs_horizon(Ns, REPEAT=300, algorithm=elimination)\n"
      ],
      "execution_count": null,
      "outputs": [
        {
          "output_type": "stream",
          "text": [
            "400\n",
            "800\n",
            "1600\n",
            "3200\n"
          ],
          "name": "stdout"
        }
      ]
    },
    {
      "cell_type": "code",
      "metadata": {
        "id": "3zYBX0ND7uFa"
      },
      "source": [
        "\n",
        "Ninit = 200\n",
        "Ns  = [Ninit * (2**i) for i in range(1, 10)]\n",
        "UCB_doubling_regret = regret_vs_horizon(Ns, REPEAT=200, algorithm=doubling_elimination)\n"
      ],
      "execution_count": null,
      "outputs": []
    },
    {
      "cell_type": "code",
      "metadata": {
        "id": "Nu7rC0e2Xwkv"
      },
      "source": [
        "\n",
        "mean_ETC_regret = {\"legend\": \"mean_ETC_regret\", \n",
        "                   \"x\": Ns , \n",
        "                   \"y\": UCB_regret}\n",
        "\n",
        "mean_ETC_doubling_regret =  {\"legend\": \"mean_ETC_regret\", \n",
        "                             \"x\": Ns , \n",
        "                             \"y\": UCB_doubling_regret}\n",
        "\n",
        "# all_history = [mean_ETC_regret, mean_ETC_doubling_regret ]\n",
        "\n",
        "plot([mean_ETC_regret], title=\"regret VS horizon - linear\" , log = False)\n",
        "plot([mean_ETC_regret], title=\"regret VS horizon - Log\" , log = True)\n",
        "\n",
        "plot([mean_ETC_doubling_regret], title=\"doubling_regret VS horizon - linear\" , log = False)\n",
        "plot([mean_ETC_doubling_regret], title=\"doubling_regret VS horizon - Log\" , log = True)\n",
        "\n"
      ],
      "execution_count": null,
      "outputs": []
    }
  ]
}