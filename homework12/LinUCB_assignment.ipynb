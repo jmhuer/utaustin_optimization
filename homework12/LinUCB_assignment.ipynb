{
  "nbformat": 4,
  "nbformat_minor": 0,
  "metadata": {
    "colab": {
      "name": "LinUCB-assignment.ipynb",
      "provenance": [],
      "collapsed_sections": [],
      "include_colab_link": true
    },
    "kernelspec": {
      "name": "python3",
      "display_name": "Python 3"
    }
  },
  "cells": [
    {
      "cell_type": "markdown",
      "metadata": {
        "id": "view-in-github",
        "colab_type": "text"
      },
      "source": [
        "<a href=\"https://colab.research.google.com/github/jmhuer/utaustin_optimization/blob/main/homework12/LinUCB_assignment.ipynb\" target=\"_parent\"><img src=\"https://colab.research.google.com/assets/colab-badge.svg\" alt=\"Open In Colab\"/></a>"
      ]
    },
    {
      "cell_type": "markdown",
      "metadata": {
        "id": "XaImnLHsjLbX"
      },
      "source": [
        "# LinUCB\n",
        "\n",
        "In this exercise, we will start looking at linear bandit with finite arms.\n",
        "\n",
        "The set-up is captured by the following python class:"
      ]
    },
    {
      "cell_type": "code",
      "metadata": {
        "id": "xujBvOrIjKzo"
      },
      "source": [
        "import numpy as np\n",
        "from matplotlib import pylab as plt\n",
        "from tqdm import tqdm\n",
        "\n",
        "# (4 choose 2)\n",
        "available_arms = np.array([\n",
        "  (1, 1, 0, 0),\n",
        "  (1, 0, 1, 0),\n",
        "  (1, 0, 0, 1),\n",
        "  (0, 1, 1, 0),\n",
        "  (0, 1, 0, 1),\n",
        "  (0, 0, 1, 1)])\n",
        "\n",
        "class context_arm(object):\n",
        "  def __init__(self, available_arms=available_arms,gaussian_bandit=True):\n",
        "    self.theta = np.array((0.1, 0.2, 0.2, 0.3))\n",
        "    self.available_arms = np.array(available_arms)\n",
        "    self.gaussian_bandit = gaussian_bandit\n",
        "\n",
        "  def pull_arm(self, arm_idx):\n",
        "    arm = self.available_arms[arm_idx]\n",
        "    if self.gaussian_bandit:\n",
        "      reward = self.theta.dot(arm) + np.random.randn() / 2 \n",
        "    else:  # Bernoulli bandit\n",
        "      reward = 1 if np.random.random()< self.theta.dot(arm) else 0\n",
        "    return reward\n",
        "  \n",
        "  def genie_reward(self, arms=None):\n",
        "    if not arms:\n",
        "      arms = self.available_arms\n",
        "    if self.gaussian_bandit:\n",
        "      reward = np.max([self.theta.dot(arm) for arm in arms]) \n",
        "    else:  # Bernoulli bandit\n",
        "      reward = np.max([self.theta.dot(arm) for arm in arms])\n",
        "    return reward"
      ],
      "execution_count": null,
      "outputs": []
    },
    {
      "cell_type": "markdown",
      "metadata": {
        "id": "KUKUOx41jMnO"
      },
      "source": [
        "\n",
        "## Goal of this exercise\n",
        "1. Basic LinUCB algorithm implementation, for both Gaussian Reward and Bernoulli rewards\n",
        "2. Plot the regret VS horizon ($n$).\n",
        "3. Compare LinUCB with original UCB (for Gaussian rewards only) and KL-UCB (for Bernoulli rewards only)\n",
        "\n"
      ]
    }
  ]
}