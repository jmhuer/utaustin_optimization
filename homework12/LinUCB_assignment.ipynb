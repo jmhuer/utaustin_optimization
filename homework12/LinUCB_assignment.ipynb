{
  "nbformat": 4,
  "nbformat_minor": 0,
  "metadata": {
    "colab": {
      "name": "LinUCB-assignment.ipynb",
      "provenance": [],
      "collapsed_sections": [],
      "include_colab_link": true
    },
    "kernelspec": {
      "name": "python3",
      "display_name": "Python 3"
    }
  },
  "cells": [
    {
      "cell_type": "markdown",
      "metadata": {
        "id": "view-in-github",
        "colab_type": "text"
      },
      "source": [
        "<a href=\"https://colab.research.google.com/github/jmhuer/utaustin_optimization/blob/main/homework12/LinUCB_assignment.ipynb\" target=\"_parent\"><img src=\"https://colab.research.google.com/assets/colab-badge.svg\" alt=\"Open In Colab\"/></a>"
      ]
    },
    {
      "cell_type": "markdown",
      "metadata": {
        "id": "XaImnLHsjLbX"
      },
      "source": [
        "# LinUCB\n",
        "\n",
        "In this exercise, we will start looking at linear bandit with finite arms.\n",
        "\n",
        "The set-up is captured by the following python class:"
      ]
    },
    {
      "cell_type": "code",
      "metadata": {
        "id": "xujBvOrIjKzo"
      },
      "source": [
        "import numpy as np\n",
        "from matplotlib import pylab as plt\n",
        "from tqdm import tqdm\n",
        "\n",
        "# (4 choose 2)\n",
        "available_arms = np.array([\n",
        "  (1, 1, 0, 0),\n",
        "  (1, 0, 1, 0),\n",
        "  (1, 0, 0, 1),\n",
        "  (0, 1, 1, 0),\n",
        "  (0, 1, 0, 1),\n",
        "  (0, 0, 1, 1)])\n",
        "\n",
        "class Context_arm(object):\n",
        "  def __init__(self, available_arms=available_arms,gaussian_bandit=True):\n",
        "    self.available_arms = np.array(available_arms)\n",
        "    self.gaussian_bandit = gaussian_bandit\n",
        "    self.num_arms = len(self.available_arms)\n",
        "    # self.theta = np.array((0.1, 0.2, 0.2, 0.3))\n",
        "    self.thetas = np.array([[0.1, 0.2, 0.2, 0.3],] * self.num_arms) #one theta for each arm since we are implemnting a disjoin Lin-UCB\n",
        "    self.num_features = len(self.available_arms[0])\n",
        "\n",
        "  def pull_arm(self, arm_idx):\n",
        "    arm = self.available_arms[arm_idx]\n",
        "    if self.gaussian_bandit:\n",
        "      reward = self.theta.dot(arm) + np.random.randn() / 2 \n",
        "    else:  # Bernoulli bandit\n",
        "      reward = 1 if np.random.random()< self.theta.dot(arm) else 0\n",
        "    return reward\n",
        "  \n",
        "  def genie_reward(self, arms=None):\n",
        "    if not arms:\n",
        "      arms = self.available_arms\n",
        "    if self.gaussian_bandit:\n",
        "      reward = np.max([self.theta.dot(arm) for arm in arms]) \n",
        "    else:  # Bernoulli bandit\n",
        "      reward = np.max([self.theta.dot(arm) for arm in arms])\n",
        "    return reward"
      ],
      "execution_count": 1,
      "outputs": []
    },
    {
      "cell_type": "markdown",
      "metadata": {
        "id": "KUKUOx41jMnO"
      },
      "source": [
        "\n",
        "## Goal of this exercise\n",
        "1. Basic LinUCB algorithm implementation, for both Gaussian Reward and Bernoulli rewards\n",
        "2. Plot the regret VS horizon ($n$).\n",
        "3. Compare LinUCB with original UCB (for Gaussian rewards only) and KL-UCB (for Bernoulli rewards only)\n",
        "\n"
      ]
    },
    {
      "cell_type": "code",
      "metadata": {
        "id": "fd6P3aLgwO5R"
      },
      "source": [
        "\n",
        "\n",
        "NUM_ARMS = 2\n",
        "\n",
        "\n",
        "def LinUCB(arm, N, num_arms=NUM_ARMS): \n",
        "  ##pre alg calculations\n",
        "  delta = 1/N**2 #desiree confidence\n",
        "  alpha = 1 + np.sqrt(np.log(2/delta) / 2)\n",
        "  bonus = lambda x, a, t: alpha * np.sqrt(x.T @ np.linalg.inv(A[a]) @ x) \n",
        "\n",
        "  #I will initialize A, b before main loop for simplicity, yahoo paper does it when new actions show up\n",
        "  A = [np.identity(arm.num_features) for i in range(arm.num_arms)]\n",
        "  b = [np.zeros(arm.num_features) for i in range(arm.num_arms)]\n",
        "\n",
        "  # MAIN LOOOP\n",
        "  for t in range(N):\n",
        "      arm.thetas = [np.linalg.inv(Aa) @ ba for (Aa, ba) in zip(A, b)] #disjoint implementation meaning thetas are not shared accross arms \n",
        "      UCBbest_arm = np.argmax([theta.T @ xt + bonus(xt, a, t) for (xt, a, theta) in zip(arm.available_arms, range(arm.num_arms), arm.thetas)])\n",
        "      rt = arm.pull_arm(UCBbest_arm)\n",
        "      A = [Aa + xt @ xt.T for Aa in A]\n",
        "      b = [ba + rt @ xt for ba in b]\n",
        "  # DONE\n",
        "  return arm.my_rewards()\n",
        "\n"
      ],
      "execution_count": 2,
      "outputs": []
    },
    {
      "cell_type": "code",
      "metadata": {
        "id": "j9QJYhNPwQnV"
      },
      "source": [
        "\n",
        "def regret_vs_horizon(Ns:list, REPEAT:int, algorithm: type(lambda x: None)):\n",
        "  regret = []\n",
        "  # mu = [0.1, 0.0]\n",
        "  my_arm = Context_arm()\n",
        "  for NUM_RUNs in Ns:\n",
        "    print(NUM_RUNs)\n",
        "    cur_regret = 0\n",
        "    for repeat in range(REPEAT):\n",
        "        rewards = algorithm(my_arm, NUM_RUNs, my_arm.num_arms) ## everyrun NUM_RUNs += 10000\n",
        "        cur_regret += my_arm.genie_reward() - rewards\n",
        "        my_arm.clear_reward_hist()\n",
        "    cur_regret /= REPEAT\n",
        "    regret.append(cur_regret)\n",
        "    #\n",
        "  return regret\n",
        "\n",
        "\n",
        "import plotly.graph_objects as graph\n",
        "def plot(all_history:list, title:str, log = False):\n",
        "    \"\"\"\n",
        "    input:\n",
        "        all_history: list of dicts to plot\n",
        "    ret:\n",
        "        None: show plotly fig\n",
        "    \"\"\"\n",
        "    fig = graph.Figure(layout = graph.Layout(title=graph.layout.Title(text=title))) \n",
        "    for i in range(len(all_history)):\n",
        "        fig.add_trace(graph.Scatter(x = all_history[i][\"x\"], \n",
        "                                    y = all_history[i][\"y\"],\n",
        "                                    name = all_history[i][\"legend\"])) \n",
        "    if log: fig.update_xaxes(type=\"log\")\n",
        "    fig.show()\n",
        "\n"
      ],
      "execution_count": 3,
      "outputs": []
    },
    {
      "cell_type": "code",
      "metadata": {
        "colab": {
          "base_uri": "https://localhost:8080/",
          "height": 392
        },
        "id": "tNHS0IxrwSpE",
        "outputId": "5bc94e16-8e6f-41a7-be5e-eaf637bedb49"
      },
      "source": [
        "\n",
        "Ninit = 100\n",
        "Ns  = [Ninit * (2**i) for i in range(1, 11)]\n",
        "UCB_regret = regret_vs_horizon(Ns, REPEAT=200, algorithm=LinUCB)\n",
        "\n",
        "\n",
        "plot_UCB_regret = {\"legend\": \"mean_UBC_regret\", \n",
        "                   \"x\": Ns , \n",
        "                   \"y\": UCB_regret}\n",
        "\n",
        "plot([plot_UCB_regret], title=\"regret VS horizon - linear\" , log = False)\n",
        "plot([plot_UCB_regret], title=\"regret VS horizon - Log\" , log = True)\n"
      ],
      "execution_count": 4,
      "outputs": [
        {
          "output_type": "stream",
          "text": [
            "200\n"
          ],
          "name": "stdout"
        },
        {
          "output_type": "error",
          "ename": "AttributeError",
          "evalue": "ignored",
          "traceback": [
            "\u001b[0;31m---------------------------------------------------------------------------\u001b[0m",
            "\u001b[0;31mAttributeError\u001b[0m                            Traceback (most recent call last)",
            "\u001b[0;32m<ipython-input-4-a18e668625b6>\u001b[0m in \u001b[0;36m<module>\u001b[0;34m()\u001b[0m\n\u001b[1;32m      2\u001b[0m \u001b[0mNinit\u001b[0m \u001b[0;34m=\u001b[0m \u001b[0;36m100\u001b[0m\u001b[0;34m\u001b[0m\u001b[0;34m\u001b[0m\u001b[0m\n\u001b[1;32m      3\u001b[0m \u001b[0mNs\u001b[0m  \u001b[0;34m=\u001b[0m \u001b[0;34m[\u001b[0m\u001b[0mNinit\u001b[0m \u001b[0;34m*\u001b[0m \u001b[0;34m(\u001b[0m\u001b[0;36m2\u001b[0m\u001b[0;34m**\u001b[0m\u001b[0mi\u001b[0m\u001b[0;34m)\u001b[0m \u001b[0;32mfor\u001b[0m \u001b[0mi\u001b[0m \u001b[0;32min\u001b[0m \u001b[0mrange\u001b[0m\u001b[0;34m(\u001b[0m\u001b[0;36m1\u001b[0m\u001b[0;34m,\u001b[0m \u001b[0;36m11\u001b[0m\u001b[0;34m)\u001b[0m\u001b[0;34m]\u001b[0m\u001b[0;34m\u001b[0m\u001b[0;34m\u001b[0m\u001b[0m\n\u001b[0;32m----> 4\u001b[0;31m \u001b[0mUCB_regret\u001b[0m \u001b[0;34m=\u001b[0m \u001b[0mregret_vs_horizon\u001b[0m\u001b[0;34m(\u001b[0m\u001b[0mNs\u001b[0m\u001b[0;34m,\u001b[0m \u001b[0mREPEAT\u001b[0m\u001b[0;34m=\u001b[0m\u001b[0;36m200\u001b[0m\u001b[0;34m,\u001b[0m \u001b[0malgorithm\u001b[0m\u001b[0;34m=\u001b[0m\u001b[0mLinUCB\u001b[0m\u001b[0;34m)\u001b[0m\u001b[0;34m\u001b[0m\u001b[0;34m\u001b[0m\u001b[0m\n\u001b[0m\u001b[1;32m      5\u001b[0m \u001b[0;34m\u001b[0m\u001b[0m\n\u001b[1;32m      6\u001b[0m \u001b[0;34m\u001b[0m\u001b[0m\n",
            "\u001b[0;32m<ipython-input-3-b880c208bfd3>\u001b[0m in \u001b[0;36mregret_vs_horizon\u001b[0;34m(Ns, REPEAT, algorithm)\u001b[0m\n\u001b[1;32m      8\u001b[0m     \u001b[0mcur_regret\u001b[0m \u001b[0;34m=\u001b[0m \u001b[0;36m0\u001b[0m\u001b[0;34m\u001b[0m\u001b[0;34m\u001b[0m\u001b[0m\n\u001b[1;32m      9\u001b[0m     \u001b[0;32mfor\u001b[0m \u001b[0mrepeat\u001b[0m \u001b[0;32min\u001b[0m \u001b[0mrange\u001b[0m\u001b[0;34m(\u001b[0m\u001b[0mREPEAT\u001b[0m\u001b[0;34m)\u001b[0m\u001b[0;34m:\u001b[0m\u001b[0;34m\u001b[0m\u001b[0;34m\u001b[0m\u001b[0m\n\u001b[0;32m---> 10\u001b[0;31m         \u001b[0mrewards\u001b[0m \u001b[0;34m=\u001b[0m \u001b[0malgorithm\u001b[0m\u001b[0;34m(\u001b[0m\u001b[0mmy_arm\u001b[0m\u001b[0;34m,\u001b[0m \u001b[0mNUM_RUNs\u001b[0m\u001b[0;34m,\u001b[0m \u001b[0mmy_arm\u001b[0m\u001b[0;34m.\u001b[0m\u001b[0mnum_arms\u001b[0m\u001b[0;34m)\u001b[0m \u001b[0;31m## everyrun NUM_RUNs += 10000\u001b[0m\u001b[0;34m\u001b[0m\u001b[0;34m\u001b[0m\u001b[0m\n\u001b[0m\u001b[1;32m     11\u001b[0m         \u001b[0mcur_regret\u001b[0m \u001b[0;34m+=\u001b[0m \u001b[0mmy_arm\u001b[0m\u001b[0;34m.\u001b[0m\u001b[0mgenie_reward\u001b[0m\u001b[0;34m(\u001b[0m\u001b[0;34m)\u001b[0m \u001b[0;34m-\u001b[0m \u001b[0mrewards\u001b[0m\u001b[0;34m\u001b[0m\u001b[0;34m\u001b[0m\u001b[0m\n\u001b[1;32m     12\u001b[0m         \u001b[0mmy_arm\u001b[0m\u001b[0;34m.\u001b[0m\u001b[0mclear_reward_hist\u001b[0m\u001b[0;34m(\u001b[0m\u001b[0;34m)\u001b[0m\u001b[0;34m\u001b[0m\u001b[0;34m\u001b[0m\u001b[0m\n",
            "\u001b[0;32m<ipython-input-2-de4b288ae8c4>\u001b[0m in \u001b[0;36mLinUCB\u001b[0;34m(arm, N, num_arms)\u001b[0m\n\u001b[1;32m     18\u001b[0m       \u001b[0marm\u001b[0m\u001b[0;34m.\u001b[0m\u001b[0mthetas\u001b[0m \u001b[0;34m=\u001b[0m \u001b[0;34m[\u001b[0m\u001b[0mnp\u001b[0m\u001b[0;34m.\u001b[0m\u001b[0mlinalg\u001b[0m\u001b[0;34m.\u001b[0m\u001b[0minv\u001b[0m\u001b[0;34m(\u001b[0m\u001b[0mAa\u001b[0m\u001b[0;34m)\u001b[0m \u001b[0;34m@\u001b[0m \u001b[0mba\u001b[0m \u001b[0;32mfor\u001b[0m \u001b[0;34m(\u001b[0m\u001b[0mAa\u001b[0m\u001b[0;34m,\u001b[0m \u001b[0mba\u001b[0m\u001b[0;34m)\u001b[0m \u001b[0;32min\u001b[0m \u001b[0mzip\u001b[0m\u001b[0;34m(\u001b[0m\u001b[0mA\u001b[0m\u001b[0;34m,\u001b[0m \u001b[0mb\u001b[0m\u001b[0;34m)\u001b[0m\u001b[0;34m]\u001b[0m \u001b[0;31m#disjoint implementation meaning thetas are not shared accross arms\u001b[0m\u001b[0;34m\u001b[0m\u001b[0;34m\u001b[0m\u001b[0m\n\u001b[1;32m     19\u001b[0m       \u001b[0mUCBbest_arm\u001b[0m \u001b[0;34m=\u001b[0m \u001b[0mnp\u001b[0m\u001b[0;34m.\u001b[0m\u001b[0margmax\u001b[0m\u001b[0;34m(\u001b[0m\u001b[0;34m[\u001b[0m\u001b[0mtheta\u001b[0m\u001b[0;34m.\u001b[0m\u001b[0mT\u001b[0m \u001b[0;34m@\u001b[0m \u001b[0mxt\u001b[0m \u001b[0;34m+\u001b[0m \u001b[0mbonus\u001b[0m\u001b[0;34m(\u001b[0m\u001b[0mxt\u001b[0m\u001b[0;34m,\u001b[0m \u001b[0ma\u001b[0m\u001b[0;34m,\u001b[0m \u001b[0mt\u001b[0m\u001b[0;34m)\u001b[0m \u001b[0;32mfor\u001b[0m \u001b[0;34m(\u001b[0m\u001b[0mxt\u001b[0m\u001b[0;34m,\u001b[0m \u001b[0ma\u001b[0m\u001b[0;34m,\u001b[0m \u001b[0mtheta\u001b[0m\u001b[0;34m)\u001b[0m \u001b[0;32min\u001b[0m \u001b[0mzip\u001b[0m\u001b[0;34m(\u001b[0m\u001b[0marm\u001b[0m\u001b[0;34m.\u001b[0m\u001b[0mavailable_arms\u001b[0m\u001b[0;34m,\u001b[0m \u001b[0mrange\u001b[0m\u001b[0;34m(\u001b[0m\u001b[0marm\u001b[0m\u001b[0;34m.\u001b[0m\u001b[0mnum_arms\u001b[0m\u001b[0;34m)\u001b[0m\u001b[0;34m,\u001b[0m \u001b[0marm\u001b[0m\u001b[0;34m.\u001b[0m\u001b[0mthetas\u001b[0m\u001b[0;34m)\u001b[0m\u001b[0;34m]\u001b[0m\u001b[0;34m)\u001b[0m\u001b[0;34m\u001b[0m\u001b[0;34m\u001b[0m\u001b[0m\n\u001b[0;32m---> 20\u001b[0;31m       \u001b[0mrt\u001b[0m \u001b[0;34m=\u001b[0m \u001b[0marm\u001b[0m\u001b[0;34m.\u001b[0m\u001b[0mpull_arm\u001b[0m\u001b[0;34m(\u001b[0m\u001b[0mUCBbest_arm\u001b[0m\u001b[0;34m)\u001b[0m\u001b[0;34m\u001b[0m\u001b[0;34m\u001b[0m\u001b[0m\n\u001b[0m\u001b[1;32m     21\u001b[0m       \u001b[0mA\u001b[0m \u001b[0;34m=\u001b[0m \u001b[0;34m[\u001b[0m\u001b[0mAa\u001b[0m \u001b[0;34m+\u001b[0m \u001b[0mxt\u001b[0m \u001b[0;34m@\u001b[0m \u001b[0mxt\u001b[0m\u001b[0;34m.\u001b[0m\u001b[0mT\u001b[0m \u001b[0;32mfor\u001b[0m \u001b[0mAa\u001b[0m \u001b[0;32min\u001b[0m \u001b[0mA\u001b[0m\u001b[0;34m]\u001b[0m\u001b[0;34m\u001b[0m\u001b[0;34m\u001b[0m\u001b[0m\n\u001b[1;32m     22\u001b[0m       \u001b[0mb\u001b[0m \u001b[0;34m=\u001b[0m \u001b[0;34m[\u001b[0m\u001b[0mba\u001b[0m \u001b[0;34m+\u001b[0m \u001b[0mrt\u001b[0m \u001b[0;34m@\u001b[0m \u001b[0mxt\u001b[0m \u001b[0;32mfor\u001b[0m \u001b[0mba\u001b[0m \u001b[0;32min\u001b[0m \u001b[0mb\u001b[0m\u001b[0;34m]\u001b[0m\u001b[0;34m\u001b[0m\u001b[0;34m\u001b[0m\u001b[0m\n",
            "\u001b[0;32m<ipython-input-1-fe3277dafb0b>\u001b[0m in \u001b[0;36mpull_arm\u001b[0;34m(self, arm_idx)\u001b[0m\n\u001b[1;32m     24\u001b[0m     \u001b[0marm\u001b[0m \u001b[0;34m=\u001b[0m \u001b[0mself\u001b[0m\u001b[0;34m.\u001b[0m\u001b[0mavailable_arms\u001b[0m\u001b[0;34m[\u001b[0m\u001b[0marm_idx\u001b[0m\u001b[0;34m]\u001b[0m\u001b[0;34m\u001b[0m\u001b[0;34m\u001b[0m\u001b[0m\n\u001b[1;32m     25\u001b[0m     \u001b[0;32mif\u001b[0m \u001b[0mself\u001b[0m\u001b[0;34m.\u001b[0m\u001b[0mgaussian_bandit\u001b[0m\u001b[0;34m:\u001b[0m\u001b[0;34m\u001b[0m\u001b[0;34m\u001b[0m\u001b[0m\n\u001b[0;32m---> 26\u001b[0;31m       \u001b[0mreward\u001b[0m \u001b[0;34m=\u001b[0m \u001b[0mself\u001b[0m\u001b[0;34m.\u001b[0m\u001b[0mtheta\u001b[0m\u001b[0;34m.\u001b[0m\u001b[0mdot\u001b[0m\u001b[0;34m(\u001b[0m\u001b[0marm\u001b[0m\u001b[0;34m)\u001b[0m \u001b[0;34m+\u001b[0m \u001b[0mnp\u001b[0m\u001b[0;34m.\u001b[0m\u001b[0mrandom\u001b[0m\u001b[0;34m.\u001b[0m\u001b[0mrandn\u001b[0m\u001b[0;34m(\u001b[0m\u001b[0;34m)\u001b[0m \u001b[0;34m/\u001b[0m \u001b[0;36m2\u001b[0m\u001b[0;34m\u001b[0m\u001b[0;34m\u001b[0m\u001b[0m\n\u001b[0m\u001b[1;32m     27\u001b[0m     \u001b[0;32melse\u001b[0m\u001b[0;34m:\u001b[0m  \u001b[0;31m# Bernoulli bandit\u001b[0m\u001b[0;34m\u001b[0m\u001b[0;34m\u001b[0m\u001b[0m\n\u001b[1;32m     28\u001b[0m       \u001b[0mreward\u001b[0m \u001b[0;34m=\u001b[0m \u001b[0;36m1\u001b[0m \u001b[0;32mif\u001b[0m \u001b[0mnp\u001b[0m\u001b[0;34m.\u001b[0m\u001b[0mrandom\u001b[0m\u001b[0;34m.\u001b[0m\u001b[0mrandom\u001b[0m\u001b[0;34m(\u001b[0m\u001b[0;34m)\u001b[0m\u001b[0;34m<\u001b[0m \u001b[0mself\u001b[0m\u001b[0;34m.\u001b[0m\u001b[0mtheta\u001b[0m\u001b[0;34m.\u001b[0m\u001b[0mdot\u001b[0m\u001b[0;34m(\u001b[0m\u001b[0marm\u001b[0m\u001b[0;34m)\u001b[0m \u001b[0;32melse\u001b[0m \u001b[0;36m0\u001b[0m\u001b[0;34m\u001b[0m\u001b[0;34m\u001b[0m\u001b[0m\n",
            "\u001b[0;31mAttributeError\u001b[0m: 'Context_arm' object has no attribute 'theta'"
          ]
        }
      ]
    }
  ]
}