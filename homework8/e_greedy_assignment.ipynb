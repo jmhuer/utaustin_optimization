{
  "nbformat": 4,
  "nbformat_minor": 0,
  "metadata": {
    "colab": {
      "name": "e-greedy-assignment.ipynb",
      "provenance": [],
      "collapsed_sections": [],
      "toc_visible": true,
      "include_colab_link": true
    },
    "kernelspec": {
      "name": "python3",
      "display_name": "Python 3"
    }
  },
  "cells": [
    {
      "cell_type": "markdown",
      "metadata": {
        "id": "view-in-github",
        "colab_type": "text"
      },
      "source": [
        "<a href=\"https://colab.research.google.com/github/jmhuer/utaustin_optimization/blob/main/homework8/e_greedy_assignment.ipynb\" target=\"_parent\"><img src=\"https://colab.research.google.com/assets/colab-badge.svg\" alt=\"Open In Colab\"/></a>"
      ]
    },
    {
      "cell_type": "markdown",
      "metadata": {
        "id": "cg6j20e4VJDm"
      },
      "source": [
        "\n",
        "\n",
        "```\n",
        "# This is formatted as code\n",
        "```\n",
        "\n",
        "# Epsilon Greedy\n",
        "\n",
        "In this excercises, we will be playing with the Multi-arm bandit problem with the Epsilon Greedy algorithm.\n",
        "\n",
        "## Setup\n",
        "\n",
        "As before, consider unstructural bandit problem. Suppose we have $k$ arms, each with random rewards $p_i = u_i + \\epsilon$ where $\\epsilon$ is draw from i.i.d. standard gaussian. (Note that we only require $\\epsilon$ to be sub-gaussian for the analysis to go through)\n",
        "\n",
        "The following codes is capturing the setup."
      ]
    },
    {
      "cell_type": "code",
      "metadata": {
        "id": "EVZB0Qo2VJjv"
      },
      "source": [
        "import numpy as np\n",
        "import pdb\n",
        "import numpy as np\n",
        "import pdb\n",
        "import matplotlib.pyplot as plt\n",
        "import plotly.graph_objects as graph\n",
        "\n",
        "class Gaussian_Arm:\n",
        "  def __init__(self, num_arms, mu=None):\n",
        "    '''\n",
        "    num_arms: (int). the number of arms\n",
        "    mu: (None or list-type). the mean of the reward of each arm.\n",
        "        if set to None, a random vector will be generated.\n",
        "    '''\n",
        "    if num_arms <= 1 or not isinstance(num_arms, int):\n",
        "      print('number of arms has an int that is at least two')\n",
        "      return\n",
        "    \n",
        "    self.num_arms = num_arms\n",
        "    #\n",
        "    if mu:\n",
        "      self.mu = np.asarray(mu)\n",
        "      if len(self.mu) != num_arms:\n",
        "        print('The lenth of mu does not match the number of arms')\n",
        "        return\n",
        "    else:\n",
        "      self.mu = np.random.rand((num_arms))\n",
        "    # \n",
        "    self.delta = max(self.mu) - min(self.mu)\n",
        "    #\n",
        "\n",
        "    # keep track of the rewards for the user\n",
        "    self.rewards_history = []\n",
        "    # keep track of how many times the arms have been pulled\n",
        "    self.total_pull = 0 \n",
        "\n",
        "  def pull_arm(self, arm_id=-1):\n",
        "    if arm_id < 0 or arm_id >= self.num_arms:\n",
        "      print('please specify arm id in the range of 0-%d' % (self.num_arms))\n",
        "      return\n",
        "    self.total_pull += 1\n",
        "    # Generate reward\n",
        "    reward = self.mu[arm_id] + np.random.randn()\n",
        "    self.rewards_history.append(reward)\n",
        "    return reward\n",
        "\n",
        "\n",
        "  def genie_reward(self):\n",
        "    '''\n",
        "    the best expected reward after pulling self.total_pull times\n",
        "    '''\n",
        "    best_mu = max(self.mu)\n",
        "    return self.total_pull * best_mu\n",
        "\n",
        "  def my_rewards(self):†\n",
        "    return sum(self.rewards_history)\n",
        "\n",
        "  def clear_reward_hist(self):\n",
        "    self.rewards_history = []\n",
        "    self.total_pull = 0\n",
        "\n"
      ],
      "execution_count": 5,
      "outputs": []
    },
    {
      "cell_type": "markdown",
      "metadata": {
        "id": "8yLTWMxeVFFO"
      },
      "source": [
        "## Goal\n",
        "\n",
        "Implement the following:\n",
        "\n",
        "1. Basic epsilon greedy algorithm implementation\n",
        "2. Plot the expected regret of the epsilong greedy algorithm VS horizon ($n$).\n",
        "\n",
        "## Tips:\n",
        "\n",
        "1. The regret is expected to be logarithmic against the horizon. To check if the relation is logarithmic, one can use the semilogx function in matplotlib.pyplot\n",
        "2. When the regret is not logarithmic, please check against the analysis, and obtain insights there for debugging.\n",
        "3. Similar to ETC, to see a smooth curve, one would have to repeat the simulation for about 10k times. One can either use parallel implementation, or run a smaller number of simulation for debug first.\n"
      ]
    },
    {
      "cell_type": "code",
      "metadata": {
        "id": "_PErsda7xB5Q"
      },
      "source": [
        "def plot_history(all_history:dict, x:str, y:str , title:str , log = False):\n",
        "  fig = graph.Figure(layout = graph.Layout(title=graph.layout.Title(text=title)))\n",
        "  for i in all_history:\n",
        "      fig.add_trace(graph.Scatter(x    = all_history[i][x],\n",
        "                                  y    = all_history[i][y],\n",
        "                                  name = i))\n",
        "  if log: fig.update_xaxes(type=\"log\")\n",
        "  fig.show()\n",
        "\n",
        "def ealgorithm(arm:Gaussian_Arm, horizon:int, epsilon:float):\n",
        "  history = {\"step\":[], \"regret\":[], \"expected_mu\":np.zeros((arm.num_arms)), \"arm_chosen\":[], \"N\":np.zeros((arm.num_arms))}\n",
        "  for i in range(horizon):\n",
        "    decision = int(np.random.binomial(1, 1 - epsilon , 1))\n",
        "    #case 1\n",
        "    random_action = np.random.randint(arm.num_arms, size=1)\n",
        "    #case 2\n",
        "    greedy_action = np.argmax(history['expected_mu'])\n",
        "    #decide\n",
        "    arm_decision = (decision * greedy_action) + ( (1 - decision) * random_action )\n",
        "    #collect reward\n",
        "    reward = arm.pull_arm(arm_decision)\n",
        "    #update\n",
        "    N = history['N'][arm_decision]\n",
        "    current_mean = history['expected_mu'][arm_decision] \n",
        "    history['expected_mu'][arm_decision] = (current_mean*N + reward )/(N + 1)\n",
        "    ## store history\n",
        "    history['N'][arm_decision]+=1\n",
        "    history['step'].append(i)\n",
        "    history['regret'].append( float(arm.genie_reward() - arm.my_rewards())/ arm.total_pull  )\n",
        "    history['arm_chosen'].append(arm_decision)\n",
        "  print(\"experimental mu: {} \\t real mu: {}\".format(history['expected_mu'][arm_decision], arm.mu[arm_decision]))\n",
        "  return history"
      ],
      "execution_count": 84,
      "outputs": []
    },
    {
      "cell_type": "code",
      "metadata": {
        "id": "vkeLTT_vxGA-",
        "outputId": "3f40b7a5-3528-4acb-ef22-55d676d4db4a",
        "colab": {
          "base_uri": "https://localhost:8080/"
        }
      },
      "source": [
        "arm = Gaussian_Arm(2)\n",
        "total_run = 1000\n",
        "\n",
        "\n",
        "# average regret for n runs \n",
        "mean_history = {\"step\": list(range(total_run)), \n",
        "                \"regret\": np.zeros(total_run)}\n",
        "for i in range(20):\n",
        "  history = ealgorithm(arm, horizon= total_run, epsilon= .15)\n",
        "  mean_history[\"regret\"] = (mean_history[\"regret\"]*i + history[\"regret\"]) /(i + 1)\n",
        "\n",
        "\n",
        "# combine all plots into one\n",
        "all_history = {\"ETC\": mean_history}\n",
        "\n",
        "\n",
        "#plot\n",
        "plot_history(all_history, x=\"step\" , y=\"regret\", title=\"e-greedy v log horizon\", log=True)\n",
        "plot_history(all_history, x=\"step\" , y=\"regret\", title=\"e-greedy v horizon\", log=False)"
      ],
      "execution_count": null,
      "outputs": [
        {
          "output_type": "stream",
          "text": [
            "experimental mu: [0.30649204] \t real mu: [0.29366317]\n",
            "experimental mu: [0.34272516] \t real mu: [0.29366317]\n",
            "experimental mu: [0.28730064] \t real mu: [0.29366317]\n",
            "experimental mu: [0.3168526] \t real mu: [0.29366317]\n",
            "experimental mu: [0.27520799] \t real mu: [0.29366317]\n",
            "experimental mu: [0.25909652] \t real mu: [0.29366317]\n",
            "experimental mu: [0.30815398] \t real mu: [0.29366317]\n",
            "experimental mu: [0.29366981] \t real mu: [0.25341311]\n",
            "experimental mu: [0.30912141] \t real mu: [0.25341311]\n",
            "experimental mu: [0.29271461] \t real mu: [0.25341311]\n",
            "experimental mu: [0.25144764] \t real mu: [0.25341311]\n",
            "experimental mu: [0.25999053] \t real mu: [0.29366317]\n",
            "experimental mu: [0.23636857] \t real mu: [0.29366317]\n",
            "experimental mu: [0.26741449] \t real mu: [0.25341311]\n",
            "experimental mu: [0.32087477] \t real mu: [0.29366317]\n",
            "experimental mu: [0.30179524] \t real mu: [0.29366317]\n",
            "experimental mu: [0.31498315] \t real mu: [0.29366317]\n",
            "experimental mu: [0.276369] \t real mu: [0.29366317]\n"
          ],
          "name": "stdout"
        }
      ]
    }
  ]
}