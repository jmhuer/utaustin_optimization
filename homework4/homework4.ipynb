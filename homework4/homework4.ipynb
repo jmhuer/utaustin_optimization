{
  "nbformat": 4,
  "nbformat_minor": 0,
  "metadata": {
    "colab": {
      "name": "Copy of Homework 4.ipynb",
      "provenance": [],
      "collapsed_sections": [],
      "toc_visible": true,
      "include_colab_link": true
    },
    "kernelspec": {
      "name": "python3",
      "display_name": "Python 3"
    }
  },
  "cells": [
    {
      "cell_type": "markdown",
      "metadata": {
        "id": "view-in-github",
        "colab_type": "text"
      },
      "source": [
        "<a href=\"https://colab.research.google.com/github/jmhuer/utaustin_optimization/blob/main/homework4/homework4.ipynb\" target=\"_parent\"><img src=\"https://colab.research.google.com/assets/colab-badge.svg\" alt=\"Open In Colab\"/></a>"
      ]
    },
    {
      "cell_type": "markdown",
      "metadata": {
        "id": "wpTRNuz3KDWV"
      },
      "source": [
        "# Problem Set 4\n",
        "\n",
        "In this problem set you will get some practice with the proximal gradient algorithm, and also acceleration. Specifically, you will be implementing ISTA and FISTA"
      ]
    },
    {
      "cell_type": "code",
      "metadata": {
        "colab": {
          "base_uri": "https://localhost:8080/"
        },
        "id": "8DzaqJOQavsM",
        "outputId": "4e8c051c-b8d8-4b70-d85c-2c404ff16db2"
      },
      "source": [
        "!pip install gdown\n",
        "! git clone https://github.com/jmhuer/optimization_tools\n",
        "from optimization_tools.utils import download_gdrive\n",
        "\n",
        "# we pass the ID between two slashes '/{ID}/'  \n",
        "a = '1YDmMRdgRRJSKaWGR7c0g6mzj73Bzf9MU'\n",
        "b ='1ZdnrCU7YotTAU0duRHTvUUF-k23lG7Wd'\n",
        "x = '1c4YLkNr7Us61nD6OIdniDI3wac_-UQXS'\n",
        "y = '1HYFUuBzHQoePElmLy1JOiB8ZmpxVpYPv'\n",
        "bg = '1-H2_UgwnBImSdFs0YgbbY0JeOkvlh86f'\n",
        "\n",
        "\n",
        "download_gdrive(a)\n",
        "download_gdrive(b)\n",
        "download_gdrive(x)\n",
        "download_gdrive(y)\n",
        "download_gdrive(bg)\n",
        "\n"
      ],
      "execution_count": 2,
      "outputs": [
        {
          "output_type": "stream",
          "text": [
            "Cloning into 'optimization_tools'...\n",
            "remote: Enumerating objects: 46, done.\u001b[K\n",
            "remote: Counting objects: 100% (46/46), done.\u001b[K\n",
            "remote: Compressing objects: 100% (33/33), done.\u001b[K\n",
            "remote: Total 46 (delta 12), reused 39 (delta 8), pack-reused 0\u001b[K\n",
            "Unpacking objects: 100% (46/46), done.\n",
            "Downloading...\n",
            "From: https://drive.google.com/uc?id=1YDmMRdgRRJSKaWGR7c0g6mzj73Bzf9MU\n",
            "To: /content/A.npy\n",
            "100%|##########| 354k/354k [00:00<00:00, 22.6MB/s]\n",
            "\n",
            "Downloading...\n",
            "From: https://drive.google.com/uc?id=1ZdnrCU7YotTAU0duRHTvUUF-k23lG7Wd\n",
            "To: /content/b.npy\n",
            "100%|##########| 3.62k/3.62k [00:00<00:00, 11.7MB/s]\n",
            "\n",
            "Downloading...\n",
            "From: https://drive.google.com/uc?id=1c4YLkNr7Us61nD6OIdniDI3wac_-UQXS\n",
            "To: /content/X.npy\n",
            "100%|##########| 160k/160k [00:00<00:00, 42.2MB/s]\n",
            "\n",
            "Downloading...\n",
            "From: https://drive.google.com/uc?id=1HYFUuBzHQoePElmLy1JOiB8ZmpxVpYPv\n",
            "To: /content/y.npy\n",
            "100%|##########| 8.08k/8.08k [00:00<00:00, 17.2MB/s]\n",
            "\n",
            "Downloading...\n",
            "From: https://drive.google.com/uc?id=1-H2_UgwnBImSdFs0YgbbY0JeOkvlh86f\n",
            "To: /content/BFGS.zip\n",
            "6.30MB [00:00, 98.4MB/s]\n",
            "\n"
          ],
          "name": "stdout"
        }
      ]
    },
    {
      "cell_type": "markdown",
      "metadata": {
        "id": "rSlW0VqxKPdg"
      },
      "source": [
        "# Problem 1: Gradient Descent and Acceleration\n",
        "In this problem you will explore the impact of ill-conditioning on gradient descent, and will then see how acceleration can improve the situation. This exercise will walk you through a very similar situation as to what we saw in the lecture videos that illustrate the performance of gradient descent vs accelerated gradient descent as the condition number (ratio of largest to smallest eigenvalues of the Hessian) increases. This is a ``toy'' problem, but it is still instructive regarding the performance of these two algorithms.\n",
        "\n",
        "You will work with the following simple function:\n",
        "$$\n",
        "f(x) = \\frac{1}{2}x^{\\top}Qx,\n",
        "$$\n",
        "where $Q$ is a 2 by 2 matrix, as defined below."
      ]
    },
    {
      "cell_type": "code",
      "metadata": {
        "id": "wbWa6WkbNXaa"
      },
      "source": [
        "\n",
        "class Quadratic:\n",
        "    def __init__(self, Q, b, c, input_size = 2):\n",
        "        self.input_size = input_size\n",
        "        self.Q = Q\n",
        "        self.b = b\n",
        "        self.c = [c]\n",
        "    def eval(self, x):\n",
        "        return .5 * np.dot(x.T, np.dot(self.Q, x))\n",
        "    def gradient(self,x):\n",
        "        return np.dot(self.Q, x)\n",
        "    def b_smooth(self):\n",
        "        return la.eigvals(self.Q).min()\n",
        "    def a_sconvex(self):\n",
        "        return la.eigvals(self.Q).max()\n",
        "\n"
      ],
      "execution_count": null,
      "outputs": []
    },
    {
      "cell_type": "code",
      "metadata": {
        "id": "IIUDm7AuKcdm"
      },
      "source": [
        "# We create the data for this simple problem. We will create three quadratics.\n",
        "# Q_wc -- this is a well-conditioned matrix\n",
        "# Q_ic -- this is an ill-conditioned matrix\n",
        "# Q_sic -- this is... a somewhat-ill-conditioned matrix (a technical term!)\n",
        "\n",
        "import numpy as np\n",
        "Q_wc = np.array([[1,0.3],[0.3,1]]); q = np.array([0,0]);\n",
        "Q_sic = np.array([[1,0.85],[0.85,1]]); q = np.array([0,0]);\n",
        "Q_ic = np.array([[1,0.99],[0.99,1]]); q = np.array([0,0]);\n",
        "\n",
        "import plotly.graph_objects as graph\n",
        "import math\n",
        "import numpy.linalg as la\n",
        "from tqdm import tqdm\n",
        "\n",
        "class AGD:\n",
        "    def __init__(self, function, x_init, epochs, learning_rate,  momentum = None):\n",
        "        if momentum==None: #default\n",
        "            self.get_theta = lambda theta_past : (1 + np.sqrt(1+ 4*theta_past**2) ) / 2\n",
        "            self.get_momentum = lambda theta_past : (theta_past - 1)/self.get_theta(theta_past) \n",
        "        else: #constant momentum\n",
        "            self.get_theta = lambda dummy: 0\n",
        "            self.get_momentum = lambda dummy: momentum\n",
        "        self.function = function\n",
        "        self.x_init = x_init\n",
        "        self.epochs = epochs\n",
        "        self.learning_rate = learning_rate\n",
        "        self.history = {\"step\": [],\n",
        "                        \"function_vals\": [],\n",
        "                        \"grad_vals\": [], \n",
        "                        \"x_vals\": [self.x_init], ##initialize x\n",
        "                        \"y_vals\": [self.x_init],  ##initialize y\n",
        "                        \"theta\": [1], ##initialize theta\n",
        "                        \"opt_dif\": [],\n",
        "                        \"test_loss\": []}\n",
        "    def go(self, test_set = None):\n",
        "        for i in tqdm(range(self.epochs)):\n",
        "          ##RETRIVE OLD VALS\n",
        "          x_old = self.history['x_vals'][-1]\n",
        "          y_old = self.history['y_vals'][-1]\n",
        "          ##EVALUATE HERE\n",
        "          f = self.function.eval(x_old)\n",
        "          g = self.function.gradient(x_old)\n",
        "          m = self.get_momentum(self.history['theta'][-1])\n",
        "          ##UPDATE HERE : if lr rate is lamda function act different\n",
        "          y = x_old - self.learning_rate(i) * g\n",
        "          x = (1 + m)*y - m * y_old\n",
        "          ##STORE HISTORY\n",
        "          self.history['step'].append(i)\n",
        "          self.history['function_vals'].append(float(f))\n",
        "          self.history['grad_vals'].append(g)\n",
        "          self.history['x_vals'].append(x)\n",
        "          self.history['y_vals'].append(y)\n",
        "          self.history['theta'].append(self.get_theta(self.history['theta'][-1]))\n",
        "          if test_set:  \n",
        "            self.history['test_loss'].append(float(self.function.test_loss(data = test_set, weights = x)))\n",
        "\n",
        "\n",
        "class GD:\n",
        "    def __init__(self, function, x_init, epochs, learning_rate):\n",
        "        self.function = function\n",
        "        self.x_init = x_init\n",
        "        self.epochs = epochs\n",
        "        self.learning_rate = learning_rate\n",
        "        self.history = {\"step\": [],\n",
        "                        \"function_vals\": [],\n",
        "                        \"grad_vals\": [], \n",
        "                        \"x_vals\": [self.x_init], \n",
        "                        \"opt_dif\": [],\n",
        "                        \"test_loss\": []}\n",
        "    def go(self, test_set = None):\n",
        "        for i in tqdm(range(self.epochs)):\n",
        "          ##RETRIVE OLD VALS\n",
        "          x_old = self.history['x_vals'][-1]\n",
        "          ##EVALUATE HERE\n",
        "          y = self.function.eval(x_old)\n",
        "          g = self.function.gradient(x_old)\n",
        "          ##UPDATE HERE \n",
        "          x = x_old - self.learning_rate(i) * g\n",
        "          ##STORE HISTORY\n",
        "          self.history['step'].append(i)\n",
        "          self.history['function_vals'].append(float(y))\n",
        "          self.history['grad_vals'].append(g)\n",
        "          self.history['x_vals'].append(x)\n",
        "          if test_set:  \n",
        "              self.history['test_loss'].append(float(self.function.test_loss(data = test_set, weights = x)))\n",
        "\n"
      ],
      "execution_count": null,
      "outputs": []
    },
    {
      "cell_type": "markdown",
      "metadata": {
        "id": "cygDOkGVKdcH"
      },
      "source": [
        "## Part (A): \n",
        "Consider the quadratic functions $f_{wc}$, $f_{sic}$, and $f_{ic}$ defined by the quadratic matrices above. For each of these, say whether they are $\\beta$-smooth and/or $\\alpha$-strongly convex, and if so, compute the value of the condition number, $\\kappa = \\beta/\\alpha$ for each function."
      ]
    },
    {
      "cell_type": "code",
      "metadata": {
        "id": "zZa95TIetU0Q",
        "colab": {
          "base_uri": "https://localhost:8080/"
        },
        "outputId": "210819b7-0544-4d2e-ece7-0ae800eb414a"
      },
      "source": [
        "\n",
        "functions = [Quadratic(Q_wc, b=np.array([0,3]), c=0),\n",
        "             Quadratic(Q_sic,b=np.array([0,3]), c=0),\n",
        "             Quadratic(Q_ic, b=np.array([0,3]), c=0) ]\n",
        "\n",
        "for f in functions : \n",
        "  b = f.b_smooth()\n",
        "  a = f.a_sconvex()\n",
        "  cnd = b/a\n",
        "  print(\"b-smooth: {} \\t a-strongly convex: {} \\t condition convex: {}\".format(b,a,cnd) )  \n"
      ],
      "execution_count": null,
      "outputs": [
        {
          "output_type": "stream",
          "text": [
            "b-smooth: 0.7 \t a-strongly convex: 1.2999999999999998 \t condition convex: 0.5384615384615385\n",
            "b-smooth: 0.15000000000000013 \t a-strongly convex: 1.85 \t condition convex: 0.08108108108108115\n",
            "b-smooth: 0.010000000000000009 \t a-strongly convex: 1.99 \t condition convex: 0.005025125628140708\n"
          ],
          "name": "stdout"
        }
      ]
    },
    {
      "cell_type": "markdown",
      "metadata": {
        "id": "La1aIXOoKiVa"
      },
      "source": [
        "## Part (B): \n",
        "Compute the best fixed step size for gradient descent, and the best parameters for accelerated gradient descent. For each function, plot the error $(f(x_t) - f(x^{\\ast})$ as a function of the number of iterations. For each function, plot these on the same plot so you can compare -- so you should have 3 plots total."
      ]
    },
    {
      "cell_type": "code",
      "metadata": {
        "id": "U9d7AzBJbvkG",
        "colab": {
          "base_uri": "https://localhost:8080/",
          "height": 1000
        },
        "outputId": "05e7cbb9-74d9-4f80-d52e-fb908877d87b"
      },
      "source": [
        "\n",
        "functions = [Quadratic(Q_wc, b=np.array([0,3]), c=0),\n",
        "             Quadratic(Q_sic,b=np.array([0,3]), c=0),\n",
        "             Quadratic(Q_ic, b=np.array([0,3]), c=0) ]\n",
        "\n",
        "\n",
        "plot_titles  = ['Well condition matrix',\n",
        "                'somewhat-ill-conditioned matrix',\n",
        "                'ill condition matrix' ]\n",
        "\n",
        "for (f, title) in zip(functions, plot_titles):\n",
        "  a, b = f.b_smooth(), f.a_sconvex()\n",
        "  k = b/a \n",
        "  gda = AGD(f, x_init = np.array([1,5]), epochs=50, learning_rate = lambda x : 1 / b, momentum = (np.sqrt(k) - 1) / (np.sqrt(k) + 1))\n",
        "  gda2 = AGD(f, x_init = np.array([1,5]), epochs=50, learning_rate = lambda x : 1 / b)\n",
        "  gdb =  GD(f, x_init = np.array([1,5]), epochs=50, learning_rate = lambda x : 2 / (a + b))\n",
        "\n",
        "  gda.go()\n",
        "  gda2.go() \n",
        "  gdb.go()\n",
        "  # plot the data\n",
        "  all_history = {\"AGD: lr = 1/k\" : gda.history,\n",
        "                 \"AGD_old_m: lr = 1/k\" : gda.history,\n",
        "                 \"GD: lr = 1/k\"  : gdb.history}\n",
        "\n",
        "  fig = graph.Figure(layout=graph.Layout(title=graph.layout.Title(text=title)))\n",
        "  for i in all_history:\n",
        "      fig.add_trace(graph.Scatter(x    = all_history[i][\"step\"],\n",
        "                                  y    = all_history[i][\"function_vals\"],\n",
        "                                  name = i))\n",
        "  fig.show()\n",
        "\n",
        "\n",
        "\n"
      ],
      "execution_count": null,
      "outputs": [
        {
          "output_type": "stream",
          "text": [
            "100%|██████████| 50/50 [00:00<00:00, 13274.79it/s]\n",
            "100%|██████████| 50/50 [00:00<00:00, 17626.09it/s]\n",
            "100%|██████████| 50/50 [00:00<00:00, 43736.23it/s]\n"
          ],
          "name": "stderr"
        },
        {
          "output_type": "display_data",
          "data": {
            "text/html": [
              "<html>\n",
              "<head><meta charset=\"utf-8\" /></head>\n",
              "<body>\n",
              "    <div>\n",
              "            <script src=\"https://cdnjs.cloudflare.com/ajax/libs/mathjax/2.7.5/MathJax.js?config=TeX-AMS-MML_SVG\"></script><script type=\"text/javascript\">if (window.MathJax) {MathJax.Hub.Config({SVG: {font: \"STIX-Web\"}});}</script>\n",
              "                <script type=\"text/javascript\">window.PlotlyConfig = {MathJaxConfig: 'local'};</script>\n",
              "        <script src=\"https://cdn.plot.ly/plotly-latest.min.js\"></script>    \n",
              "            <div id=\"5095d9bd-fc87-4ff4-9e0a-c591045c1596\" class=\"plotly-graph-div\" style=\"height:525px; width:100%;\"></div>\n",
              "            <script type=\"text/javascript\">\n",
              "                \n",
              "                    window.PLOTLYENV=window.PLOTLYENV || {};\n",
              "                    \n",
              "                if (document.getElementById(\"5095d9bd-fc87-4ff4-9e0a-c591045c1596\")) {\n",
              "                    Plotly.newPlot(\n",
              "                        '5095d9bd-fc87-4ff4-9e0a-c591045c1596',\n",
              "                        [{\"name\": \"AGD: lr = 1/k\", \"type\": \"scatter\", \"x\": [0, 1, 2, 3, 4, 5, 6, 7, 8, 9, 10, 11, 12, 13, 14, 15, 16, 17, 18, 19, 20, 21, 22, 23, 24, 25, 26, 27, 28, 29, 30, 31, 32, 33, 34, 35, 36, 37, 38, 39, 40, 41, 42, 43, 44, 45, 46, 47, 48, 49], \"y\": [14.5, 0.6777164536302787, 0.04793756127288367, 0.00513272195387514, 0.0005120117705328484, 4.858341794134142e-05, 4.441442097979764e-06, 3.945031840370112e-07, 3.4246139810525763e-08, 2.9177390208479777e-09, 2.447528150927909e-10, 2.0263161620680167e-11, 1.6588561942342323e-12, 1.3448984400891182e-13, 1.0811406329232171e-14, 8.626302202728164e-16, 6.837244947824834e-17, 5.387134632040764e-18, 4.2219654368411487e-19, 3.292867058059393e-20, 2.5569861069746033e-21, 1.9776250170288192e-22, 1.5239359593884802e-23, 1.1703745233266726e-24, 8.960488369626923e-26, 6.84049965517401e-27, 5.208145374287633e-28, 3.955468813274682e-29, 2.997124639700667e-30, 2.2660472291432292e-31, 1.7098169214620564e-32, 1.2876580485521827e-33, 9.67989799375058e-35, 7.264489651813276e-36, 5.443078291671363e-37, 4.0721793997379347e-38, 3.0421932069279926e-39, 2.2696363993307675e-40, 1.6910833574355197e-41, 1.2584629259315294e-42, 9.354229091736726e-44, 6.945306925712176e-45, 5.1512523587660356e-46, 3.816741561794787e-47, 2.825208338638701e-48, 2.0893154849777688e-49, 1.5437262038712424e-50, 1.1396331994309421e-51, 8.406270717535147e-53, 6.195824899940387e-54]}, {\"name\": \"AGD_old_m: lr = 1/k\", \"type\": \"scatter\", \"x\": [0, 1, 2, 3, 4, 5, 6, 7, 8, 9, 10, 11, 12, 13, 14, 15, 16, 17, 18, 19, 20, 21, 22, 23, 24, 25, 26, 27, 28, 29, 30, 31, 32, 33, 34, 35, 36, 37, 38, 39, 40, 41, 42, 43, 44, 45, 46, 47, 48, 49], \"y\": [14.5, 0.6777164536302787, 0.04793756127288367, 0.00513272195387514, 0.0005120117705328484, 4.858341794134142e-05, 4.441442097979764e-06, 3.945031840370112e-07, 3.4246139810525763e-08, 2.9177390208479777e-09, 2.447528150927909e-10, 2.0263161620680167e-11, 1.6588561942342323e-12, 1.3448984400891182e-13, 1.0811406329232171e-14, 8.626302202728164e-16, 6.837244947824834e-17, 5.387134632040764e-18, 4.2219654368411487e-19, 3.292867058059393e-20, 2.5569861069746033e-21, 1.9776250170288192e-22, 1.5239359593884802e-23, 1.1703745233266726e-24, 8.960488369626923e-26, 6.84049965517401e-27, 5.208145374287633e-28, 3.955468813274682e-29, 2.997124639700667e-30, 2.2660472291432292e-31, 1.7098169214620564e-32, 1.2876580485521827e-33, 9.67989799375058e-35, 7.264489651813276e-36, 5.443078291671363e-37, 4.0721793997379347e-38, 3.0421932069279926e-39, 2.2696363993307675e-40, 1.6910833574355197e-41, 1.2584629259315294e-42, 9.354229091736726e-44, 6.945306925712176e-45, 5.1512523587660356e-46, 3.816741561794787e-47, 2.825208338638701e-48, 2.0893154849777688e-49, 1.5437262038712424e-50, 1.1396331994309421e-51, 8.406270717535147e-53, 6.195824899940387e-54]}, {\"name\": \"GD: lr = 1/k\", \"type\": \"scatter\", \"x\": [0, 1, 2, 3, 4, 5, 6, 7, 8, 9, 10, 11, 12, 13, 14, 15, 16, 17, 18, 19, 20, 21, 22, 23, 24, 25, 26, 27, 28, 29, 30, 31, 32, 33, 34, 35, 36, 37, 38, 39, 40, 41, 42, 43, 44, 45, 46, 47, 48, 49], \"y\": [14.5, 1.3050000000000015, 0.1174500000000003, 0.010570500000000045, 0.0009513450000000049, 8.562105000000054e-05, 7.705894500000058e-06, 6.935305050000062e-07, 6.241774545000061e-08, 5.61759709050006e-09, 5.055837381450062e-10, 4.5502536433050623e-11, 4.095228278974561e-12, 3.685705451077107e-13, 3.317134905969401e-14, 2.9854214153724655e-15, 2.686879273835223e-16, 2.4181913464517034e-17, 2.176372211806536e-18, 1.9587349906258845e-19, 1.762861491563298e-20, 1.5865753424069703e-21, 1.4279178081662753e-22, 1.2851260273496491e-23, 1.156613424614685e-24, 1.0409520821532181e-25, 9.368568739378975e-27, 8.431711865441085e-28, 7.588540678896985e-29, 6.829686611007296e-30, 6.146717949906573e-31, 5.53204615491592e-32, 4.9788415394243324e-33, 4.480957385481906e-34, 4.0328616469337206e-35, 3.6295754822403507e-36, 3.2666179340163193e-37, 2.9399561406146917e-38, 2.645960526553226e-39, 2.3813644738979056e-40, 2.1432280265081177e-41, 1.9289052238573086e-42, 1.73601470147158e-43, 1.562413231324423e-44, 1.406171908191983e-45, 1.265554717372786e-46, 1.1389992456355086e-47, 1.0250993210719588e-48, 9.225893889647644e-50, 8.303304500682887e-51]}],\n",
              "                        {\"template\": {\"data\": {\"bar\": [{\"error_x\": {\"color\": \"#2a3f5f\"}, \"error_y\": {\"color\": \"#2a3f5f\"}, \"marker\": {\"line\": {\"color\": \"#E5ECF6\", \"width\": 0.5}}, \"type\": \"bar\"}], \"barpolar\": [{\"marker\": {\"line\": {\"color\": \"#E5ECF6\", \"width\": 0.5}}, \"type\": \"barpolar\"}], \"carpet\": [{\"aaxis\": {\"endlinecolor\": \"#2a3f5f\", \"gridcolor\": \"white\", \"linecolor\": \"white\", \"minorgridcolor\": \"white\", \"startlinecolor\": \"#2a3f5f\"}, \"baxis\": {\"endlinecolor\": \"#2a3f5f\", \"gridcolor\": \"white\", \"linecolor\": \"white\", \"minorgridcolor\": \"white\", \"startlinecolor\": \"#2a3f5f\"}, \"type\": \"carpet\"}], \"choropleth\": [{\"colorbar\": {\"outlinewidth\": 0, \"ticks\": \"\"}, \"type\": \"choropleth\"}], \"contour\": [{\"colorbar\": {\"outlinewidth\": 0, \"ticks\": \"\"}, \"colorscale\": [[0.0, \"#0d0887\"], [0.1111111111111111, \"#46039f\"], [0.2222222222222222, \"#7201a8\"], [0.3333333333333333, \"#9c179e\"], [0.4444444444444444, \"#bd3786\"], [0.5555555555555556, \"#d8576b\"], [0.6666666666666666, \"#ed7953\"], [0.7777777777777778, \"#fb9f3a\"], [0.8888888888888888, \"#fdca26\"], [1.0, \"#f0f921\"]], \"type\": \"contour\"}], \"contourcarpet\": [{\"colorbar\": {\"outlinewidth\": 0, \"ticks\": \"\"}, \"type\": \"contourcarpet\"}], \"heatmap\": [{\"colorbar\": {\"outlinewidth\": 0, \"ticks\": \"\"}, \"colorscale\": [[0.0, \"#0d0887\"], [0.1111111111111111, \"#46039f\"], [0.2222222222222222, \"#7201a8\"], [0.3333333333333333, \"#9c179e\"], [0.4444444444444444, \"#bd3786\"], [0.5555555555555556, \"#d8576b\"], [0.6666666666666666, \"#ed7953\"], [0.7777777777777778, \"#fb9f3a\"], [0.8888888888888888, \"#fdca26\"], [1.0, \"#f0f921\"]], \"type\": \"heatmap\"}], \"heatmapgl\": [{\"colorbar\": {\"outlinewidth\": 0, \"ticks\": \"\"}, \"colorscale\": [[0.0, \"#0d0887\"], [0.1111111111111111, \"#46039f\"], [0.2222222222222222, \"#7201a8\"], [0.3333333333333333, \"#9c179e\"], [0.4444444444444444, \"#bd3786\"], [0.5555555555555556, \"#d8576b\"], [0.6666666666666666, \"#ed7953\"], [0.7777777777777778, \"#fb9f3a\"], [0.8888888888888888, \"#fdca26\"], [1.0, \"#f0f921\"]], \"type\": \"heatmapgl\"}], \"histogram\": [{\"marker\": {\"colorbar\": {\"outlinewidth\": 0, \"ticks\": \"\"}}, \"type\": \"histogram\"}], \"histogram2d\": [{\"colorbar\": {\"outlinewidth\": 0, \"ticks\": \"\"}, \"colorscale\": [[0.0, \"#0d0887\"], [0.1111111111111111, \"#46039f\"], [0.2222222222222222, \"#7201a8\"], [0.3333333333333333, \"#9c179e\"], [0.4444444444444444, \"#bd3786\"], [0.5555555555555556, \"#d8576b\"], [0.6666666666666666, \"#ed7953\"], [0.7777777777777778, \"#fb9f3a\"], [0.8888888888888888, \"#fdca26\"], [1.0, \"#f0f921\"]], \"type\": \"histogram2d\"}], \"histogram2dcontour\": [{\"colorbar\": {\"outlinewidth\": 0, \"ticks\": \"\"}, \"colorscale\": [[0.0, \"#0d0887\"], [0.1111111111111111, \"#46039f\"], [0.2222222222222222, \"#7201a8\"], [0.3333333333333333, \"#9c179e\"], [0.4444444444444444, \"#bd3786\"], [0.5555555555555556, \"#d8576b\"], [0.6666666666666666, \"#ed7953\"], [0.7777777777777778, \"#fb9f3a\"], [0.8888888888888888, \"#fdca26\"], [1.0, \"#f0f921\"]], \"type\": \"histogram2dcontour\"}], \"mesh3d\": [{\"colorbar\": {\"outlinewidth\": 0, \"ticks\": \"\"}, \"type\": \"mesh3d\"}], \"parcoords\": [{\"line\": {\"colorbar\": {\"outlinewidth\": 0, \"ticks\": \"\"}}, \"type\": \"parcoords\"}], \"pie\": [{\"automargin\": true, \"type\": \"pie\"}], \"scatter\": [{\"marker\": {\"colorbar\": {\"outlinewidth\": 0, \"ticks\": \"\"}}, \"type\": \"scatter\"}], \"scatter3d\": [{\"line\": {\"colorbar\": {\"outlinewidth\": 0, \"ticks\": \"\"}}, \"marker\": {\"colorbar\": {\"outlinewidth\": 0, \"ticks\": \"\"}}, \"type\": \"scatter3d\"}], \"scattercarpet\": [{\"marker\": {\"colorbar\": {\"outlinewidth\": 0, \"ticks\": \"\"}}, \"type\": \"scattercarpet\"}], \"scattergeo\": [{\"marker\": {\"colorbar\": {\"outlinewidth\": 0, \"ticks\": \"\"}}, \"type\": \"scattergeo\"}], \"scattergl\": [{\"marker\": {\"colorbar\": {\"outlinewidth\": 0, \"ticks\": \"\"}}, \"type\": \"scattergl\"}], \"scattermapbox\": [{\"marker\": {\"colorbar\": {\"outlinewidth\": 0, \"ticks\": \"\"}}, \"type\": \"scattermapbox\"}], \"scatterpolar\": [{\"marker\": {\"colorbar\": {\"outlinewidth\": 0, \"ticks\": \"\"}}, \"type\": \"scatterpolar\"}], \"scatterpolargl\": [{\"marker\": {\"colorbar\": {\"outlinewidth\": 0, \"ticks\": \"\"}}, \"type\": \"scatterpolargl\"}], \"scatterternary\": [{\"marker\": {\"colorbar\": {\"outlinewidth\": 0, \"ticks\": \"\"}}, \"type\": \"scatterternary\"}], \"surface\": [{\"colorbar\": {\"outlinewidth\": 0, \"ticks\": \"\"}, \"colorscale\": [[0.0, \"#0d0887\"], [0.1111111111111111, \"#46039f\"], [0.2222222222222222, \"#7201a8\"], [0.3333333333333333, \"#9c179e\"], [0.4444444444444444, \"#bd3786\"], [0.5555555555555556, \"#d8576b\"], [0.6666666666666666, \"#ed7953\"], [0.7777777777777778, \"#fb9f3a\"], [0.8888888888888888, \"#fdca26\"], [1.0, \"#f0f921\"]], \"type\": \"surface\"}], \"table\": [{\"cells\": {\"fill\": {\"color\": \"#EBF0F8\"}, \"line\": {\"color\": \"white\"}}, \"header\": {\"fill\": {\"color\": \"#C8D4E3\"}, \"line\": {\"color\": \"white\"}}, \"type\": \"table\"}]}, \"layout\": {\"annotationdefaults\": {\"arrowcolor\": \"#2a3f5f\", \"arrowhead\": 0, \"arrowwidth\": 1}, \"coloraxis\": {\"colorbar\": {\"outlinewidth\": 0, \"ticks\": \"\"}}, \"colorscale\": {\"diverging\": [[0, \"#8e0152\"], [0.1, \"#c51b7d\"], [0.2, \"#de77ae\"], [0.3, \"#f1b6da\"], [0.4, \"#fde0ef\"], [0.5, \"#f7f7f7\"], [0.6, \"#e6f5d0\"], [0.7, \"#b8e186\"], [0.8, \"#7fbc41\"], [0.9, \"#4d9221\"], [1, \"#276419\"]], \"sequential\": [[0.0, \"#0d0887\"], [0.1111111111111111, \"#46039f\"], [0.2222222222222222, \"#7201a8\"], [0.3333333333333333, \"#9c179e\"], [0.4444444444444444, \"#bd3786\"], [0.5555555555555556, \"#d8576b\"], [0.6666666666666666, \"#ed7953\"], [0.7777777777777778, \"#fb9f3a\"], [0.8888888888888888, \"#fdca26\"], [1.0, \"#f0f921\"]], \"sequentialminus\": [[0.0, \"#0d0887\"], [0.1111111111111111, \"#46039f\"], [0.2222222222222222, \"#7201a8\"], [0.3333333333333333, \"#9c179e\"], [0.4444444444444444, \"#bd3786\"], [0.5555555555555556, \"#d8576b\"], [0.6666666666666666, \"#ed7953\"], [0.7777777777777778, \"#fb9f3a\"], [0.8888888888888888, \"#fdca26\"], [1.0, \"#f0f921\"]]}, \"colorway\": [\"#636efa\", \"#EF553B\", \"#00cc96\", \"#ab63fa\", \"#FFA15A\", \"#19d3f3\", \"#FF6692\", \"#B6E880\", \"#FF97FF\", \"#FECB52\"], \"font\": {\"color\": \"#2a3f5f\"}, \"geo\": {\"bgcolor\": \"white\", \"lakecolor\": \"white\", \"landcolor\": \"#E5ECF6\", \"showlakes\": true, \"showland\": true, \"subunitcolor\": \"white\"}, \"hoverlabel\": {\"align\": \"left\"}, \"hovermode\": \"closest\", \"mapbox\": {\"style\": \"light\"}, \"paper_bgcolor\": \"white\", \"plot_bgcolor\": \"#E5ECF6\", \"polar\": {\"angularaxis\": {\"gridcolor\": \"white\", \"linecolor\": \"white\", \"ticks\": \"\"}, \"bgcolor\": \"#E5ECF6\", \"radialaxis\": {\"gridcolor\": \"white\", \"linecolor\": \"white\", \"ticks\": \"\"}}, \"scene\": {\"xaxis\": {\"backgroundcolor\": \"#E5ECF6\", \"gridcolor\": \"white\", \"gridwidth\": 2, \"linecolor\": \"white\", \"showbackground\": true, \"ticks\": \"\", \"zerolinecolor\": \"white\"}, \"yaxis\": {\"backgroundcolor\": \"#E5ECF6\", \"gridcolor\": \"white\", \"gridwidth\": 2, \"linecolor\": \"white\", \"showbackground\": true, \"ticks\": \"\", \"zerolinecolor\": \"white\"}, \"zaxis\": {\"backgroundcolor\": \"#E5ECF6\", \"gridcolor\": \"white\", \"gridwidth\": 2, \"linecolor\": \"white\", \"showbackground\": true, \"ticks\": \"\", \"zerolinecolor\": \"white\"}}, \"shapedefaults\": {\"line\": {\"color\": \"#2a3f5f\"}}, \"ternary\": {\"aaxis\": {\"gridcolor\": \"white\", \"linecolor\": \"white\", \"ticks\": \"\"}, \"baxis\": {\"gridcolor\": \"white\", \"linecolor\": \"white\", \"ticks\": \"\"}, \"bgcolor\": \"#E5ECF6\", \"caxis\": {\"gridcolor\": \"white\", \"linecolor\": \"white\", \"ticks\": \"\"}}, \"title\": {\"x\": 0.05}, \"xaxis\": {\"automargin\": true, \"gridcolor\": \"white\", \"linecolor\": \"white\", \"ticks\": \"\", \"title\": {\"standoff\": 15}, \"zerolinecolor\": \"white\", \"zerolinewidth\": 2}, \"yaxis\": {\"automargin\": true, \"gridcolor\": \"white\", \"linecolor\": \"white\", \"ticks\": \"\", \"title\": {\"standoff\": 15}, \"zerolinecolor\": \"white\", \"zerolinewidth\": 2}}}, \"title\": {\"text\": \"Well condition matrix\"}},\n",
              "                        {\"responsive\": true}\n",
              "                    ).then(function(){\n",
              "                            \n",
              "var gd = document.getElementById('5095d9bd-fc87-4ff4-9e0a-c591045c1596');\n",
              "var x = new MutationObserver(function (mutations, observer) {{\n",
              "        var display = window.getComputedStyle(gd).display;\n",
              "        if (!display || display === 'none') {{\n",
              "            console.log([gd, 'removed!']);\n",
              "            Plotly.purge(gd);\n",
              "            observer.disconnect();\n",
              "        }}\n",
              "}});\n",
              "\n",
              "// Listen for the removal of the full notebook cells\n",
              "var notebookContainer = gd.closest('#notebook-container');\n",
              "if (notebookContainer) {{\n",
              "    x.observe(notebookContainer, {childList: true});\n",
              "}}\n",
              "\n",
              "// Listen for the clearing of the current output cell\n",
              "var outputEl = gd.closest('.output');\n",
              "if (outputEl) {{\n",
              "    x.observe(outputEl, {childList: true});\n",
              "}}\n",
              "\n",
              "                        })\n",
              "                };\n",
              "                \n",
              "            </script>\n",
              "        </div>\n",
              "</body>\n",
              "</html>"
            ]
          },
          "metadata": {
            "tags": []
          }
        },
        {
          "output_type": "stream",
          "text": [
            "100%|██████████| 50/50 [00:00<00:00, 30437.62it/s]\n",
            "100%|██████████| 50/50 [00:00<00:00, 7862.16it/s]\n",
            "100%|██████████| 50/50 [00:00<00:00, 41072.31it/s]\n"
          ],
          "name": "stderr"
        },
        {
          "output_type": "display_data",
          "data": {
            "text/html": [
              "<html>\n",
              "<head><meta charset=\"utf-8\" /></head>\n",
              "<body>\n",
              "    <div>\n",
              "            <script src=\"https://cdnjs.cloudflare.com/ajax/libs/mathjax/2.7.5/MathJax.js?config=TeX-AMS-MML_SVG\"></script><script type=\"text/javascript\">if (window.MathJax) {MathJax.Hub.Config({SVG: {font: \"STIX-Web\"}});}</script>\n",
              "                <script type=\"text/javascript\">window.PlotlyConfig = {MathJaxConfig: 'local'};</script>\n",
              "        <script src=\"https://cdn.plot.ly/plotly-latest.min.js\"></script>    \n",
              "            <div id=\"bb0cdc0e-1a51-4fb0-9639-322e30730865\" class=\"plotly-graph-div\" style=\"height:525px; width:100%;\"></div>\n",
              "            <script type=\"text/javascript\">\n",
              "                \n",
              "                    window.PLOTLYENV=window.PLOTLYENV || {};\n",
              "                    \n",
              "                if (document.getElementById(\"bb0cdc0e-1a51-4fb0-9639-322e30730865\")) {\n",
              "                    Plotly.newPlot(\n",
              "                        'bb0cdc0e-1a51-4fb0-9639-322e30730865',\n",
              "                        [{\"name\": \"AGD: lr = 1/k\", \"type\": \"scatter\", \"x\": [0, 1, 2, 3, 4, 5, 6, 7, 8, 9, 10, 11, 12, 13, 14, 15, 16, 17, 18, 19, 20, 21, 22, 23, 24, 25, 26, 27, 28, 29, 30, 31, 32, 33, 34, 35, 36, 37, 38, 39, 40, 41, 42, 43, 44, 45, 46, 47, 48, 49], \"y\": [17.25, 5.618663347175397, 0.32710445567038005, 0.22268439078584604, 0.14627237298876233, 0.09344646788291304, 0.05838614562427342, 0.035822870565337846, 0.021648702949387404, 0.01291627157740506, 0.007622050772030462, 0.004455251522786838, 0.002582588889691799, 0.0014860952778065514, 0.0008495736643689568, 0.00048285541061994335, 0.00027299122395204955, 0.00015360783479444052, 8.605954550748055e-05, 4.802519262181797e-05, 2.6703398142182212e-05, 1.4798479656871074e-05, 8.175834838360797e-06, 4.50412549501062e-06, 2.4748024723420133e-06, 1.3564427603471026e-06, 7.417619337917991e-07, 4.0475677092139965e-07, 2.2041875712553158e-07, 1.1980663084656958e-07, 6.500389717733708e-08, 3.5210190671490593e-08, 1.9041814389163854e-08, 1.0282447164854533e-08, 5.5445608526798294e-09, 2.985740042030437e-09, 1.6057587186744525e-09, 8.625398871083716e-10, 4.627792683089635e-10, 2.4802065989456206e-10, 1.3278313782558656e-10, 7.10165374511077e-11, 3.794518025141168e-11, 2.0255928397121125e-11, 1.080345887922313e-11, 5.757107474551828e-12, 3.0654303909015056e-12, 1.6309403754031172e-12, 8.670762840990295e-13, 4.606398249170238e-13]}, {\"name\": \"AGD_old_m: lr = 1/k\", \"type\": \"scatter\", \"x\": [0, 1, 2, 3, 4, 5, 6, 7, 8, 9, 10, 11, 12, 13, 14, 15, 16, 17, 18, 19, 20, 21, 22, 23, 24, 25, 26, 27, 28, 29, 30, 31, 32, 33, 34, 35, 36, 37, 38, 39, 40, 41, 42, 43, 44, 45, 46, 47, 48, 49], \"y\": [17.25, 5.618663347175397, 0.32710445567038005, 0.22268439078584604, 0.14627237298876233, 0.09344646788291304, 0.05838614562427342, 0.035822870565337846, 0.021648702949387404, 0.01291627157740506, 0.007622050772030462, 0.004455251522786838, 0.002582588889691799, 0.0014860952778065514, 0.0008495736643689568, 0.00048285541061994335, 0.00027299122395204955, 0.00015360783479444052, 8.605954550748055e-05, 4.802519262181797e-05, 2.6703398142182212e-05, 1.4798479656871074e-05, 8.175834838360797e-06, 4.50412549501062e-06, 2.4748024723420133e-06, 1.3564427603471026e-06, 7.417619337917991e-07, 4.0475677092139965e-07, 2.2041875712553158e-07, 1.1980663084656958e-07, 6.500389717733708e-08, 3.5210190671490593e-08, 1.9041814389163854e-08, 1.0282447164854533e-08, 5.5445608526798294e-09, 2.985740042030437e-09, 1.6057587186744525e-09, 8.625398871083716e-10, 4.627792683089635e-10, 2.4802065989456206e-10, 1.3278313782558656e-10, 7.10165374511077e-11, 3.794518025141168e-11, 2.0255928397121125e-11, 1.080345887922313e-11, 5.757107474551828e-12, 3.0654303909015056e-12, 1.6309403754031172e-12, 8.670762840990295e-13, 4.606398249170238e-13]}, {\"name\": \"GD: lr = 1/k\", \"type\": \"scatter\", \"x\": [0, 1, 2, 3, 4, 5, 6, 7, 8, 9, 10, 11, 12, 13, 14, 15, 16, 17, 18, 19, 20, 21, 22, 23, 24, 25, 26, 27, 28, 29, 30, 31, 32, 33, 34, 35, 36, 37, 38, 39, 40, 41, 42, 43, 44, 45, 46, 47, 48, 49], \"y\": [17.25, 12.463124999999998, 9.0046078125, 6.505829144531251, 4.700461556923829, 3.396083474877466, 2.4536703105989695, 1.7727767994077552, 1.280831237572103, 0.9254005691458446, 0.6686019112078727, 0.48306488084768806, 0.34901437641245464, 0.2521628869579985, 0.18218768582715394, 0.1316306030101187, 0.09510311067481074, 0.06871199746255076, 0.04964441816669292, 0.035868092125435624, 0.02591469656062723, 0.018723368265053175, 0.013527633571500918, 0.009773715255409411, 0.007061509272033301, 0.00510194044904406, 0.003686151974434333, 0.002663244801528805, 0.0019241943691045613, 0.0013902304316780452, 0.0010044414868873876, 0.0007257089742761377, 0.0005243247339145094, 0.00037882462025323315, 0.0002737007881329609, 0.00019774881942606425, 0.00014287352203533143, 0.00010322611967052696, 7.458087146195572e-05, 5.388467963126301e-05, 3.893168103358751e-05, 2.8128139546766973e-05, 2.0322580822539136e-05, 1.4683064644284524e-05, 1.0608514205495567e-05, 7.664651513470547e-06, 5.5377107184824705e-06, 4.000995994103584e-06, 2.8907196057398396e-06, 2.0885449151470347e-06]}],\n",
              "                        {\"template\": {\"data\": {\"bar\": [{\"error_x\": {\"color\": \"#2a3f5f\"}, \"error_y\": {\"color\": \"#2a3f5f\"}, \"marker\": {\"line\": {\"color\": \"#E5ECF6\", \"width\": 0.5}}, \"type\": \"bar\"}], \"barpolar\": [{\"marker\": {\"line\": {\"color\": \"#E5ECF6\", \"width\": 0.5}}, \"type\": \"barpolar\"}], \"carpet\": [{\"aaxis\": {\"endlinecolor\": \"#2a3f5f\", \"gridcolor\": \"white\", \"linecolor\": \"white\", \"minorgridcolor\": \"white\", \"startlinecolor\": \"#2a3f5f\"}, \"baxis\": {\"endlinecolor\": \"#2a3f5f\", \"gridcolor\": \"white\", \"linecolor\": \"white\", \"minorgridcolor\": \"white\", \"startlinecolor\": \"#2a3f5f\"}, \"type\": \"carpet\"}], \"choropleth\": [{\"colorbar\": {\"outlinewidth\": 0, \"ticks\": \"\"}, \"type\": \"choropleth\"}], \"contour\": [{\"colorbar\": {\"outlinewidth\": 0, \"ticks\": \"\"}, \"colorscale\": [[0.0, \"#0d0887\"], [0.1111111111111111, \"#46039f\"], [0.2222222222222222, \"#7201a8\"], [0.3333333333333333, \"#9c179e\"], [0.4444444444444444, \"#bd3786\"], [0.5555555555555556, \"#d8576b\"], [0.6666666666666666, \"#ed7953\"], [0.7777777777777778, \"#fb9f3a\"], [0.8888888888888888, \"#fdca26\"], [1.0, \"#f0f921\"]], \"type\": \"contour\"}], \"contourcarpet\": [{\"colorbar\": {\"outlinewidth\": 0, \"ticks\": \"\"}, \"type\": \"contourcarpet\"}], \"heatmap\": [{\"colorbar\": {\"outlinewidth\": 0, \"ticks\": \"\"}, \"colorscale\": [[0.0, \"#0d0887\"], [0.1111111111111111, \"#46039f\"], [0.2222222222222222, \"#7201a8\"], [0.3333333333333333, \"#9c179e\"], [0.4444444444444444, \"#bd3786\"], [0.5555555555555556, \"#d8576b\"], [0.6666666666666666, \"#ed7953\"], [0.7777777777777778, \"#fb9f3a\"], [0.8888888888888888, \"#fdca26\"], [1.0, \"#f0f921\"]], \"type\": \"heatmap\"}], \"heatmapgl\": [{\"colorbar\": {\"outlinewidth\": 0, \"ticks\": \"\"}, \"colorscale\": [[0.0, \"#0d0887\"], [0.1111111111111111, \"#46039f\"], [0.2222222222222222, \"#7201a8\"], [0.3333333333333333, \"#9c179e\"], [0.4444444444444444, \"#bd3786\"], [0.5555555555555556, \"#d8576b\"], [0.6666666666666666, \"#ed7953\"], [0.7777777777777778, \"#fb9f3a\"], [0.8888888888888888, \"#fdca26\"], [1.0, \"#f0f921\"]], \"type\": \"heatmapgl\"}], \"histogram\": [{\"marker\": {\"colorbar\": {\"outlinewidth\": 0, \"ticks\": \"\"}}, \"type\": \"histogram\"}], \"histogram2d\": [{\"colorbar\": {\"outlinewidth\": 0, \"ticks\": \"\"}, \"colorscale\": [[0.0, \"#0d0887\"], [0.1111111111111111, \"#46039f\"], [0.2222222222222222, \"#7201a8\"], [0.3333333333333333, \"#9c179e\"], [0.4444444444444444, \"#bd3786\"], [0.5555555555555556, \"#d8576b\"], [0.6666666666666666, \"#ed7953\"], [0.7777777777777778, \"#fb9f3a\"], [0.8888888888888888, \"#fdca26\"], [1.0, \"#f0f921\"]], \"type\": \"histogram2d\"}], \"histogram2dcontour\": [{\"colorbar\": {\"outlinewidth\": 0, \"ticks\": \"\"}, \"colorscale\": [[0.0, \"#0d0887\"], [0.1111111111111111, \"#46039f\"], [0.2222222222222222, \"#7201a8\"], [0.3333333333333333, \"#9c179e\"], [0.4444444444444444, \"#bd3786\"], [0.5555555555555556, \"#d8576b\"], [0.6666666666666666, \"#ed7953\"], [0.7777777777777778, \"#fb9f3a\"], [0.8888888888888888, \"#fdca26\"], [1.0, \"#f0f921\"]], \"type\": \"histogram2dcontour\"}], \"mesh3d\": [{\"colorbar\": {\"outlinewidth\": 0, \"ticks\": \"\"}, \"type\": \"mesh3d\"}], \"parcoords\": [{\"line\": {\"colorbar\": {\"outlinewidth\": 0, \"ticks\": \"\"}}, \"type\": \"parcoords\"}], \"pie\": [{\"automargin\": true, \"type\": \"pie\"}], \"scatter\": [{\"marker\": {\"colorbar\": {\"outlinewidth\": 0, \"ticks\": \"\"}}, \"type\": \"scatter\"}], \"scatter3d\": [{\"line\": {\"colorbar\": {\"outlinewidth\": 0, \"ticks\": \"\"}}, \"marker\": {\"colorbar\": {\"outlinewidth\": 0, \"ticks\": \"\"}}, \"type\": \"scatter3d\"}], \"scattercarpet\": [{\"marker\": {\"colorbar\": {\"outlinewidth\": 0, \"ticks\": \"\"}}, \"type\": \"scattercarpet\"}], \"scattergeo\": [{\"marker\": {\"colorbar\": {\"outlinewidth\": 0, \"ticks\": \"\"}}, \"type\": \"scattergeo\"}], \"scattergl\": [{\"marker\": {\"colorbar\": {\"outlinewidth\": 0, \"ticks\": \"\"}}, \"type\": \"scattergl\"}], \"scattermapbox\": [{\"marker\": {\"colorbar\": {\"outlinewidth\": 0, \"ticks\": \"\"}}, \"type\": \"scattermapbox\"}], \"scatterpolar\": [{\"marker\": {\"colorbar\": {\"outlinewidth\": 0, \"ticks\": \"\"}}, \"type\": \"scatterpolar\"}], \"scatterpolargl\": [{\"marker\": {\"colorbar\": {\"outlinewidth\": 0, \"ticks\": \"\"}}, \"type\": \"scatterpolargl\"}], \"scatterternary\": [{\"marker\": {\"colorbar\": {\"outlinewidth\": 0, \"ticks\": \"\"}}, \"type\": \"scatterternary\"}], \"surface\": [{\"colorbar\": {\"outlinewidth\": 0, \"ticks\": \"\"}, \"colorscale\": [[0.0, \"#0d0887\"], [0.1111111111111111, \"#46039f\"], [0.2222222222222222, \"#7201a8\"], [0.3333333333333333, \"#9c179e\"], [0.4444444444444444, \"#bd3786\"], [0.5555555555555556, \"#d8576b\"], [0.6666666666666666, \"#ed7953\"], [0.7777777777777778, \"#fb9f3a\"], [0.8888888888888888, \"#fdca26\"], [1.0, \"#f0f921\"]], \"type\": \"surface\"}], \"table\": [{\"cells\": {\"fill\": {\"color\": \"#EBF0F8\"}, \"line\": {\"color\": \"white\"}}, \"header\": {\"fill\": {\"color\": \"#C8D4E3\"}, \"line\": {\"color\": \"white\"}}, \"type\": \"table\"}]}, \"layout\": {\"annotationdefaults\": {\"arrowcolor\": \"#2a3f5f\", \"arrowhead\": 0, \"arrowwidth\": 1}, \"coloraxis\": {\"colorbar\": {\"outlinewidth\": 0, \"ticks\": \"\"}}, \"colorscale\": {\"diverging\": [[0, \"#8e0152\"], [0.1, \"#c51b7d\"], [0.2, \"#de77ae\"], [0.3, \"#f1b6da\"], [0.4, \"#fde0ef\"], [0.5, \"#f7f7f7\"], [0.6, \"#e6f5d0\"], [0.7, \"#b8e186\"], [0.8, \"#7fbc41\"], [0.9, \"#4d9221\"], [1, \"#276419\"]], \"sequential\": [[0.0, \"#0d0887\"], [0.1111111111111111, \"#46039f\"], [0.2222222222222222, \"#7201a8\"], [0.3333333333333333, \"#9c179e\"], [0.4444444444444444, \"#bd3786\"], [0.5555555555555556, \"#d8576b\"], [0.6666666666666666, \"#ed7953\"], [0.7777777777777778, \"#fb9f3a\"], [0.8888888888888888, \"#fdca26\"], [1.0, \"#f0f921\"]], \"sequentialminus\": [[0.0, \"#0d0887\"], [0.1111111111111111, \"#46039f\"], [0.2222222222222222, \"#7201a8\"], [0.3333333333333333, \"#9c179e\"], [0.4444444444444444, \"#bd3786\"], [0.5555555555555556, \"#d8576b\"], [0.6666666666666666, \"#ed7953\"], [0.7777777777777778, \"#fb9f3a\"], [0.8888888888888888, \"#fdca26\"], [1.0, \"#f0f921\"]]}, \"colorway\": [\"#636efa\", \"#EF553B\", \"#00cc96\", \"#ab63fa\", \"#FFA15A\", \"#19d3f3\", \"#FF6692\", \"#B6E880\", \"#FF97FF\", \"#FECB52\"], \"font\": {\"color\": \"#2a3f5f\"}, \"geo\": {\"bgcolor\": \"white\", \"lakecolor\": \"white\", \"landcolor\": \"#E5ECF6\", \"showlakes\": true, \"showland\": true, \"subunitcolor\": \"white\"}, \"hoverlabel\": {\"align\": \"left\"}, \"hovermode\": \"closest\", \"mapbox\": {\"style\": \"light\"}, \"paper_bgcolor\": \"white\", \"plot_bgcolor\": \"#E5ECF6\", \"polar\": {\"angularaxis\": {\"gridcolor\": \"white\", \"linecolor\": \"white\", \"ticks\": \"\"}, \"bgcolor\": \"#E5ECF6\", \"radialaxis\": {\"gridcolor\": \"white\", \"linecolor\": \"white\", \"ticks\": \"\"}}, \"scene\": {\"xaxis\": {\"backgroundcolor\": \"#E5ECF6\", \"gridcolor\": \"white\", \"gridwidth\": 2, \"linecolor\": \"white\", \"showbackground\": true, \"ticks\": \"\", \"zerolinecolor\": \"white\"}, \"yaxis\": {\"backgroundcolor\": \"#E5ECF6\", \"gridcolor\": \"white\", \"gridwidth\": 2, \"linecolor\": \"white\", \"showbackground\": true, \"ticks\": \"\", \"zerolinecolor\": \"white\"}, \"zaxis\": {\"backgroundcolor\": \"#E5ECF6\", \"gridcolor\": \"white\", \"gridwidth\": 2, \"linecolor\": \"white\", \"showbackground\": true, \"ticks\": \"\", \"zerolinecolor\": \"white\"}}, \"shapedefaults\": {\"line\": {\"color\": \"#2a3f5f\"}}, \"ternary\": {\"aaxis\": {\"gridcolor\": \"white\", \"linecolor\": \"white\", \"ticks\": \"\"}, \"baxis\": {\"gridcolor\": \"white\", \"linecolor\": \"white\", \"ticks\": \"\"}, \"bgcolor\": \"#E5ECF6\", \"caxis\": {\"gridcolor\": \"white\", \"linecolor\": \"white\", \"ticks\": \"\"}}, \"title\": {\"x\": 0.05}, \"xaxis\": {\"automargin\": true, \"gridcolor\": \"white\", \"linecolor\": \"white\", \"ticks\": \"\", \"title\": {\"standoff\": 15}, \"zerolinecolor\": \"white\", \"zerolinewidth\": 2}, \"yaxis\": {\"automargin\": true, \"gridcolor\": \"white\", \"linecolor\": \"white\", \"ticks\": \"\", \"title\": {\"standoff\": 15}, \"zerolinecolor\": \"white\", \"zerolinewidth\": 2}}}, \"title\": {\"text\": \"somewhat-ill-conditioned matrix\"}},\n",
              "                        {\"responsive\": true}\n",
              "                    ).then(function(){\n",
              "                            \n",
              "var gd = document.getElementById('bb0cdc0e-1a51-4fb0-9639-322e30730865');\n",
              "var x = new MutationObserver(function (mutations, observer) {{\n",
              "        var display = window.getComputedStyle(gd).display;\n",
              "        if (!display || display === 'none') {{\n",
              "            console.log([gd, 'removed!']);\n",
              "            Plotly.purge(gd);\n",
              "            observer.disconnect();\n",
              "        }}\n",
              "}});\n",
              "\n",
              "// Listen for the removal of the full notebook cells\n",
              "var notebookContainer = gd.closest('#notebook-container');\n",
              "if (notebookContainer) {{\n",
              "    x.observe(notebookContainer, {childList: true});\n",
              "}}\n",
              "\n",
              "// Listen for the clearing of the current output cell\n",
              "var outputEl = gd.closest('.output');\n",
              "if (outputEl) {{\n",
              "    x.observe(outputEl, {childList: true});\n",
              "}}\n",
              "\n",
              "                        })\n",
              "                };\n",
              "                \n",
              "            </script>\n",
              "        </div>\n",
              "</body>\n",
              "</html>"
            ]
          },
          "metadata": {
            "tags": []
          }
        },
        {
          "output_type": "stream",
          "text": [
            "100%|██████████| 50/50 [00:00<00:00, 21072.67it/s]\n",
            "100%|██████████| 50/50 [00:00<00:00, 15897.15it/s]\n",
            "100%|██████████| 50/50 [00:00<00:00, 23492.24it/s]\n"
          ],
          "name": "stderr"
        },
        {
          "output_type": "display_data",
          "data": {
            "text/html": [
              "<html>\n",
              "<head><meta charset=\"utf-8\" /></head>\n",
              "<body>\n",
              "    <div>\n",
              "            <script src=\"https://cdnjs.cloudflare.com/ajax/libs/mathjax/2.7.5/MathJax.js?config=TeX-AMS-MML_SVG\"></script><script type=\"text/javascript\">if (window.MathJax) {MathJax.Hub.Config({SVG: {font: \"STIX-Web\"}});}</script>\n",
              "                <script type=\"text/javascript\">window.PlotlyConfig = {MathJaxConfig: 'local'};</script>\n",
              "        <script src=\"https://cdn.plot.ly/plotly-latest.min.js\"></script>    \n",
              "            <div id=\"dd95e06b-b7e0-455f-a5fe-ca723d522423\" class=\"plotly-graph-div\" style=\"height:525px; width:100%;\"></div>\n",
              "            <script type=\"text/javascript\">\n",
              "                \n",
              "                    window.PLOTLYENV=window.PLOTLYENV || {};\n",
              "                    \n",
              "                if (document.getElementById(\"dd95e06b-b7e0-455f-a5fe-ca723d522423\")) {\n",
              "                    Plotly.newPlot(\n",
              "                        'dd95e06b-b7e0-455f-a5fe-ca723d522423',\n",
              "                        [{\"name\": \"AGD: lr = 1/k\", \"type\": \"scatter\", \"x\": [0, 1, 2, 3, 4, 5, 6, 7, 8, 9, 10, 11, 12, 13, 14, 15, 16, 17, 18, 19, 20, 21, 22, 23, 24, 25, 26, 27, 28, 29, 30, 31, 32, 33, 34, 35, 36, 37, 38, 39, 40, 41, 42, 43, 44, 45, 46, 47, 48, 49], \"y\": [17.95, 13.520913956199013, 0.0382230263823021, 0.036966397472019685, 0.035533322831436114, 0.03396893985364288, 0.032312980888041284, 0.03059990958841741, 0.028859189128016844, 0.027115634355923464, 0.025389811883954335, 0.0236984614715771, 0.02205491941280849, 0.020469530327274776, 0.018950038146216156, 0.017501950430127648, 0.016128872674294373, 0.014832811126526442, 0.013614443998873346, 0.01247336191520603, 0.011408279089928799, 0.010417217152010409, 0.009497663770367025, 0.008646708346719434, 0.007861157055965719, 0.007137629459628746, 0.006472638816536127, 0.005862658083045996, 0.00530417344533051, 0.004793727067802389, 0.0043279505815657674, 0.00390359067969551, 0.0035175280355995387, 0.0031667906189306112, 0.0028485623518468826, 0.0025601879275651052, 0.0022991745033096246, 0.0020631908807861674, 0.0018500646988024645, 0.0016577780840573376, 0.0014844621367568734, 0.0013283905668717766, 0.0011879727437773776, 0.0010617463759812031, 0.0009483699979238586, 0.0008466154067580222, 0.0007553601629271507, 0.0006735802436903314, 0.0006003429179296514, 0.0005347998931392064]}, {\"name\": \"AGD_old_m: lr = 1/k\", \"type\": \"scatter\", \"x\": [0, 1, 2, 3, 4, 5, 6, 7, 8, 9, 10, 11, 12, 13, 14, 15, 16, 17, 18, 19, 20, 21, 22, 23, 24, 25, 26, 27, 28, 29, 30, 31, 32, 33, 34, 35, 36, 37, 38, 39, 40, 41, 42, 43, 44, 45, 46, 47, 48, 49], \"y\": [17.95, 13.520913956199013, 0.0382230263823021, 0.036966397472019685, 0.035533322831436114, 0.03396893985364288, 0.032312980888041284, 0.03059990958841741, 0.028859189128016844, 0.027115634355923464, 0.025389811883954335, 0.0236984614715771, 0.02205491941280849, 0.020469530327274776, 0.018950038146216156, 0.017501950430127648, 0.016128872674294373, 0.014832811126526442, 0.013614443998873346, 0.01247336191520603, 0.011408279089928799, 0.010417217152010409, 0.009497663770367025, 0.008646708346719434, 0.007861157055965719, 0.007137629459628746, 0.006472638816536127, 0.005862658083045996, 0.00530417344533051, 0.004793727067802389, 0.0043279505815657674, 0.00390359067969551, 0.0035175280355995387, 0.0031667906189306112, 0.0028485623518468826, 0.0025601879275651052, 0.0022991745033096246, 0.0020631908807861674, 0.0018500646988024645, 0.0016577780840573376, 0.0014844621367568734, 0.0013283905668717766, 0.0011879727437773776, 0.0010617463759812031, 0.0009483699979238586, 0.0008466154067580222, 0.0007553601629271507, 0.0006735802436903314, 0.0006003429179296514, 0.0005347998931392064]}, {\"name\": \"GD: lr = 1/k\", \"type\": \"scatter\", \"x\": [0, 1, 2, 3, 4, 5, 6, 7, 8, 9, 10, 11, 12, 13, 14, 15, 16, 17, 18, 19, 20, 21, 22, 23, 24, 25, 26, 27, 28, 29, 30, 31, 32, 33, 34, 35, 36, 37, 38, 39, 40, 41, 42, 43, 44, 45, 46, 47, 48, 49], \"y\": [17.95, 17.592795000000002, 17.242698379500002, 16.899568681747947, 16.56326726498116, 16.233658246408034, 15.910608447304512, 15.593987339203151, 15.283666991153009, 14.979522018029066, 14.681429529870284, 14.389269082225862, 14.102922627489571, 13.822274467202528, 13.547211205305198, 13.277621702319621, 13.013397030443462, 12.75443042953764, 12.500617263989843, 12.251854980436448, 12.008043066325762, 11.769083009305877, 11.534878257420688, 11.305334180098018, 11.08035802991407, 10.859858905118783, 10.64374771290692, 10.431937133420073, 10.224341584465012, 10.020877186934158, 9.821461730914166, 9.626014642468975, 9.434456951083844, 9.246711257757275, 9.062701703727907, 8.88235393982372, 8.705595096421227, 8.532353754002441, 8.362559914297796, 8.19614497200327, 8.033041687060408, 7.8731841574879065, 7.716507792753897, 7.5629492876780935, 7.412446596853298, 7.264938909575919, 7.120366625275358, 6.9786713294323794, 6.839795769976676, 6.70368383415414]}],\n",
              "                        {\"template\": {\"data\": {\"bar\": [{\"error_x\": {\"color\": \"#2a3f5f\"}, \"error_y\": {\"color\": \"#2a3f5f\"}, \"marker\": {\"line\": {\"color\": \"#E5ECF6\", \"width\": 0.5}}, \"type\": \"bar\"}], \"barpolar\": [{\"marker\": {\"line\": {\"color\": \"#E5ECF6\", \"width\": 0.5}}, \"type\": \"barpolar\"}], \"carpet\": [{\"aaxis\": {\"endlinecolor\": \"#2a3f5f\", \"gridcolor\": \"white\", \"linecolor\": \"white\", \"minorgridcolor\": \"white\", \"startlinecolor\": \"#2a3f5f\"}, \"baxis\": {\"endlinecolor\": \"#2a3f5f\", \"gridcolor\": \"white\", \"linecolor\": \"white\", \"minorgridcolor\": \"white\", \"startlinecolor\": \"#2a3f5f\"}, \"type\": \"carpet\"}], \"choropleth\": [{\"colorbar\": {\"outlinewidth\": 0, \"ticks\": \"\"}, \"type\": \"choropleth\"}], \"contour\": [{\"colorbar\": {\"outlinewidth\": 0, \"ticks\": \"\"}, \"colorscale\": [[0.0, \"#0d0887\"], [0.1111111111111111, \"#46039f\"], [0.2222222222222222, \"#7201a8\"], [0.3333333333333333, \"#9c179e\"], [0.4444444444444444, \"#bd3786\"], [0.5555555555555556, \"#d8576b\"], [0.6666666666666666, \"#ed7953\"], [0.7777777777777778, \"#fb9f3a\"], [0.8888888888888888, \"#fdca26\"], [1.0, \"#f0f921\"]], \"type\": \"contour\"}], \"contourcarpet\": [{\"colorbar\": {\"outlinewidth\": 0, \"ticks\": \"\"}, \"type\": \"contourcarpet\"}], \"heatmap\": [{\"colorbar\": {\"outlinewidth\": 0, \"ticks\": \"\"}, \"colorscale\": [[0.0, \"#0d0887\"], [0.1111111111111111, \"#46039f\"], [0.2222222222222222, \"#7201a8\"], [0.3333333333333333, \"#9c179e\"], [0.4444444444444444, \"#bd3786\"], [0.5555555555555556, \"#d8576b\"], [0.6666666666666666, \"#ed7953\"], [0.7777777777777778, \"#fb9f3a\"], [0.8888888888888888, \"#fdca26\"], [1.0, \"#f0f921\"]], \"type\": \"heatmap\"}], \"heatmapgl\": [{\"colorbar\": {\"outlinewidth\": 0, \"ticks\": \"\"}, \"colorscale\": [[0.0, \"#0d0887\"], [0.1111111111111111, \"#46039f\"], [0.2222222222222222, \"#7201a8\"], [0.3333333333333333, \"#9c179e\"], [0.4444444444444444, \"#bd3786\"], [0.5555555555555556, \"#d8576b\"], [0.6666666666666666, \"#ed7953\"], [0.7777777777777778, \"#fb9f3a\"], [0.8888888888888888, \"#fdca26\"], [1.0, \"#f0f921\"]], \"type\": \"heatmapgl\"}], \"histogram\": [{\"marker\": {\"colorbar\": {\"outlinewidth\": 0, \"ticks\": \"\"}}, \"type\": \"histogram\"}], \"histogram2d\": [{\"colorbar\": {\"outlinewidth\": 0, \"ticks\": \"\"}, \"colorscale\": [[0.0, \"#0d0887\"], [0.1111111111111111, \"#46039f\"], [0.2222222222222222, \"#7201a8\"], [0.3333333333333333, \"#9c179e\"], [0.4444444444444444, \"#bd3786\"], [0.5555555555555556, \"#d8576b\"], [0.6666666666666666, \"#ed7953\"], [0.7777777777777778, \"#fb9f3a\"], [0.8888888888888888, \"#fdca26\"], [1.0, \"#f0f921\"]], \"type\": \"histogram2d\"}], \"histogram2dcontour\": [{\"colorbar\": {\"outlinewidth\": 0, \"ticks\": \"\"}, \"colorscale\": [[0.0, \"#0d0887\"], [0.1111111111111111, \"#46039f\"], [0.2222222222222222, \"#7201a8\"], [0.3333333333333333, \"#9c179e\"], [0.4444444444444444, \"#bd3786\"], [0.5555555555555556, \"#d8576b\"], [0.6666666666666666, \"#ed7953\"], [0.7777777777777778, \"#fb9f3a\"], [0.8888888888888888, \"#fdca26\"], [1.0, \"#f0f921\"]], \"type\": \"histogram2dcontour\"}], \"mesh3d\": [{\"colorbar\": {\"outlinewidth\": 0, \"ticks\": \"\"}, \"type\": \"mesh3d\"}], \"parcoords\": [{\"line\": {\"colorbar\": {\"outlinewidth\": 0, \"ticks\": \"\"}}, \"type\": \"parcoords\"}], \"pie\": [{\"automargin\": true, \"type\": \"pie\"}], \"scatter\": [{\"marker\": {\"colorbar\": {\"outlinewidth\": 0, \"ticks\": \"\"}}, \"type\": \"scatter\"}], \"scatter3d\": [{\"line\": {\"colorbar\": {\"outlinewidth\": 0, \"ticks\": \"\"}}, \"marker\": {\"colorbar\": {\"outlinewidth\": 0, \"ticks\": \"\"}}, \"type\": \"scatter3d\"}], \"scattercarpet\": [{\"marker\": {\"colorbar\": {\"outlinewidth\": 0, \"ticks\": \"\"}}, \"type\": \"scattercarpet\"}], \"scattergeo\": [{\"marker\": {\"colorbar\": {\"outlinewidth\": 0, \"ticks\": \"\"}}, \"type\": \"scattergeo\"}], \"scattergl\": [{\"marker\": {\"colorbar\": {\"outlinewidth\": 0, \"ticks\": \"\"}}, \"type\": \"scattergl\"}], \"scattermapbox\": [{\"marker\": {\"colorbar\": {\"outlinewidth\": 0, \"ticks\": \"\"}}, \"type\": \"scattermapbox\"}], \"scatterpolar\": [{\"marker\": {\"colorbar\": {\"outlinewidth\": 0, \"ticks\": \"\"}}, \"type\": \"scatterpolar\"}], \"scatterpolargl\": [{\"marker\": {\"colorbar\": {\"outlinewidth\": 0, \"ticks\": \"\"}}, \"type\": \"scatterpolargl\"}], \"scatterternary\": [{\"marker\": {\"colorbar\": {\"outlinewidth\": 0, \"ticks\": \"\"}}, \"type\": \"scatterternary\"}], \"surface\": [{\"colorbar\": {\"outlinewidth\": 0, \"ticks\": \"\"}, \"colorscale\": [[0.0, \"#0d0887\"], [0.1111111111111111, \"#46039f\"], [0.2222222222222222, \"#7201a8\"], [0.3333333333333333, \"#9c179e\"], [0.4444444444444444, \"#bd3786\"], [0.5555555555555556, \"#d8576b\"], [0.6666666666666666, \"#ed7953\"], [0.7777777777777778, \"#fb9f3a\"], [0.8888888888888888, \"#fdca26\"], [1.0, \"#f0f921\"]], \"type\": \"surface\"}], \"table\": [{\"cells\": {\"fill\": {\"color\": \"#EBF0F8\"}, \"line\": {\"color\": \"white\"}}, \"header\": {\"fill\": {\"color\": \"#C8D4E3\"}, \"line\": {\"color\": \"white\"}}, \"type\": \"table\"}]}, \"layout\": {\"annotationdefaults\": {\"arrowcolor\": \"#2a3f5f\", \"arrowhead\": 0, \"arrowwidth\": 1}, \"coloraxis\": {\"colorbar\": {\"outlinewidth\": 0, \"ticks\": \"\"}}, \"colorscale\": {\"diverging\": [[0, \"#8e0152\"], [0.1, \"#c51b7d\"], [0.2, \"#de77ae\"], [0.3, \"#f1b6da\"], [0.4, \"#fde0ef\"], [0.5, \"#f7f7f7\"], [0.6, \"#e6f5d0\"], [0.7, \"#b8e186\"], [0.8, \"#7fbc41\"], [0.9, \"#4d9221\"], [1, \"#276419\"]], \"sequential\": [[0.0, \"#0d0887\"], [0.1111111111111111, \"#46039f\"], [0.2222222222222222, \"#7201a8\"], [0.3333333333333333, \"#9c179e\"], [0.4444444444444444, \"#bd3786\"], [0.5555555555555556, \"#d8576b\"], [0.6666666666666666, \"#ed7953\"], [0.7777777777777778, \"#fb9f3a\"], [0.8888888888888888, \"#fdca26\"], [1.0, \"#f0f921\"]], \"sequentialminus\": [[0.0, \"#0d0887\"], [0.1111111111111111, \"#46039f\"], [0.2222222222222222, \"#7201a8\"], [0.3333333333333333, \"#9c179e\"], [0.4444444444444444, \"#bd3786\"], [0.5555555555555556, \"#d8576b\"], [0.6666666666666666, \"#ed7953\"], [0.7777777777777778, \"#fb9f3a\"], [0.8888888888888888, \"#fdca26\"], [1.0, \"#f0f921\"]]}, \"colorway\": [\"#636efa\", \"#EF553B\", \"#00cc96\", \"#ab63fa\", \"#FFA15A\", \"#19d3f3\", \"#FF6692\", \"#B6E880\", \"#FF97FF\", \"#FECB52\"], \"font\": {\"color\": \"#2a3f5f\"}, \"geo\": {\"bgcolor\": \"white\", \"lakecolor\": \"white\", \"landcolor\": \"#E5ECF6\", \"showlakes\": true, \"showland\": true, \"subunitcolor\": \"white\"}, \"hoverlabel\": {\"align\": \"left\"}, \"hovermode\": \"closest\", \"mapbox\": {\"style\": \"light\"}, \"paper_bgcolor\": \"white\", \"plot_bgcolor\": \"#E5ECF6\", \"polar\": {\"angularaxis\": {\"gridcolor\": \"white\", \"linecolor\": \"white\", \"ticks\": \"\"}, \"bgcolor\": \"#E5ECF6\", \"radialaxis\": {\"gridcolor\": \"white\", \"linecolor\": \"white\", \"ticks\": \"\"}}, \"scene\": {\"xaxis\": {\"backgroundcolor\": \"#E5ECF6\", \"gridcolor\": \"white\", \"gridwidth\": 2, \"linecolor\": \"white\", \"showbackground\": true, \"ticks\": \"\", \"zerolinecolor\": \"white\"}, \"yaxis\": {\"backgroundcolor\": \"#E5ECF6\", \"gridcolor\": \"white\", \"gridwidth\": 2, \"linecolor\": \"white\", \"showbackground\": true, \"ticks\": \"\", \"zerolinecolor\": \"white\"}, \"zaxis\": {\"backgroundcolor\": \"#E5ECF6\", \"gridcolor\": \"white\", \"gridwidth\": 2, \"linecolor\": \"white\", \"showbackground\": true, \"ticks\": \"\", \"zerolinecolor\": \"white\"}}, \"shapedefaults\": {\"line\": {\"color\": \"#2a3f5f\"}}, \"ternary\": {\"aaxis\": {\"gridcolor\": \"white\", \"linecolor\": \"white\", \"ticks\": \"\"}, \"baxis\": {\"gridcolor\": \"white\", \"linecolor\": \"white\", \"ticks\": \"\"}, \"bgcolor\": \"#E5ECF6\", \"caxis\": {\"gridcolor\": \"white\", \"linecolor\": \"white\", \"ticks\": \"\"}}, \"title\": {\"x\": 0.05}, \"xaxis\": {\"automargin\": true, \"gridcolor\": \"white\", \"linecolor\": \"white\", \"ticks\": \"\", \"title\": {\"standoff\": 15}, \"zerolinecolor\": \"white\", \"zerolinewidth\": 2}, \"yaxis\": {\"automargin\": true, \"gridcolor\": \"white\", \"linecolor\": \"white\", \"ticks\": \"\", \"title\": {\"standoff\": 15}, \"zerolinecolor\": \"white\", \"zerolinewidth\": 2}}}, \"title\": {\"text\": \"ill condition matrix\"}},\n",
              "                        {\"responsive\": true}\n",
              "                    ).then(function(){\n",
              "                            \n",
              "var gd = document.getElementById('dd95e06b-b7e0-455f-a5fe-ca723d522423');\n",
              "var x = new MutationObserver(function (mutations, observer) {{\n",
              "        var display = window.getComputedStyle(gd).display;\n",
              "        if (!display || display === 'none') {{\n",
              "            console.log([gd, 'removed!']);\n",
              "            Plotly.purge(gd);\n",
              "            observer.disconnect();\n",
              "        }}\n",
              "}});\n",
              "\n",
              "// Listen for the removal of the full notebook cells\n",
              "var notebookContainer = gd.closest('#notebook-container');\n",
              "if (notebookContainer) {{\n",
              "    x.observe(notebookContainer, {childList: true});\n",
              "}}\n",
              "\n",
              "// Listen for the clearing of the current output cell\n",
              "var outputEl = gd.closest('.output');\n",
              "if (outputEl) {{\n",
              "    x.observe(outputEl, {childList: true});\n",
              "}}\n",
              "\n",
              "                        })\n",
              "                };\n",
              "                \n",
              "            </script>\n",
              "        </div>\n",
              "</body>\n",
              "</html>"
            ]
          },
          "metadata": {
            "tags": []
          }
        }
      ]
    },
    {
      "cell_type": "markdown",
      "metadata": {
        "id": "-YSu7lbrKlmJ"
      },
      "source": [
        "# Problem 2: ISTA and FISTA\n",
        "Recall the least squares problem with $\\ell^1$ regularization from the previous homework:\n",
        "$$\n",
        "\\min_x \\left[f(x) = \\frac{1}{2}\\|{Ax-b}\\|_2^2 + \\lambda \\|{x}\\|_1 \\right]\n",
        "$$\n",
        "\n",
        "Recall key characteristics of this problem: it is nonsmooth due to the regularization term, and it is not strongly convex when $A$ has more columns than rows. This is why you used the sub-gradient method on the previous problem set, rather than Gradient descent. \n",
        "\n",
        "Recall the goal of the proximal gradient algorithm: when we have a composite function, i.e., a function of the form $f(x) = g(x) + h(x)$, if $g(x)$ is $\\beta$-smooth and $h(x)$ is ``simple'' in the sense that it has a simple prox function, then rather than using the subgradient method, we can get much better results by using proximal gradient, which takes advantage of the fact that $g(x)$ is smooth. We can improve this further by combining the proximal gradient method with acceleration. \n",
        "\n",
        "Using the same data (same $A$ and $b$) as in Problem Set 3, minimize $f(x)$ using $10^4$ iterations with $t=0$ and $x_0 =0$. \n",
        "\n",
        "Use the proximal gradient algorithm, also known as ISTA for the case where $f$ is the LASSO objective. Now use the accelerated proximal gradient algorithm, also, known as FISTA. Plot these results on the same plot as your results for sub-gradient descent from the previous lecture. "
      ]
    },
    {
      "cell_type": "code",
      "metadata": {
        "id": "Kp7EDC9s4G10"
      },
      "source": [
        "import numpy as np\n",
        "import numpy.random as rn\n",
        "import numpy.linalg as la\n",
        "import matplotlib.pyplot as plt\n",
        "import time\n",
        "\n",
        "class LASSO:\n",
        "    def __init__(self, A, b, lmda = 1e-3):\n",
        "        self.A = A\n",
        "        self.b = b\n",
        "        self.lmda = lmda\n",
        "        self.loss = lambda weight : (1./b.shape[0])*(.5)*np.sum((np.dot(A,weight)-b)**2)\n",
        "        self.reg  = lambda weight : self.lmda*la.norm(weight,1)\n",
        "        self.grad_loss = lambda weight : (1./b.shape[0])*np.dot(A.T,np.dot(A,weight)-b)\n",
        "        self.grad_reg  = lambda weight : self.lmda*la.norm(weight,1) \n",
        "        self.optimal = 0\n",
        "    def eval(self, weight):\n",
        "        return self.loss(weight) + self.reg(weight)\n",
        "    def gradient(self,weight):\n",
        "        return self.subgradient(weight)      \n",
        "    def subgradient(self,weight):\n",
        "        return self.grad_loss(weight) + self.grad_reg(weight)\n",
        "    def loss_gradient(self,weight):\n",
        "        return self.grad_loss(weight)      "
      ],
      "execution_count": null,
      "outputs": []
    },
    {
      "cell_type": "code",
      "metadata": {
        "id": "c92ZUaqytFPR"
      },
      "source": [
        "\r\n",
        "class ISTA:\r\n",
        "    def __init__(self, function, x_init, epochs, learning_rate, optimal=None):\r\n",
        "        self.function = function\r\n",
        "        self.x_init = x_init\r\n",
        "        self.epochs = epochs\r\n",
        "        self.learning_rate = learning_rate\r\n",
        "        self.optimal = optimal\r\n",
        "        self.history = {\"step\": [],\r\n",
        "                        \"function_vals\": [],\r\n",
        "                        \"grad_vals\": [], \r\n",
        "                        \"x_vals\": [self.x_init], \r\n",
        "                        \"opt_dif\": [],\r\n",
        "                        \"test_loss\": []}\r\n",
        "    def prox_operator(self, z, alpha):\r\n",
        "        return np.sign(z)*np.maximum(abs(z)-alpha,0)\r\n",
        "    def go(self, sumarize=True):\r\n",
        "        for i in range(self.epochs):\r\n",
        "          ##RETRIVE OLD VALS\r\n",
        "          x_old = self.history['x_vals'][-1]\r\n",
        "          ##EVALUATE HERE\r\n",
        "          f = self.function.eval(x_old)\r\n",
        "          g = self.function.loss_gradient(x_old)\r\n",
        "          ##UPDATE HERE : if lr rate is lamda function act different\r\n",
        "          x = self.prox_operator(x_old - self.learning_rate(i) * g, self.learning_rate(i)*self.function.lmda )\r\n",
        "          ##STORE HISTORY\r\n",
        "          self.history['step'].append(i)\r\n",
        "          self.history['function_vals'].append(float(f))\r\n",
        "          self.history['grad_vals'].append(g)\r\n",
        "          self.history['x_vals'].append(x)\r\n",
        "\r\n",
        "\r\n",
        "\r\n",
        "class FISTA:\r\n",
        "    def __init__(self, function, x_init, epochs, learning_rate, optimal=None, momentum=None):\r\n",
        "        self.function = function\r\n",
        "        self.x_init = x_init\r\n",
        "        if momentum==None: #default\r\n",
        "          self.get_theta = lambda theta_past : (1 + np.sqrt(1+ 4*theta_past**2) ) / 2\r\n",
        "          self.get_momentum = lambda theta_past : (theta_past - 1)/self.get_theta(theta_past) \r\n",
        "        else: #constant momentum\r\n",
        "          self.get_theta = lambda dummy: 0\r\n",
        "          self.get_momentum = lambda dummy: momentum\r\n",
        "        self.epochs = epochs\r\n",
        "        self.learning_rate = learning_rate\r\n",
        "        self.optimal = optimal\r\n",
        "        self.history = {\"step\": [],\r\n",
        "                        \"function_vals\": [],\r\n",
        "                        \"grad_vals\": [], \r\n",
        "                        \"x_vals\": [self.x_init], ##initialize x\r\n",
        "                        \"y_vals\": [self.x_init],  ##initialize y\r\n",
        "                        \"theta\": [1], ##initialize theta\r\n",
        "                        \"opt_dif\": [],\r\n",
        "                        \"test_loss\": []}\r\n",
        "    def prox_operator(self, z, alpha):\r\n",
        "        return np.sign(z)*np.maximum(abs(z)-alpha,0)\r\n",
        "    def go(self, sumarize=True):\r\n",
        "        for i in range(self.epochs):\r\n",
        "          ##RETRIVE OLD VALS\r\n",
        "          x_old = self.history['x_vals'][-1]\r\n",
        "          y_old = self.history['y_vals'][-1]\r\n",
        "          theta_old = self.history['theta'][-1]\r\n",
        "          ##EVALUATE HERE\r\n",
        "          f = self.function.eval(x_old)\r\n",
        "          g = self.function.loss_gradient(x_old)\r\n",
        "          ##UPDATE HERE : if lr rate is lamda function act different\r\n",
        "          m = self.get_momentum(theta_old)\r\n",
        "          y = self.prox_operator(x_old - self.learning_rate(i) * g, self.learning_rate(i)*self.function.lmda)\r\n",
        "          x = (1 + m)*y - m * y_old\r\n",
        "          ##STORE HISTORY\r\n",
        "          self.history['step'].append(i)\r\n",
        "          self.history['function_vals'].append(float(f))\r\n",
        "          self.history['grad_vals'].append(g)\r\n",
        "          self.history['x_vals'].append(x)\r\n",
        "          self.history['y_vals'].append(y)\r\n",
        "          self.history['theta'].append(self.get_theta(theta_old))\r\n",
        "\r\n"
      ],
      "execution_count": null,
      "outputs": []
    },
    {
      "cell_type": "code",
      "metadata": {
        "id": "9y1uvuh5cENf",
        "colab": {
          "base_uri": "https://localhost:8080/",
          "height": 559
        },
        "outputId": "71828115-a5f1-4831-a86a-fc40c20e5b1f"
      },
      "source": [
        "A = np.load(\"A.npy\")\n",
        "b = np.load(\"b.npy\")\n",
        "\n",
        "sm , sc = (1/A.shape[0])*la.norm(A,2)**2,(1/A.shape[0])*la.norm(A,-2)**2\n",
        "\n",
        "gd    = GD(LASSO(A,b,   lmda=1e-5), x_init = np.random.rand(100)*10, epochs = int(5e2), learning_rate = lambda dummy : 5e-2)\n",
        "ista  = ISTA(LASSO(A,b, lmda=1e-5), x_init = np.random.rand(100)*10, epochs = int(5e2), learning_rate = lambda dummy : 1/sm )\n",
        "fista = FISTA(LASSO(A,b,lmda=1e-5), x_init = np.random.rand(100)*10, epochs = int(5e2), learning_rate = lambda dummy : 1/sm  )\n",
        "gd.go()\n",
        "ista.go()\n",
        "fista.go()\n",
        "\n",
        "# plot the data\n",
        "all_history = { \"GD\"  : gd.history ,\n",
        "               \"fista\": fista.history,\n",
        "               \"ista\" :  ista.history}\n",
        "\n",
        "fig = graph.Figure(layout = graph.Layout(title=graph.layout.Title(text=\"GD vs ISTA vs FISTA\")))\n",
        "for i in all_history:\n",
        "    fig.add_trace(graph.Scatter(x    = all_history[i][\"step\"],\n",
        "                                y    = all_history[i][\"function_vals\"],\n",
        "                                name = i))\n",
        "fig.show()\n",
        "\n",
        "\n",
        "\n"
      ],
      "execution_count": null,
      "outputs": [
        {
          "output_type": "stream",
          "text": [
            "100%|██████████| 500/500 [00:00<00:00, 8734.42it/s]\n"
          ],
          "name": "stderr"
        },
        {
          "output_type": "display_data",
          "data": {
            "text/html": [
              "<html>\n",
              "<head><meta charset=\"utf-8\" /></head>\n",
              "<body>\n",
              "    <div>\n",
              "            <script src=\"https://cdnjs.cloudflare.com/ajax/libs/mathjax/2.7.5/MathJax.js?config=TeX-AMS-MML_SVG\"></script><script type=\"text/javascript\">if (window.MathJax) {MathJax.Hub.Config({SVG: {font: \"STIX-Web\"}});}</script>\n",
              "                <script type=\"text/javascript\">window.PlotlyConfig = {MathJaxConfig: 'local'};</script>\n",
              "        <script src=\"https://cdn.plot.ly/plotly-latest.min.js\"></script>    \n",
              "            <div id=\"7df3d331-abbb-4ef9-88e7-3200c157a211\" class=\"plotly-graph-div\" style=\"height:525px; width:100%;\"></div>\n",
              "            <script type=\"text/javascript\">\n",
              "                \n",
              "                    window.PLOTLYENV=window.PLOTLYENV || {};\n",
              "                    \n",
              "                if (document.getElementById(\"7df3d331-abbb-4ef9-88e7-3200c157a211\")) {\n",
              "                    Plotly.newPlot(\n",
              "                        '7df3d331-abbb-4ef9-88e7-3200c157a211',\n",
              "                        [{\"name\": \"GD\", \"type\": \"scatter\", \"x\": [0, 1, 2, 3, 4, 5, 6, 7, 8, 9, 10, 11, 12, 13, 14, 15, 16, 17, 18, 19, 20, 21, 22, 23, 24, 25, 26, 27, 28, 29, 30, 31, 32, 33, 34, 35, 36, 37, 38, 39, 40, 41, 42, 43, 44, 45, 46, 47, 48, 49, 50, 51, 52, 53, 54, 55, 56, 57, 58, 59, 60, 61, 62, 63, 64, 65, 66, 67, 68, 69, 70, 71, 72, 73, 74, 75, 76, 77, 78, 79, 80, 81, 82, 83, 84, 85, 86, 87, 88, 89, 90, 91, 92, 93, 94, 95, 96, 97, 98, 99, 100, 101, 102, 103, 104, 105, 106, 107, 108, 109, 110, 111, 112, 113, 114, 115, 116, 117, 118, 119, 120, 121, 122, 123, 124, 125, 126, 127, 128, 129, 130, 131, 132, 133, 134, 135, 136, 137, 138, 139, 140, 141, 142, 143, 144, 145, 146, 147, 148, 149, 150, 151, 152, 153, 154, 155, 156, 157, 158, 159, 160, 161, 162, 163, 164, 165, 166, 167, 168, 169, 170, 171, 172, 173, 174, 175, 176, 177, 178, 179, 180, 181, 182, 183, 184, 185, 186, 187, 188, 189, 190, 191, 192, 193, 194, 195, 196, 197, 198, 199, 200, 201, 202, 203, 204, 205, 206, 207, 208, 209, 210, 211, 212, 213, 214, 215, 216, 217, 218, 219, 220, 221, 222, 223, 224, 225, 226, 227, 228, 229, 230, 231, 232, 233, 234, 235, 236, 237, 238, 239, 240, 241, 242, 243, 244, 245, 246, 247, 248, 249, 250, 251, 252, 253, 254, 255, 256, 257, 258, 259, 260, 261, 262, 263, 264, 265, 266, 267, 268, 269, 270, 271, 272, 273, 274, 275, 276, 277, 278, 279, 280, 281, 282, 283, 284, 285, 286, 287, 288, 289, 290, 291, 292, 293, 294, 295, 296, 297, 298, 299, 300, 301, 302, 303, 304, 305, 306, 307, 308, 309, 310, 311, 312, 313, 314, 315, 316, 317, 318, 319, 320, 321, 322, 323, 324, 325, 326, 327, 328, 329, 330, 331, 332, 333, 334, 335, 336, 337, 338, 339, 340, 341, 342, 343, 344, 345, 346, 347, 348, 349, 350, 351, 352, 353, 354, 355, 356, 357, 358, 359, 360, 361, 362, 363, 364, 365, 366, 367, 368, 369, 370, 371, 372, 373, 374, 375, 376, 377, 378, 379, 380, 381, 382, 383, 384, 385, 386, 387, 388, 389, 390, 391, 392, 393, 394, 395, 396, 397, 398, 399, 400, 401, 402, 403, 404, 405, 406, 407, 408, 409, 410, 411, 412, 413, 414, 415, 416, 417, 418, 419, 420, 421, 422, 423, 424, 425, 426, 427, 428, 429, 430, 431, 432, 433, 434, 435, 436, 437, 438, 439, 440, 441, 442, 443, 444, 445, 446, 447, 448, 449, 450, 451, 452, 453, 454, 455, 456, 457, 458, 459, 460, 461, 462, 463, 464, 465, 466, 467, 468, 469, 470, 471, 472, 473, 474, 475, 476, 477, 478, 479, 480, 481, 482, 483, 484, 485, 486, 487, 488, 489, 490, 491, 492, 493, 494, 495, 496, 497, 498, 499], \"y\": [1626.175246131141, 1395.834251851155, 1207.375021255376, 1050.9560809865768, 919.6012933749256, 808.2416632283682, 713.1021229581762, 631.3046754333999, 560.6078756444904, 499.23297896971974, 445.7457652976705, 398.97420738974233, 357.94997053911214, 321.8658157694681, 290.04386588965104, 261.9114529166867, 236.9823552798537, 214.84203789992597, 195.13578513292646, 177.55909782388915, 161.84983396363438, 147.7817234949545, 135.15898183334536, 123.81180918095785, 113.59261730980093, 104.37285572789025, 96.04032268607713, 88.49689046172291, 81.65656143816908, 75.4438428843761, 69.79232706529781, 64.64349870705936, 59.945698930824264, 55.65324429770044, 51.72565696098173, 48.127022244938416, 44.82541607203994, 41.79241476297816, 39.00267094304621, 36.43354361956318, 34.06478004486416, 31.878235868778084, 29.857631670411696, 27.98833892998455, 26.257195819374374, 24.652341921188516, 23.163076656040445, 21.77973114445997, 20.493558921867994, 19.296637277031802, 18.18178044406367, 17.14246266055127, 16.172751401707423, 15.267246449977945, 14.421026417997078, 13.629601403165204, 12.888870153997503, 12.195081472700135, 11.54480271739906, 10.934888419038856, 10.362453353323824, 9.824847980896827, 9.31963717210266, 8.844580547304371, 8.397615000337764, 7.976838686596598, 7.580496696898789, 7.206968718398069, 6.854757156312337, 6.522476564691383, 6.2088442602349, 5.912671673286317, 5.632856546548408, 5.368375852883289, 5.118279382199502, 4.881683879097397, 4.657767580336046, 4.445765556391065, 4.24496517432372, 4.054702092187681, 3.8743565935187667, 3.7033501658622647, 3.5411424557165545, 3.387228326964095, 3.2411352456920093, 3.102421069655773, 2.9706717600885044, 2.8454993689907333, 2.7265401876299404, 2.6134530917782395, 2.505917842067115, 2.403633690402929, 2.306318128738902, 2.2137055946066133, 2.125546331012429, 2.0416053321138183, 1.961661388694561, 1.8855061754886566, 1.8129432871519382, 1.7437876701846793, 1.6778647922093597, 1.615009992924427, 1.5550678632663613, 1.497891662866818, 1.4433427824508946, 1.3912902433974452, 1.3416102607793103, 1.294185728231183, 1.2489058700270934, 1.2056658754673382, 1.1643665363842908, 1.1249139044173029, 1.0872189658260867, 1.0511973936602574, 1.0167692639517794, 0.9838588017330796, 0.952394121099129, 0.9223070398174272, 0.8935328569859845, 0.8660101595319457, 0.8396806802503316, 0.8144890233062245, 0.7903825665693076, 0.7673113003939716, 0.7452277336639338, 0.7240866889256787, 0.7038452274493003, 0.6844625366431273, 0.6658997263852978, 0.648119828310311, 0.6310876589025387, 0.6147697436639288, 0.5991341899102093, 0.5841506132110897, 0.5697900892213887, 0.5560250622559082, 0.5428292773609534, 0.5301777284928627, 0.5180465406435459, 0.5064129731278214, 0.49525534157369944, 0.48455296531239306, 0.4742861176053853, 0.46443597854163715, 0.4549845904487705, 0.4459148156720504, 0.43721029658428434, 0.4288554197759446, 0.4208352761778872, 0.4131356261574888, 0.405742872618216, 0.3986440277850772, 0.3918266841705671, 0.38527899623446377, 0.3789896330243564, 0.37294776048444, 0.36714304366066897, 0.3615655905184708, 0.3562059306202686, 0.35105502782157666, 0.3461042254747793, 0.3413452498878722, 0.33677018945305676, 0.33237147556411384, 0.3281418669210232, 0.3240744561304128, 0.3201626210208239, 0.316400003765854, 0.31278052385499444, 0.30929835148474194, 0.30594793912280555, 0.302723974904507, 0.2996213219448821, 0.2966350819188004, 0.2937605740098744, 0.2909933146621517, 0.2883290088565862, 0.28576354179480856, 0.283292975497094, 0.28091353131207586, 0.2786215854916187, 0.2764137276377407, 0.27428656915353117, 0.27223692258878135, 0.27026173231404343, 0.26835806881899343, 0.26652312326996536, 0.2647542023141931, 0.263048727335203, 0.26140423637099064, 0.25981833426699535, 0.2582887410346696, 0.2568132707127181, 0.2553898261994563, 0.2540163954848853, 0.2526910685508094, 0.2514119827770409, 0.25017734871400843, 0.24898546036263086, 0.2478346982960644, 0.24672348703297287, 0.2456503190016535, 0.24461372867186706, 0.24361232567972368, 0.24264477508938864, 0.24170979509353133, 0.24080615481326642, 0.23993267219307482, 0.23908821215268494, 0.23827170084816524, 0.23748208087191724, 0.23671834213009071, 0.2359795183951988, 0.23526468880584278, 0.23457294944576154, 0.23390344314468411, 0.23325534630360537, 0.2326278674640385, 0.23202024600489007, 0.23143175205166375, 0.23086168687932526, 0.23030936979725813, 0.22977415157768097, 0.229255414325908, 0.22875256347514, 0.22826501515095884, 0.22779220918722995, 0.22733361221676157, 0.22688871133199184, 0.22645701326999612, 0.22603804363115898, 0.2256313461300665, 0.22523648187723752, 0.22485302869037394, 0.22448058043387095, 0.22411874638538268, 0.22376715062829192, 0.22342543146898505, 0.2230932408778808, 0.2227702439532078, 0.22245611840657126, 0.22215055406938983, 0.22185325241932438, 0.22156392612586062, 0.22128229861424054, 0.22100811035783655, 0.2207411027802792, 0.22048104016272882, 0.2202276688213811, 0.21998076190651575, 0.21974010239482258, 0.21950547281658178, 0.21927666894358844, 0.21905349408631475, 0.21883576696213833, 0.21862329767235864, 0.21841590949013534, 0.21821343310627203, 0.2180157112043821, 0.21782258070811186, 0.2176338902058714, 0.2174494938121719, 0.21726925094955088, 0.2170930261470647, 0.21692068884668655, 0.2167521183720712, 0.21658719723991207, 0.21642580024078883, 0.216267813677938, 0.21611312892124085, 0.21596164124025513, 0.2158132496577152, 0.21566786076855127, 0.21552538094085744, 0.21538571523516123, 0.21524877633857115, 0.21511448003945194, 0.21498274511181736, 0.2148534932041748, 0.21472664873264513, 0.21460213877818746, 0.21447989298776748, 0.21435984347931142, 0.21424192475029818, 0.21412607358984417, 0.21401222899414457, 0.21390033208513823, 0.2137903260322695, 0.21368216108419374, 0.2135757819388184, 0.21347113453482294, 0.2133681695124992, 0.21326683921060272, 0.21316709760431962, 0.21306890024557604, 0.2129722042055985, 0.21287696801963774, 0.2127831516337726, 0.21269071995798275, 0.21259963253990583, 0.21250985447874662, 0.2124213508200437, 0.212334086025321, 0.2122480274460896, 0.21216314357754013, 0.21207940396580202, 0.2119967791702034, 0.21191524072693493, 0.2118347611140637, 0.21175531371784492, 0.21167687280028194, 0.2115994134678878, 0.21152291164160153, 0.21144734402781545, 0.21137268809047183, 0.21129892202418732, 0.2112260247283675, 0.21115397578227232, 0.21108275542099797, 0.21101234451233988, 0.21094272453450352, 0.21087388100944227, 0.21080580413638408, 0.21073846633593746, 0.2106718510208712, 0.21060594229815438, 0.21054072488795425, 0.21047618398589085, 0.21041230524648322, 0.21034907476719655, 0.21028647907306755, 0.21022450545181634, 0.21016314206763573, 0.21010237543878407, 0.2100421936581641, 0.2099825853571343, 0.2099235392970531, 0.2098650444537113, 0.20980709028256897, 0.20974966655099225, 0.20969276332760156, 0.2096363709720019, 0.20958048012488062, 0.20952508169845857, 0.20947016686728276, 0.20941572705934672, 0.2093617539475277, 0.2093082394413282, 0.209255175678911, 0.20920255501941717, 0.20915037120757612, 0.2090986166266862, 0.20904728344096446, 0.20899636482276598, 0.20894585413088598, 0.20889574490437032, 0.20884603085654502, 0.20879670586925544, 0.20874776398730774, 0.20869919941310613, 0.2086510065014778, 0.2086031797546789, 0.2085557138175761, 0.208508603472996, 0.2084618436372366, 0.2084154293557363, 0.20836935579889274, 0.20832361825802767, 0.20827821214149203, 0.2082331329709061, 0.2081883763775297, 0.20814393809875914, 0.2080998139747439, 0.20805599994512122, 0.2080124920458633, 0.20796928640623244, 0.20792637924584184, 0.20788376687181703, 0.20784144567605475, 0.20779941213257583, 0.20775766279496907, 0.2077161942939221, 0.20767500333483688, 0.20763408669552658, 0.20759344122399065, 0.20755306383626607, 0.20751295151435115, 0.20747310130420013, 0.20743351031378574, 0.20739417571122695, 0.20735509472298083, 0.2073162646320944, 0.20727768277651615, 0.20723934654746437, 0.20720125338784987, 0.20716340079075204, 0.20712578629794595, 0.20708840749847846, 0.20705126202729213, 0.2070143475638954, 0.20697766183107608, 0.20694120259365872, 0.2069049676573025, 0.20686895486733958, 0.20683316210765107, 0.2067975872995811, 0.2067622284008861, 0.20672708340471868, 0.20669215082709755, 0.20665742833447845, 0.20662291392087606, 0.2065886057249205, 0.20655450209435322, 0.206520601013304, 0.20648690069693396, 0.20645339938878335, 0.20642009536001785, 0.20638698690869972, 0.20635407235908154, 0.20632135006092378, 0.2062888183888333, 0.2062564757416238, 0.20622432054169645, 0.20619235123444032, 0.20616056628765184, 0.20612896419097304, 0.20609754345534725, 0.20606630261249215, 0.20603524021438954, 0.2060043548327911, 0.20597364505873977, 0.20594310950210598, 0.20591274679113852, 0.20588255557202928, 0.2058525345084919, 0.20582268228135267, 0.20579299758815536, 0.20576347914277673, 0.20573412567505533, 0.20570493593043038, 0.20567590866959287, 0.20564704266814626, 0.20561833671627852, 0.20558978961844304, 0.20556140019305005, 0.20553316727216686, 0.20550508970122722, 0.20547716633874957, 0.2054493960560633, 0.20542177773704348, 0.2053943102778533, 0.20536699258669402, 0.20533982358356273, 0.20531280220001633, 0.20528592737894336, 0.2052591980743419, 0.20523261325110395, 0.20520617188480636, 0.20517987296150697, 0.20515371547754774, 0.2051276984393626, 0.20510182086329085, 0.20507608177539635, 0.20505048021129124, 0.20502501521596472, 0.20499968584361689, 0.20497449115749677, 0.20494943022974513, 0.20492450214124153, 0.2048997059814553, 0.2048750408483011, 0.2048505058479979, 0.2048261000949318, 0.20480182271152297, 0.20477767282809553, 0.20475364958275127, 0.2047297521212466, 0.20470597959687264, 0.2046823311703386, 0.20465880600965794, 0.20463540329003768, 0.20461212219377045, 0.2045889619101292, 0.2045659216352648, 0.20454300057210595, 0.20452019793026174, 0.20449751292592658, 0.2044749447817875, 0.20445249272693364, 0.20443015599676806, 0.20440793383292152, 0.20438582548316853, 0.20436383020134521, 0.2043419472472691, 0.204320175886661, 0.20429851539106847, 0.20427696503779125, 0.2042555241098083, 0.20423419189570632, 0.2042129676896102]}, {\"name\": \"fista\", \"type\": \"scatter\", \"x\": [0, 1, 2, 3, 4, 5, 6, 7, 8, 9, 10, 11, 12, 13, 14, 15, 16, 17, 18, 19, 20, 21, 22, 23, 24, 25, 26, 27, 28, 29, 30, 31, 32, 33, 34, 35, 36, 37, 38, 39, 40, 41, 42, 43, 44, 45, 46, 47, 48, 49, 50, 51, 52, 53, 54, 55, 56, 57, 58, 59, 60, 61, 62, 63, 64, 65, 66, 67, 68, 69, 70, 71, 72, 73, 74, 75, 76, 77, 78, 79, 80, 81, 82, 83, 84, 85, 86, 87, 88, 89, 90, 91, 92, 93, 94, 95, 96, 97, 98, 99, 100, 101, 102, 103, 104, 105, 106, 107, 108, 109, 110, 111, 112, 113, 114, 115, 116, 117, 118, 119, 120, 121, 122, 123, 124, 125, 126, 127, 128, 129, 130, 131, 132, 133, 134, 135, 136, 137, 138, 139, 140, 141, 142, 143, 144, 145, 146, 147, 148, 149, 150, 151, 152, 153, 154, 155, 156, 157, 158, 159, 160, 161, 162, 163, 164, 165, 166, 167, 168, 169, 170, 171, 172, 173, 174, 175, 176, 177, 178, 179, 180, 181, 182, 183, 184, 185, 186, 187, 188, 189, 190, 191, 192, 193, 194, 195, 196, 197, 198, 199, 200, 201, 202, 203, 204, 205, 206, 207, 208, 209, 210, 211, 212, 213, 214, 215, 216, 217, 218, 219, 220, 221, 222, 223, 224, 225, 226, 227, 228, 229, 230, 231, 232, 233, 234, 235, 236, 237, 238, 239, 240, 241, 242, 243, 244, 245, 246, 247, 248, 249, 250, 251, 252, 253, 254, 255, 256, 257, 258, 259, 260, 261, 262, 263, 264, 265, 266, 267, 268, 269, 270, 271, 272, 273, 274, 275, 276, 277, 278, 279, 280, 281, 282, 283, 284, 285, 286, 287, 288, 289, 290, 291, 292, 293, 294, 295, 296, 297, 298, 299, 300, 301, 302, 303, 304, 305, 306, 307, 308, 309, 310, 311, 312, 313, 314, 315, 316, 317, 318, 319, 320, 321, 322, 323, 324, 325, 326, 327, 328, 329, 330, 331, 332, 333, 334, 335, 336, 337, 338, 339, 340, 341, 342, 343, 344, 345, 346, 347, 348, 349, 350, 351, 352, 353, 354, 355, 356, 357, 358, 359, 360, 361, 362, 363, 364, 365, 366, 367, 368, 369, 370, 371, 372, 373, 374, 375, 376, 377, 378, 379, 380, 381, 382, 383, 384, 385, 386, 387, 388, 389, 390, 391, 392, 393, 394, 395, 396, 397, 398, 399, 400, 401, 402, 403, 404, 405, 406, 407, 408, 409, 410, 411, 412, 413, 414, 415, 416, 417, 418, 419, 420, 421, 422, 423, 424, 425, 426, 427, 428, 429, 430, 431, 432, 433, 434, 435, 436, 437, 438, 439, 440, 441, 442, 443, 444, 445, 446, 447, 448, 449, 450, 451, 452, 453, 454, 455, 456, 457, 458, 459, 460, 461, 462, 463, 464, 465, 466, 467, 468, 469, 470, 471, 472, 473, 474, 475, 476, 477, 478, 479, 480, 481, 482, 483, 484, 485, 486, 487, 488, 489, 490, 491, 492, 493, 494, 495, 496, 497, 498, 499], \"y\": [1933.110361816099, 744.9927969803113, 339.17694716765317, 146.33447424047884, 63.217838023029806, 29.120683177892484, 14.874702463183446, 8.240321051267768, 4.723824488506664, 2.8230108881081595, 1.9090435713696778, 1.5481285673802416, 1.4177066908679261, 1.3296123592683895, 1.2096452962801472, 1.0502003850346306, 0.871295808166839, 0.6986538700383063, 0.5529539629895531, 0.4449554813643494, 0.37477880960890514, 0.33459299434411555, 0.3131576800174578, 0.3001414114155908, 0.2887263331620124, 0.2761036982379599, 0.26246724308968444, 0.24943822233026175, 0.23871186174337217, 0.2312753600866883, 0.22721223932989773, 0.2259057844476356, 0.22639906496094572, 0.22773071271679057, 0.22914971734017314, 0.23018957477314633, 0.2306446849096131, 0.23049323487719967, 0.22981487234203785, 0.22872490588273228, 0.22733243368560027, 0.22571994896720193, 0.2239407098937646, 0.22202801351595078, 0.22000777514523528, 0.21791050215503568, 0.2157789193481746, 0.21366783441967993, 0.21163841185727802, 0.20974954208293445, 0.20804898795774118, 0.20656677665324605, 0.20531515680613438, 0.20428987191613282, 0.20347418860451943, 0.20284329253715164, 0.20236827668634885, 0.2020187794118208, 0.20176463063517017, 0.20157674475769508, 0.2014277501603797, 0.201292526831257, 0.20114901018310485, 0.20097897635963852, 0.20076874344155907, 0.200509697354959, 0.20019837414994904, 0.19983617504990434, 0.19942868778657746, 0.1989847408957786, 0.1985154033676248, 0.19803294505200777, 0.19754992139658323, 0.19707847655839034, 0.19662973489574578, 0.19621334859624903, 0.19583715824313397, 0.19550695357080217, 0.19522632698618825, 0.19499661936950408, 0.19481700933662674, 0.19468462859858404, 0.1945949221497565, 0.19454200571364264, 0.1945191008835363, 0.19451896959541554, 0.19453438017771274, 0.19455848268564951, 0.19458515794558828, 0.19460929551700915, 0.19462686300248763, 0.19463490727592267, 0.19463179598524816, 0.1946170372184526, 0.19459117161496922, 0.19455563078624358, 0.19451258821821574, 0.1944646959919989, 0.19441485880291715, 0.19436613375657205, 0.19432146580746285, 0.19428366894688195, 0.19425478040614239, 0.19423641182009202, 0.19422953656232428, 0.19423447043246164, 0.19425089162633008, 0.19427789182382513, 0.19431406476125182, 0.19435761983302588, 0.19440649956257045, 0.19445850421836125, 0.19451141372199413, 0.19456310123176854, 0.19461163374356388, 0.19465535585981625, 0.19469295366055944, 0.19472349648788073, 0.1947464555103421, 0.1947616991784476, 0.19476946703882153, 0.19477032469662198, 0.1947651038327281, 0.19475483195166612, 0.1947406568789799, 0.1947237709398665, 0.19470533929741743, 0.19468643621259818, 0.19466799212399127, 0.19465075353391534, 0.19463525680052962, 0.19462181611333945, 0.1946105251884976, 0.19460127156484386, 0.1945937618156723, 0.19458755552521434, 0.19458210553069355, 0.19457680281320996, 0.19457101790130965, 0.1945641464009172, 0.194555647102659, 0.1945450740019737, 0.19453210094872334, 0.19451653765830063, 0.1944983367647208, 0.19447759212714483, 0.1944545290801874, 0.1944294877268484, 0.1944029006879559, 0.19437526693121565, 0.19434712340613539, 0.19431901621430359, 0.19429147295595173, 0.19426497772326112, 0.19423994997103125, 0.1942167290821506, 0.1941955625329016, 0.19417661376373652, 0.1941600272103351, 0.1941456552191841, 0.19413337663462069, 0.19412300332264326, 0.1941142973653219, 0.19410698916185468, 0.19410079571388672, 0.19409543838077903, 0.19409065892828706, 0.19408623310060896, 0.19408198111885716, 0.1940777747080256, 0.19407354047760655, 0.19406925970401884, 0.19406496490838476, 0.19406073356298864, 0.19405667808756297, 0.1940529364750224, 0.194049660470449, 0.19404700389854615, 0.19404511143408043, 0.19404410847309578, 0.19404409348340687, 0.19404512928801684, 0.19404724072144952, 0.19405041269188225, 0.1940545906558739, 0.1940596835196458, 0.19406556845317077, 0.19407209725543015, 0.19407910383069146, 0.19408641229451734, 0.19409384521908257, 0.1941012315461285, 0.19410841374204812, 0.1941152538388445, 0.19412163808975558, 0.19412748006263766, 0.19413272209255122, 0.19413733511241146, 0.1941413169717662, 0.1941446899680356, 0.19414749549032673, 0.1941497899385478, 0.19415163958855844, 0.19415311502942117, 0.19415428601310522, 0.19415521676731803, 0.19415596203701607, 0.19415656404782136, 0.19415705050988966, 0.19415743371293118, 0.19415771069877172, 0.19415786443680727, 0.19415786587314485, 0.19415767667997771, 0.19415725250048746, 0.19415654646733596, 0.19415551276939075, 0.1941541100508886, 0.19415230444856027, 0.19415007210359456, 0.19414740102444314, 0.19414429222065296, 0.19414076007427805, 0.19413683196114842, 0.19413254717679043, 0.19412795525885815, 0.19412311382776357, 0.19411808608845346, 0.194112938148217, 0.19410773630781114, 0.19410254447643116, 0.19409742184601153, 0.19409242093833518, 0.1940875861111074, 0.19408295329884628, 0.19407854793663315, 0.19407438569373162, 0.19407047373267072, 0.1940668112849957, 0.19406339102623463, 0.1940602006620632, 0.19405722464279168, 0.19405444590604085, 0.19405184754159077, 0.19404941428242145, 0.19404713374360505, 0.19404499735076985, 0.1940430009209584, 0.1940411448806217, 0.19403943412759214, 0.19403787756479135, 0.1940364873516074, 0.19403527793319272, 0.1940342649178726, 0.19403346387823975, 0.19403288915235184, 0.19403255271786637, 0.1940324632042923, 0.19403262509740676, 0.1940330382957733, 0.1940336977062931, 0.1940345928248194, 0.19403570850710955, 0.19403702521721813, 0.1940385197175211, 0.19404016589363018, 0.19404193568010045, 0.1940438000388397, 0.1940457299383495, 0.19404769728278584, 0.19404967574267734, 0.19405164144652004, 0.19405357350381156, 0.1940554543424095, 0.1940572698546264, 0.19405900935711323, 0.19406066537950972, 0.1940622333057356, 0.19406371089904786, 0.19406509774705663, 0.19406639466550146, 0.1940676030997354, 0.19406872456072224, 0.19406976012820218, 0.1940707100478705, 0.1940715734423456, 0.19407234814783897, 0.19407303068026863, 0.19407361632657927, 0.19407409934970163, 0.19407447328929264, 0.19407473133546507, 0.19407486674934876, 0.19407487330265147, 0.19407474570841687, 0.19407448001682862, 0.19407407395301127, 0.19407352717808016, 0.19407284145988535, 0.19407202074563804, 0.19407107113454092, 0.1940700007543147, 0.1940688195507943, 0.19406753900428245, 0.19406617178986466, 0.194064731401258, 0.19406323175890294, 0.19406168682290428, 0.1940601102301558, 0.1940585149726655, 0.19405691313092574, 0.19405531567236206, 0.19405373232070317, 0.19405217149779844, 0.19405064033522368, 0.19404914474919915, 0.1940476895690963, 0.19404627870729182, 0.19404491535645238, 0.19404360219955055, 0.1940423416180335, 0.1940411358845292, 0.194039987328192, 0.19403889846311886, 0.19403787207304554, 0.1940369112485774, 0.19403601937632656, 0.1940352000823374, 0.19403445713490844, 0.1940337943142216, 0.19403321525794898, 0.19403272329314789, 0.19403232126524042, 0.19403201137915982, 0.19403179528862033, 0.19403167314476163, 0.19403164461544992, 0.19403170813396395, 0.19403186106231804, 0.19403209974704588, 0.1940324195903906, 0.19403281514792461, 0.19403328025265196, 0.1940338081615438, 0.19403439171767428, 0.19403502351825042, 0.19403569607861856, 0.19403640198439848, 0.1940371340259626, 0.19403788531068586, 0.19403864934933132, 0.19403942011426403, 0.19404019206894502, 0.1940409601700253, 0.1940417198450049, 0.19404246694968783, 0.19404319771052306, 0.19404390865742555, 0.19404459655284553, 0.19404525832271072, 0.19404589099441327, 0.19404649164626725, 0.19404705737188707, 0.19404758526179747, 0.1940480724033633, 0.19404851589889885, 0.1940489129006499, 0.19404926066030154, 0.19404955658979986, 0.19404979832964075, 0.1940499838203884, 0.19405011137306932, 0.19405017973422833, 0.19405018814182004, 0.19405013636870627, 0.1940500247512911, 0.1940498542017046, 0.19404962620287944, 0.19404934278680314, 0.194049006497111, 0.19404862033796777, 0.1940481877118259, 0.1940477123491172, 0.1940471982332126, 0.1940466495240651, 0.19404607048383762, 0.19404546540752313, 0.19404483856112129, 0.1940441941293627, 0.19404353617432324, 0.1940428686055763, 0.19404219516183727, 0.19404151940340317, 0.19404084471411492, 0.1940401743111002, 0.1940395112602161, 0.1940388584949126, 0.19403821883618963, 0.19403759501141052, 0.1940369896699637, 0.19403640539409622, 0.19403584470366836, 0.19403531005405963, 0.1940348038269628, 0.1940343283143087, 0.19403388569603355, 0.19403347801281104, 0.1940331071351986, 0.1940327747308792, 0.19403248223179992, 0.1940322308030213, 0.19403202131499683, 0.19403185432080736, 0.19403173003960122, 0.1940316483471537, 0.1940316087740782, 0.19403161051182694, 0.19403165242622647, 0.1940317330779307, 0.19403185087705646, 0.1940320036073915, 0.1940321892726218, 0.1940324055047883, 0.1940326497772068, 0.19403291946987536, 0.19403321190796016, 0.1940335243888718, 0.1940338542036169, 0.19403419865518695, 0.19403455507525433, 0.1940349208379455, 0.19403529336900863, 0.19403567015035986, 0.19403604872142613, 0.19403642667883167, 0.1940368016754097, 0.1940371714191085, 0.1940375336723217, 0.194037886252309, 0.1940382270334252, 0.1940385539517523, 0.1940388650124717, 0.1940391583000171, 0.19403943199079132, 0.19403968436802535, 0.19403991383820735, 0.19404011894839046, 0.19404029840361026, 0.19404045108360718, 0.19404057605806568, 0.19404067259964702, 0.19404074019419842, 0.19404077854765758, 0.1940407875893275, 0.19404076747136187, 0.1940407185644709, 0.19404064145002056, 0.19404053690884795, 0.19404040590724736, 0.19404024958067884, 0.19404006921582484, 0.19403986623164995, 0.1940396421601166, 0.194039398627172, 0.1940391373345507, 0.19403886004284107, 0.1940385685561514, 0.19403826470858274, 0.19403795035259083, 0.19403762734919552, 0.19403729755988644, 0.19403696283998098, 0.19403662503312075, 0.19403628596654565, 0.1940359474467659, 0.19403561125525867, 0.19403527914384774, 0.1940349528294768, 0.19403463398816043, 0.19403432424797884, 0.19403402518107482, 0.19403373829470433, 0.19403346502147892, 0.1940332067090176, 0.19403296460928907, 0.1940327398679725, 0.19403253351419045, 0.19403234650138773, 0.1940321795181542, 0.19403203322050236, 0.19403190814333704, 0.1940318045835884, 0.19403172271466068, 0.19403166254630413, 0.19403162394323342, 0.19403160663209185, 0.19403161020454382, 0.1940316341220028, 0.1940316777230929, 0.1940317402330648]}, {\"name\": \"ista\", \"type\": \"scatter\", \"x\": [0, 1, 2, 3, 4, 5, 6, 7, 8, 9, 10, 11, 12, 13, 14, 15, 16, 17, 18, 19, 20, 21, 22, 23, 24, 25, 26, 27, 28, 29, 30, 31, 32, 33, 34, 35, 36, 37, 38, 39, 40, 41, 42, 43, 44, 45, 46, 47, 48, 49, 50, 51, 52, 53, 54, 55, 56, 57, 58, 59, 60, 61, 62, 63, 64, 65, 66, 67, 68, 69, 70, 71, 72, 73, 74, 75, 76, 77, 78, 79, 80, 81, 82, 83, 84, 85, 86, 87, 88, 89, 90, 91, 92, 93, 94, 95, 96, 97, 98, 99, 100, 101, 102, 103, 104, 105, 106, 107, 108, 109, 110, 111, 112, 113, 114, 115, 116, 117, 118, 119, 120, 121, 122, 123, 124, 125, 126, 127, 128, 129, 130, 131, 132, 133, 134, 135, 136, 137, 138, 139, 140, 141, 142, 143, 144, 145, 146, 147, 148, 149, 150, 151, 152, 153, 154, 155, 156, 157, 158, 159, 160, 161, 162, 163, 164, 165, 166, 167, 168, 169, 170, 171, 172, 173, 174, 175, 176, 177, 178, 179, 180, 181, 182, 183, 184, 185, 186, 187, 188, 189, 190, 191, 192, 193, 194, 195, 196, 197, 198, 199, 200, 201, 202, 203, 204, 205, 206, 207, 208, 209, 210, 211, 212, 213, 214, 215, 216, 217, 218, 219, 220, 221, 222, 223, 224, 225, 226, 227, 228, 229, 230, 231, 232, 233, 234, 235, 236, 237, 238, 239, 240, 241, 242, 243, 244, 245, 246, 247, 248, 249, 250, 251, 252, 253, 254, 255, 256, 257, 258, 259, 260, 261, 262, 263, 264, 265, 266, 267, 268, 269, 270, 271, 272, 273, 274, 275, 276, 277, 278, 279, 280, 281, 282, 283, 284, 285, 286, 287, 288, 289, 290, 291, 292, 293, 294, 295, 296, 297, 298, 299, 300, 301, 302, 303, 304, 305, 306, 307, 308, 309, 310, 311, 312, 313, 314, 315, 316, 317, 318, 319, 320, 321, 322, 323, 324, 325, 326, 327, 328, 329, 330, 331, 332, 333, 334, 335, 336, 337, 338, 339, 340, 341, 342, 343, 344, 345, 346, 347, 348, 349, 350, 351, 352, 353, 354, 355, 356, 357, 358, 359, 360, 361, 362, 363, 364, 365, 366, 367, 368, 369, 370, 371, 372, 373, 374, 375, 376, 377, 378, 379, 380, 381, 382, 383, 384, 385, 386, 387, 388, 389, 390, 391, 392, 393, 394, 395, 396, 397, 398, 399, 400, 401, 402, 403, 404, 405, 406, 407, 408, 409, 410, 411, 412, 413, 414, 415, 416, 417, 418, 419, 420, 421, 422, 423, 424, 425, 426, 427, 428, 429, 430, 431, 432, 433, 434, 435, 436, 437, 438, 439, 440, 441, 442, 443, 444, 445, 446, 447, 448, 449, 450, 451, 452, 453, 454, 455, 456, 457, 458, 459, 460, 461, 462, 463, 464, 465, 466, 467, 468, 469, 470, 471, 472, 473, 474, 475, 476, 477, 478, 479, 480, 481, 482, 483, 484, 485, 486, 487, 488, 489, 490, 491, 492, 493, 494, 495, 496, 497, 498, 499], \"y\": [1870.2032462189295, 809.1190753169847, 421.585066554355, 243.19985042835287, 151.6328311346634, 100.16381901715845, 69.11749812570878, 49.3551796320582, 36.241439583279615, 27.24646898101804, 20.90636975902949, 16.333658702154818, 12.969655941571808, 10.451530533770311, 8.537345228922398, 7.062057992019969, 5.910807177527952, 5.002218074617213, 4.277708542804433, 3.694487295946694, 3.2208746265306307, 2.8331316407415437, 2.513267674563108, 2.2475051269494832, 2.0251905058073016, 1.8380123230539258, 1.679432049233749, 1.5442676873636554, 1.4283830998628453, 1.3284553401345742, 1.2417994613342669, 1.1662327720627397, 1.0999723089972304, 1.0415556309246181, 0.9897767155827696, 0.9436375200336299, 0.9023088999551622, 0.8651003026973184, 0.8314331274472413, 0.8008217768340076, 0.7728577762884515, 0.7471963877650629, 0.7235452260882858, 0.7016563960810298, 0.6813189999293109, 0.6623531087207946, 0.6446044460547316, 0.6279406746676841, 0.6122481699374586, 0.5974288398049927, 0.5833978394575856, 0.5700815062862594, 0.5574157819860505, 0.5453448376266242, 0.5338198227390357, 0.5227978593289906, 0.5122415456611799, 0.5021172464695787, 0.49239528571707186, 0.48304941394822254, 0.47405612134660996, 0.4653943681256532, 0.4570451842127419, 0.4489914561082227, 0.441217746912262, 0.4337099182538158, 0.4264550999755687, 0.4194415378881546, 0.4126583631690142, 0.4060955467380958, 0.3997438138522103, 0.3935945794816755, 0.3876397743922997, 0.3818719073036346, 0.37628392028151375, 0.3708692097027997, 0.36562146580325405, 0.36053473863661256, 0.35560341882090735, 0.3508221831842077, 0.3461859605018575, 0.34168991297514323, 0.3373294249274088, 0.33310008174679645, 0.3289976738405465, 0.32501813471326146, 0.3211575634818008, 0.3174122281721964, 0.313778525209185, 0.31025297949496083, 0.30683225027020733, 0.3035131157545115, 0.3002924669006112, 0.2971673118991682, 0.29413474705445264, 0.2911919620978417, 0.28833624657113044, 0.2855649786085176, 0.2828756211678509, 0.2802657369639654, 0.2777329339870565, 0.2752749046650534, 0.27288942162086194, 0.27057432283673316, 0.26832751174065683, 0.26614695871501237, 0.26403069637505117, 0.26197681741230233, 0.2599834834857456, 0.25804905489753155, 0.2561717605120065, 0.25434978564689376, 0.25258148446662454, 0.25086527899613786, 0.2491996239418311, 0.24758301998191184, 0.24601401877131232, 0.24449121514778854, 0.2430132511215392, 0.2415788024866185, 0.24018658159463208, 0.23883534307338633, 0.23752387848974194, 0.23625101522592223, 0.2350156153942388, 0.2338165747880274, 0.23265282186702183, 0.23152331677562565, 0.23042705039269143, 0.22936304341152722, 0.22833034544894074, 0.227328034182211, 0.22635521451294166, 0.22541101775681402, 0.2244946008583105, 0.22360514562952935, 0.2227418580122548, 0.22190396736249024, 0.22109072575669766, 0.22030140731902098, 0.21953530756880532, 0.21879174810934532, 0.21807006481753013, 0.217369608618754, 0.21668976849466784, 0.21602993136451734, 0.21538950031127818, 0.21476790393845585, 0.2141645876869527, 0.2135790133353906, 0.2130106585168796, 0.21245901625080305, 0.21192359802921884, 0.2114039246246345, 0.21089953052517915, 0.21040996588775068, 0.20993479411986135, 0.20947359148756828, 0.2090259467358537, 0.20859146072059687, 0.2081697460515878, 0.2077604267461643, 0.20736313789311336, 0.2069775253265127, 0.20660324530920562, 0.20623996422561866, 0.2058873582836416, 0.20554511815300022, 0.20521293708508057, 0.20489051565137684, 0.2045775665443975, 0.2042738109193479, 0.20397897814332783, 0.20369280555280117, 0.20341503821857732, 0.2031454287178784, 0.20288373691320075, 0.2026297297377302, 0.20238318098710045, 0.20214387111729765, 0.20191158704852472, 0.20168612197484753, 0.20146727517944957, 0.20125485185533012, 0.2010486629312843, 0.20084852490300822, 0.20065426371650147, 0.20046570582133505, 0.20028267989757287, 0.20010502311598732, 0.19993257744459475, 0.19976518950587357, 0.19960271043901617, 0.19944499648978853, 0.19929190775997854, 0.19914330709317482, 0.19899906238625006, 0.19885904543338678, 0.1987231318072168, 0.19859120074576306, 0.1984631350436576, 0.19833882094698196, 0.19821814805140558, 0.19810100920342438, 0.19798730040456206, 0.19787692071842244, 0.1977697721804966, 0.19766575971063657, 0.19756479547139386, 0.19746678887537047, 0.19737164935658355, 0.1972792925474683, 0.19718963656748165, 0.19710260194831974, 0.19701811156218138, 0.19693609055250666, 0.1968564662669195, 0.19677916819222674, 0.19670412789137232, 0.1966312789422714, 0.19656055687845847, 0.19649189913149115, 0.19642524497505462, 0.19636053547071528, 0.19629771341527374, 0.1962367232896688, 0.19617751120938787, 0.19612002487633715, 0.19606421353213047, 0.19601002791275282, 0.1959574202045599, 0.19590634400157286, 0.195856754264031, 0.19580860727816446, 0.19576186061715206, 0.19571647310322823, 0.19567240477090617, 0.1956296168312836, 0.19558807163739947, 0.19554773265061118, 0.19550856440796127, 0.19547053249050533, 0.19543360349257244, 0.19539774499193072, 0.19536292552083084, 0.1953291145379034, 0.19529628240088198, 0.19526440034013104, 0.19523344043295235, 0.19520337557864784, 0.19517417947431742, 0.19514582659136867, 0.19511829275752238, 0.1950915541131499, 0.19506558650392122, 0.19504036726999582, 0.19501587442221305, 0.19499208662048975, 0.19496898315386768, 0.1949465439215751, 0.19492474941484328, 0.1949035806993551, 0.194883019398262, 0.19486304767572865, 0.1948436482209784, 0.19482480423281787, 0.1948064994046228, 0.1947887179097695, 0.19477144438749747, 0.1947546639291898, 0.19473836206505832, 0.19472252475122154, 0.19470713835716355, 0.19469218965356241, 0.1946776665593329, 0.1946635567443549, 0.19464984719245568, 0.1946365261579413, 0.1946235822443276, 0.19461100439222082, 0.19459878186857718, 0.19458690425670655, 0.19457536144676146, 0.19456414362659627, 0.19455324127294132, 0.19454264514286132, 0.19453234705448558, 0.19452233755027812, 0.19451260813425728, 0.19450315059805576, 0.19449395697790486, 0.19448501954591774, 0.19447633080243928, 0.19446788346897304, 0.1944596704814808, 0.19445168498396087, 0.19444392032225993, 0.19443637003809047, 0.19442902786323937, 0.1944218877139552, 0.1944149436855069, 0.1944081900469052, 0.19440162123578242, 0.1943952318534247, 0.19438901665995081, 0.19438297056963455, 0.19437708864636444, 0.19437136609923839, 0.19436579827828762, 0.1943603806703268, 0.19435510889492694, 0.1943499790476113, 0.1943449867502728, 0.19434012790412714, 0.19433539861535615, 0.1943307951076475, 0.19432631371721315, 0.19432195088877935, 0.19431770317205382, 0.19431356721845958, 0.1943095397780453, 0.19430561784173228, 0.19430179833768263, 0.19429807816881364, 0.19429445444315155, 0.19429092435739817, 0.19428748519243683, 0.1942841343100212, 0.1942808691499899, 0.19427768722775499, 0.19427458613195772, 0.1942715635222428, 0.1942686171271254, 0.1942657447419364, 0.19426294422683824, 0.19426021350490463, 0.1942575505602607, 0.19425495343628063, 0.19425242023383918, 0.19424994910961688, 0.19424753827445493, 0.19424518599175947, 0.1942428905759533, 0.19424065039097327, 0.19423846384881202, 0.19423632940810315, 0.19423424557274782, 0.19423221089058187, 0.19423022395208264, 0.1942282833891133, 0.19422638787370486, 0.1942245361168734, 0.19422272686747274, 0.1942209589110804, 0.19421923106891684, 0.19421754219679604, 0.19421589118410748, 0.19421427695282775, 0.19421269845656144, 0.19421115467961014, 0.19420964463606905, 0.19420816736894983, 0.1942067219493299, 0.194205307475526, 0.19420392307229292, 0.19420256789004486, 0.19420124110410084, 0.19419994191395118, 0.19419866954254658, 0.19419742323560757, 0.19419620226095413, 0.19419500590785577, 0.19419383348639993, 0.19419268432687964, 0.1941915577791987, 0.19419045321229464, 0.19418937001357864, 0.19418830758839215, 0.19418726535947886, 0.19418624276647284, 0.19418523926540168, 0.19418425432820385, 0.19418328744226085, 0.19418233810994256, 0.19418140584816632, 0.19418049018796907, 0.19417959067409163, 0.19417870686457595, 0.19417783833037347, 0.19417698465496525, 0.1941761454339936, 0.1941753202749045, 0.1941745087965997, 0.1941737106291005, 0.19417292541322, 0.1941721528002463, 0.19417139245163376, 0.19417064403870435, 0.19416990724235741, 0.19416918175278783, 0.19416846726921277, 0.19416776349960616, 0.1941670701604414, 0.19416638697644117, 0.19416571368033506, 0.19416505001262385, 0.19416439572135144, 0.19416375056188243, 0.19416311429668753, 0.19416248669513406, 0.1941618675332836, 0.194161256593695, 0.1941606536652333, 0.19416005854288454, 0.19415947102757566, 0.19415889092599997, 0.19415831805044761, 0.19415775221864112, 0.1941571932535756, 0.19415664098336405, 0.19415609524108668, 0.19415555586464509, 0.19415502269662058, 0.19415449558413667, 0.19415397437872559, 0.19415345893619881, 0.19415294911652126, 0.1941524447836894, 0.19415194580561268, 0.19415145205399886, 0.19415096340424207, 0.19415047973531488, 0.19415000092966309, 0.19414952687310374, 0.19414905745472608, 0.19414859256679573, 0.19414813210466098, 0.19414767596666282, 0.1941472240540468, 0.1941467762708777, 0.1941463325239571, 0.19414589272274282, 0.19414545677927103, 0.1941450246080807, 0.19414459612614016, 0.19414417125277553, 0.19414374990960223, 0.19414333202045703, 0.1941429175113336, 0.19414250631031887, 0.19414209834753182, 0.19414169355506383, 0.1941412918669209, 0.19414089321896758, 0.1941404975488725, 0.1941401047960554, 0.1941397149016359, 0.19413932780838386, 0.19413894346067087, 0.19413856180442324, 0.1941381827870768, 0.19413780635753247, 0.19413743246611342, 0.19413706106452353, 0.1941366921058069, 0.19413632554430862, 0.19413596133563688, 0.1941355994366258, 0.19413523980529987, 0.19413488240083873, 0.19413452718354396, 0.1941341741148057, 0.1941338231570714, 0.19413347427381447, 0.1941331274295047, 0.19413278258957878, 0.19413243972041253, 0.19413209878929305, 0.19413175976439245, 0.19413142261474178, 0.1941310873102064, 0.19413075382146092, 0.19413042211996642, 0.1941300921779472, 0.19412976396836815, 0.1941294374649139, 0.19412911264196744, 0.19412878947458978, 0.19412846793850036, 0.19412814801005793, 0.19412782966624167, 0.19412751288463365, 0.19412719764340075, 0.19412688392127822, 0.19412657169755268, 0.1941262609520464, 0.19412595166510177, 0.19412564381756608, 0.19412533739077703, 0.19412503236654827]}],\n",
              "                        {\"template\": {\"data\": {\"bar\": [{\"error_x\": {\"color\": \"#2a3f5f\"}, \"error_y\": {\"color\": \"#2a3f5f\"}, \"marker\": {\"line\": {\"color\": \"#E5ECF6\", \"width\": 0.5}}, \"type\": \"bar\"}], \"barpolar\": [{\"marker\": {\"line\": {\"color\": \"#E5ECF6\", \"width\": 0.5}}, \"type\": \"barpolar\"}], \"carpet\": [{\"aaxis\": {\"endlinecolor\": \"#2a3f5f\", \"gridcolor\": \"white\", \"linecolor\": \"white\", \"minorgridcolor\": \"white\", \"startlinecolor\": \"#2a3f5f\"}, \"baxis\": {\"endlinecolor\": \"#2a3f5f\", \"gridcolor\": \"white\", \"linecolor\": \"white\", \"minorgridcolor\": \"white\", \"startlinecolor\": \"#2a3f5f\"}, \"type\": \"carpet\"}], \"choropleth\": [{\"colorbar\": {\"outlinewidth\": 0, \"ticks\": \"\"}, \"type\": \"choropleth\"}], \"contour\": [{\"colorbar\": {\"outlinewidth\": 0, \"ticks\": \"\"}, \"colorscale\": [[0.0, \"#0d0887\"], [0.1111111111111111, \"#46039f\"], [0.2222222222222222, \"#7201a8\"], [0.3333333333333333, \"#9c179e\"], [0.4444444444444444, \"#bd3786\"], [0.5555555555555556, \"#d8576b\"], [0.6666666666666666, \"#ed7953\"], [0.7777777777777778, \"#fb9f3a\"], [0.8888888888888888, \"#fdca26\"], [1.0, \"#f0f921\"]], \"type\": \"contour\"}], \"contourcarpet\": [{\"colorbar\": {\"outlinewidth\": 0, \"ticks\": \"\"}, \"type\": \"contourcarpet\"}], \"heatmap\": [{\"colorbar\": {\"outlinewidth\": 0, \"ticks\": \"\"}, \"colorscale\": [[0.0, \"#0d0887\"], [0.1111111111111111, \"#46039f\"], [0.2222222222222222, \"#7201a8\"], [0.3333333333333333, \"#9c179e\"], [0.4444444444444444, \"#bd3786\"], [0.5555555555555556, \"#d8576b\"], [0.6666666666666666, \"#ed7953\"], [0.7777777777777778, \"#fb9f3a\"], [0.8888888888888888, \"#fdca26\"], [1.0, \"#f0f921\"]], \"type\": \"heatmap\"}], \"heatmapgl\": [{\"colorbar\": {\"outlinewidth\": 0, \"ticks\": \"\"}, \"colorscale\": [[0.0, \"#0d0887\"], [0.1111111111111111, \"#46039f\"], [0.2222222222222222, \"#7201a8\"], [0.3333333333333333, \"#9c179e\"], [0.4444444444444444, \"#bd3786\"], [0.5555555555555556, \"#d8576b\"], [0.6666666666666666, \"#ed7953\"], [0.7777777777777778, \"#fb9f3a\"], [0.8888888888888888, \"#fdca26\"], [1.0, \"#f0f921\"]], \"type\": \"heatmapgl\"}], \"histogram\": [{\"marker\": {\"colorbar\": {\"outlinewidth\": 0, \"ticks\": \"\"}}, \"type\": \"histogram\"}], \"histogram2d\": [{\"colorbar\": {\"outlinewidth\": 0, \"ticks\": \"\"}, \"colorscale\": [[0.0, \"#0d0887\"], [0.1111111111111111, \"#46039f\"], [0.2222222222222222, \"#7201a8\"], [0.3333333333333333, \"#9c179e\"], [0.4444444444444444, \"#bd3786\"], [0.5555555555555556, \"#d8576b\"], [0.6666666666666666, \"#ed7953\"], [0.7777777777777778, \"#fb9f3a\"], [0.8888888888888888, \"#fdca26\"], [1.0, \"#f0f921\"]], \"type\": \"histogram2d\"}], \"histogram2dcontour\": [{\"colorbar\": {\"outlinewidth\": 0, \"ticks\": \"\"}, \"colorscale\": [[0.0, \"#0d0887\"], [0.1111111111111111, \"#46039f\"], [0.2222222222222222, \"#7201a8\"], [0.3333333333333333, \"#9c179e\"], [0.4444444444444444, \"#bd3786\"], [0.5555555555555556, \"#d8576b\"], [0.6666666666666666, \"#ed7953\"], [0.7777777777777778, \"#fb9f3a\"], [0.8888888888888888, \"#fdca26\"], [1.0, \"#f0f921\"]], \"type\": \"histogram2dcontour\"}], \"mesh3d\": [{\"colorbar\": {\"outlinewidth\": 0, \"ticks\": \"\"}, \"type\": \"mesh3d\"}], \"parcoords\": [{\"line\": {\"colorbar\": {\"outlinewidth\": 0, \"ticks\": \"\"}}, \"type\": \"parcoords\"}], \"pie\": [{\"automargin\": true, \"type\": \"pie\"}], \"scatter\": [{\"marker\": {\"colorbar\": {\"outlinewidth\": 0, \"ticks\": \"\"}}, \"type\": \"scatter\"}], \"scatter3d\": [{\"line\": {\"colorbar\": {\"outlinewidth\": 0, \"ticks\": \"\"}}, \"marker\": {\"colorbar\": {\"outlinewidth\": 0, \"ticks\": \"\"}}, \"type\": \"scatter3d\"}], \"scattercarpet\": [{\"marker\": {\"colorbar\": {\"outlinewidth\": 0, \"ticks\": \"\"}}, \"type\": \"scattercarpet\"}], \"scattergeo\": [{\"marker\": {\"colorbar\": {\"outlinewidth\": 0, \"ticks\": \"\"}}, \"type\": \"scattergeo\"}], \"scattergl\": [{\"marker\": {\"colorbar\": {\"outlinewidth\": 0, \"ticks\": \"\"}}, \"type\": \"scattergl\"}], \"scattermapbox\": [{\"marker\": {\"colorbar\": {\"outlinewidth\": 0, \"ticks\": \"\"}}, \"type\": \"scattermapbox\"}], \"scatterpolar\": [{\"marker\": {\"colorbar\": {\"outlinewidth\": 0, \"ticks\": \"\"}}, \"type\": \"scatterpolar\"}], \"scatterpolargl\": [{\"marker\": {\"colorbar\": {\"outlinewidth\": 0, \"ticks\": \"\"}}, \"type\": \"scatterpolargl\"}], \"scatterternary\": [{\"marker\": {\"colorbar\": {\"outlinewidth\": 0, \"ticks\": \"\"}}, \"type\": \"scatterternary\"}], \"surface\": [{\"colorbar\": {\"outlinewidth\": 0, \"ticks\": \"\"}, \"colorscale\": [[0.0, \"#0d0887\"], [0.1111111111111111, \"#46039f\"], [0.2222222222222222, \"#7201a8\"], [0.3333333333333333, \"#9c179e\"], [0.4444444444444444, \"#bd3786\"], [0.5555555555555556, \"#d8576b\"], [0.6666666666666666, \"#ed7953\"], [0.7777777777777778, \"#fb9f3a\"], [0.8888888888888888, \"#fdca26\"], [1.0, \"#f0f921\"]], \"type\": \"surface\"}], \"table\": [{\"cells\": {\"fill\": {\"color\": \"#EBF0F8\"}, \"line\": {\"color\": \"white\"}}, \"header\": {\"fill\": {\"color\": \"#C8D4E3\"}, \"line\": {\"color\": \"white\"}}, \"type\": \"table\"}]}, \"layout\": {\"annotationdefaults\": {\"arrowcolor\": \"#2a3f5f\", \"arrowhead\": 0, \"arrowwidth\": 1}, \"coloraxis\": {\"colorbar\": {\"outlinewidth\": 0, \"ticks\": \"\"}}, \"colorscale\": {\"diverging\": [[0, \"#8e0152\"], [0.1, \"#c51b7d\"], [0.2, \"#de77ae\"], [0.3, \"#f1b6da\"], [0.4, \"#fde0ef\"], [0.5, \"#f7f7f7\"], [0.6, \"#e6f5d0\"], [0.7, \"#b8e186\"], [0.8, \"#7fbc41\"], [0.9, \"#4d9221\"], [1, \"#276419\"]], \"sequential\": [[0.0, \"#0d0887\"], [0.1111111111111111, \"#46039f\"], [0.2222222222222222, \"#7201a8\"], [0.3333333333333333, \"#9c179e\"], [0.4444444444444444, \"#bd3786\"], [0.5555555555555556, \"#d8576b\"], [0.6666666666666666, \"#ed7953\"], [0.7777777777777778, \"#fb9f3a\"], [0.8888888888888888, \"#fdca26\"], [1.0, \"#f0f921\"]], \"sequentialminus\": [[0.0, \"#0d0887\"], [0.1111111111111111, \"#46039f\"], [0.2222222222222222, \"#7201a8\"], [0.3333333333333333, \"#9c179e\"], [0.4444444444444444, \"#bd3786\"], [0.5555555555555556, \"#d8576b\"], [0.6666666666666666, \"#ed7953\"], [0.7777777777777778, \"#fb9f3a\"], [0.8888888888888888, \"#fdca26\"], [1.0, \"#f0f921\"]]}, \"colorway\": [\"#636efa\", \"#EF553B\", \"#00cc96\", \"#ab63fa\", \"#FFA15A\", \"#19d3f3\", \"#FF6692\", \"#B6E880\", \"#FF97FF\", \"#FECB52\"], \"font\": {\"color\": \"#2a3f5f\"}, \"geo\": {\"bgcolor\": \"white\", \"lakecolor\": \"white\", \"landcolor\": \"#E5ECF6\", \"showlakes\": true, \"showland\": true, \"subunitcolor\": \"white\"}, \"hoverlabel\": {\"align\": \"left\"}, \"hovermode\": \"closest\", \"mapbox\": {\"style\": \"light\"}, \"paper_bgcolor\": \"white\", \"plot_bgcolor\": \"#E5ECF6\", \"polar\": {\"angularaxis\": {\"gridcolor\": \"white\", \"linecolor\": \"white\", \"ticks\": \"\"}, \"bgcolor\": \"#E5ECF6\", \"radialaxis\": {\"gridcolor\": \"white\", \"linecolor\": \"white\", \"ticks\": \"\"}}, \"scene\": {\"xaxis\": {\"backgroundcolor\": \"#E5ECF6\", \"gridcolor\": \"white\", \"gridwidth\": 2, \"linecolor\": \"white\", \"showbackground\": true, \"ticks\": \"\", \"zerolinecolor\": \"white\"}, \"yaxis\": {\"backgroundcolor\": \"#E5ECF6\", \"gridcolor\": \"white\", \"gridwidth\": 2, \"linecolor\": \"white\", \"showbackground\": true, \"ticks\": \"\", \"zerolinecolor\": \"white\"}, \"zaxis\": {\"backgroundcolor\": \"#E5ECF6\", \"gridcolor\": \"white\", \"gridwidth\": 2, \"linecolor\": \"white\", \"showbackground\": true, \"ticks\": \"\", \"zerolinecolor\": \"white\"}}, \"shapedefaults\": {\"line\": {\"color\": \"#2a3f5f\"}}, \"ternary\": {\"aaxis\": {\"gridcolor\": \"white\", \"linecolor\": \"white\", \"ticks\": \"\"}, \"baxis\": {\"gridcolor\": \"white\", \"linecolor\": \"white\", \"ticks\": \"\"}, \"bgcolor\": \"#E5ECF6\", \"caxis\": {\"gridcolor\": \"white\", \"linecolor\": \"white\", \"ticks\": \"\"}}, \"title\": {\"x\": 0.05}, \"xaxis\": {\"automargin\": true, \"gridcolor\": \"white\", \"linecolor\": \"white\", \"ticks\": \"\", \"title\": {\"standoff\": 15}, \"zerolinecolor\": \"white\", \"zerolinewidth\": 2}, \"yaxis\": {\"automargin\": true, \"gridcolor\": \"white\", \"linecolor\": \"white\", \"ticks\": \"\", \"title\": {\"standoff\": 15}, \"zerolinecolor\": \"white\", \"zerolinewidth\": 2}}}, \"title\": {\"text\": \"GD vs ISTA vs FISTA\"}},\n",
              "                        {\"responsive\": true}\n",
              "                    ).then(function(){\n",
              "                            \n",
              "var gd = document.getElementById('7df3d331-abbb-4ef9-88e7-3200c157a211');\n",
              "var x = new MutationObserver(function (mutations, observer) {{\n",
              "        var display = window.getComputedStyle(gd).display;\n",
              "        if (!display || display === 'none') {{\n",
              "            console.log([gd, 'removed!']);\n",
              "            Plotly.purge(gd);\n",
              "            observer.disconnect();\n",
              "        }}\n",
              "}});\n",
              "\n",
              "// Listen for the removal of the full notebook cells\n",
              "var notebookContainer = gd.closest('#notebook-container');\n",
              "if (notebookContainer) {{\n",
              "    x.observe(notebookContainer, {childList: true});\n",
              "}}\n",
              "\n",
              "// Listen for the clearing of the current output cell\n",
              "var outputEl = gd.closest('.output');\n",
              "if (outputEl) {{\n",
              "    x.observe(outputEl, {childList: true});\n",
              "}}\n",
              "\n",
              "                        })\n",
              "                };\n",
              "                \n",
              "            </script>\n",
              "        </div>\n",
              "</body>\n",
              "</html>"
            ]
          },
          "metadata": {
            "tags": []
          }
        }
      ]
    },
    {
      "cell_type": "markdown",
      "metadata": {
        "id": "mK5xRMjtKqWj"
      },
      "source": [
        "# Problem 3: Optional -- Why we use LASSO\n",
        "\n",
        "As an optional exercise, you may want to play around with Lasso and explore its properties in the context of machine learning problems. \n",
        "\n",
        "To do this: (A) Generate data for yourself at random: create a $n \\times d$ matrix $A$ where each entry comes from a standard Gaussian. Choose $d$ much larger than $n$, say, $d = 1000$ and $n = 100$. Now choose the true solution, $x^{\\ast}$ to be a $k$-sparse vector. You can do this in many ways. One simple approach is to let $x^{\\ast}$ equal 10 on $k=5$ randomly chosen entries, and then zero every where else. Finally, generate $y$ according to\n",
        "$$\n",
        "y = Ax + \\epsilon,\n",
        "$$\n",
        "where $\\epsilon$ is zero mean Gaussian noise with variance $0.1$.\n",
        "\n",
        "Now solve (via an algorithm of your choice) Lasso. Note that you will have to search for a good value for $\\lambda$. Compare the solution you get $\\hat{x}_{\\rm lasso}$ with the true solution, as you vary $\\lambda$. You may also want to compare it to the solution when you do not have any regularization. \n"
      ]
    },
    {
      "cell_type": "markdown",
      "metadata": {
        "id": "DCw3ZCBGKtAS"
      },
      "source": [
        "# Problem 4: Logistic Regression\n",
        "\n",
        "Logistic regression is a simple statistical classification method which models\n",
        "the conditional distribution of the class variable $y$ being equal to class $c$\n",
        "given an input $x \\in \\mathbb{R}^n$. We will examine two classification tasks, one\n",
        "classifying newsgroup posts, and the other classifying digits. In these tasks\n",
        "the input $x$ is some description of the sample (e.g., word counts in the news\n",
        "case) and $y$ is the category the sample belongs to (e.g., sports, politics).\n",
        "The Logistic Regression model assumes the class distribution conditioned on $x$\n",
        "is log-linear:\n",
        "$$\n",
        "p(y=c|x,b_{1:C}) = \\frac{e^{-b_c^\\top x}}{\\sum_{j=1}^C e^{-b_j^\\top x}},\n",
        "$$\n",
        "where $C$ is the total number of classes, and the denominator sums over all\n",
        "classes to ensure that $p(y|x)$ is a proper probability distribution. Each\n",
        "class $c \\in {1,2, \\dots, C}$ has a parameter $b_c$, and $\\mathbf{b} \\in\n",
        "\\mathbb{R}^{nC}$ is the vector of concatenated parameters $\\mathbf{b} =\n",
        "[b_1^\\top,b_2^\\top,\\dots,b_C^\\top]^\\top$.  Let $X \\in \\mathbb{R}^{N \\times n}$ be the\n",
        "data matrix where each sample $x_i^\\top$ is a row and $N$ is the number of\n",
        "samples.  The maximum likelihood approach seeks to find the parameter\n",
        "$\\mathbf{b}$ which maximizes the likelihood of the classes given the input data\n",
        "and the model:\n",
        "\n",
        "$$\n",
        "\\max_{b_{1:C}} \\; p(y|x,b_{1:C}) = \\prod_{i=1}^N p(y_i|x_i,b_{1:C}) = \\prod_{i=1}^N \\frac{e^{-b_{y_i}^\\top x_i}}{\\sum_{j=1}^C e^{-b_j^\\top x_i}}.\n",
        "$$\n",
        "\n",
        "For the purposes of optimization, we can equivalently minimize the negative log\n",
        "likelihood:\n",
        "$$\n",
        "\\min_\\mathbf{\\beta} \\ell(\\mathbf{\\beta}) = -\\log p(\\textbf{y}|X, \\mathbf{\\beta}) = \\sum_{i=1}^N \\left( \\beta_{y_i}^\\top x_i + \\log{\\sum_{j=1}^C e^{-\\beta_j^\\top x_i}} \\right).\n",
        "$$\n",
        "\n",
        "After optimization, the model can be used to classify a new input by choosing\n",
        "the class that the model predicts as having the highest likelihood; note that\n",
        "we don't have to compute the normalizing quantity $\\sum_{j=1}^C e^{-b_j^\\top x}$\n",
        "as it is constant across all classes:\n",
        "$$\n",
        "y = \\arg\\max_j p(y=j| x, \\mathbf{\\beta}) = \\arg\\min_j \\beta_j^\\top x\n",
        "$$\n",
        "In this problem, you will optimize the logistic regression model for the two\n",
        "classification tasks mentioned above which vary in dimension and number of\n",
        "classes. The newsgroup dataset that we consider here has $C=20$. \n",
        "\n",
        "We will compare the performance of gradient descent and Nesterov's accelerated gradient\n",
        "method on the $\\ell^2$-regularized version of the logistic regression model:\n",
        "$$\n",
        "\\min_{\\boldsymbol{\\beta}} = \\frac{1}{N} \\sum_{i=1}^N \\left( \\beta_{y_i}^\\top x_i + \\log{\\sum_{j=1}^C e^{-\\beta_j^\\top x_i}} \\right) + \\mu \\|\\boldsymbol{\\beta}\\|^2.\n",
        "$$\n",
        "\n",
        "In this homework, we will use the training and testing data contained in the four csv files in logistic\\_news.zip. In a later homework, we will look into the digits dataset (MNIST).\n",
        "\n"
      ]
    },
    {
      "cell_type": "code",
      "metadata": {
        "id": "fqKRqJrtshSk"
      },
      "source": [
        "#sample code to load in logistic_news.zip\r\n",
        "#we also create a Z matrix, useful for multiclass logistic regression optimization\r\n",
        "import zipfile as zipfile\r\n",
        "import csv\r\n",
        "\r\n",
        "class Data:\r\n",
        "    def __init__(self,X,Y):\r\n",
        "        self.X=X\r\n",
        "        self.Y=Y   \r\n",
        "\r\n",
        "def loaddata(filename):\r\n",
        "    import io\r\n",
        "    data=[]\r\n",
        "    with zipfile.ZipFile(filename) as z:\r\n",
        "        for filename in z.namelist():\r\n",
        "            if filename[0]=='X'or filename[0]=='y':\r\n",
        "                each=[]\r\n",
        "                with z.open(filename) as csvDataFile:\r\n",
        "                    csvReader=csv.reader(csvDataFile)\r\n",
        "                    csvDataFile_utf8 = io.TextIOWrapper(csvDataFile, 'utf-8')\r\n",
        "                    csvReader=csv.reader(csvDataFile_utf8)\r\n",
        "                    for row in csvReader:\r\n",
        "                        each.append(row)\r\n",
        "                    each==[[float(string) for string in row] for row in each]\r\n",
        "                    each=np.asarray(each)\r\n",
        "                    data.append(each)    \r\n",
        "    X_te=data[0].astype(float)\r\n",
        "    X_tr=data[1].astype(float)\r\n",
        "    y_te=data[2][0].astype(int)\r\n",
        "    y_tr=data[3][0].astype(int)\r\n",
        "    Z_tr,Z_te=[],[]\r\n",
        "    for j in range(len(np.unique(y_tr))):\r\n",
        "        Z_tr.append(np.sum(X_tr[np.where(y_tr==j)[0],:],axis=0))\r\n",
        "        Z_te.append(np.sum(X_te[np.where(y_te==j)[0],:],axis=0))\r\n",
        "    Z_tr=np.asarray(Z_tr).T\r\n",
        "    Z_te=np.asarray(Z_te).T\r\n",
        "    train= Data(X_tr,y_tr)\r\n",
        "    train.Z=Z_tr\r\n",
        "    test = Data(X_te,y_te)\r\n",
        "    test.Z=Z_te\r\n",
        "    return train,test\r\n",
        "\r\n",
        "train,test=loaddata('./logistic_news.zip')"
      ],
      "execution_count": null,
      "outputs": []
    },
    {
      "cell_type": "markdown",
      "metadata": {
        "id": "sO78y9YxKvui"
      },
      "source": [
        "## Part (A) -- Optional -- \n",
        "Find the value of $\\mu$ that gives you (approximately) the best generalization performance (error on test set). You obtain this by solving the the above optimization problem for different values of $\\mu$, and then checking the performance of the solution on the testing set, using the unregularized logistic regression loss. Note that this is not a question about an optimization method.\n",
        "\n",
        "What value do you get for the test loss after convergence?  "
      ]
    },
    {
      "cell_type": "markdown",
      "metadata": {
        "id": "VxkrZ-d2rTl3"
      },
      "source": [
        "## Part (B) \r\n",
        "\r\n",
        "If you did Part (A), use the value of $\\mu$ you found there. If you did not, use $\\mu = 0.001$. \r\n",
        "\r\n",
        "Plot the loss against iterations for both the test and training data\r\n",
        "using the value of $\\mu$ from part (a)."
      ]
    },
    {
      "cell_type": "code",
      "metadata": {
        "id": "L71V9Qz4cPyZ"
      },
      "source": [
        "\n",
        "\n",
        "class Logistic_loss:\n",
        "    def __init__(self, data, init_weights, mou=0.001):\n",
        "        self.X = data.X\n",
        "        self.Y = data.Y\n",
        "        self.Z = data.Z\n",
        "        self.N = np.shape(self.X)\n",
        "        self.mou = mou\n",
        "    def eval(self, weights):\n",
        "        X,Y,Z=self.X,self.Y,self.Z\n",
        "        loss=(1./Y.shape[0])*(np.trace(np.dot(weights.T,Z))+np.sum(np.log(np.sum(np.exp(-np.dot(X,weights)),axis=1))))\n",
        "        reg=self.mou*la.norm(weights,'fro')**2\n",
        "        return loss + reg\n",
        "    def gradient(self,weights):\n",
        "        return self.subgradient(weights)\n",
        "    def subgradient(self,weights):\n",
        "        n,d= self.N\n",
        "        X,Y,Z=self.X,self.Y,self.Z\n",
        "        w=(np.exp(-np.dot(X,weights)).T/np.sum(np.exp(-np.dot(X,weights)),axis=1)).T\n",
        "        g_loss=(1./Y.shape[0])*(Z+np.dot(-X.T,w))\n",
        "        g_reg=2*self.mou*weights\n",
        "        return g_loss + g_reg\n",
        "    def test_loss(self, data, weights):\n",
        "        X,Y,Z=data.X,data.Y,data.Z\n",
        "        loss=(1./Y.shape[0])*(np.trace(np.dot(weights.T,Z))+np.sum(np.log(np.sum(np.exp(-np.dot(X,weights)),axis=1))))\n",
        "        reg=self.mou*la.norm(weights,'fro')**2\n",
        "        return loss # no reg term for testing \n",
        "            \n",
        "            \n",
        "\n"
      ],
      "execution_count": null,
      "outputs": []
    },
    {
      "cell_type": "markdown",
      "metadata": {
        "id": "0SidZhForTAT"
      },
      "source": [
        "## Part (C) \r\n",
        "\r\n",
        "How do the two algorithms differ in performance, and how does this change\r\n",
        "as you decrease $\\mu$? "
      ]
    },
    {
      "cell_type": "code",
      "metadata": {
        "id": "xlC9LqYpg_oN",
        "colab": {
          "base_uri": "https://localhost:8080/",
          "height": 1000
        },
        "outputId": "2b916c0a-dfc0-4b8c-ca75-0113a540ec13"
      },
      "source": [
        "model = Logistic_loss(data=train, init_weights= np.zeros(train.Z.shape))\n",
        "\n",
        "gd = AGD(model, x_init= np.zeros(train.Z.shape), epochs=int(1e2), learning_rate= lambda s : 1e-1)\n",
        "gd2 = GD(model, x_init= np.zeros(train.Z.shape) , epochs=int(1e2), learning_rate= lambda s : 1e-1)\n",
        "gd.go(test_set=test)\n",
        "gd2.go(test_set=test)\n",
        "\n",
        "all_history = {\"AGD\":gd.history, \"GD\": gd2.history}\n",
        "\n",
        "## we plot train loss\n",
        "fig = graph.Figure(layout=graph.Layout(title=graph.layout.Title(text= \"logistic loss function value vs steps\")))\n",
        "for i in all_history:\n",
        "  fig.add_trace(graph.Scatter(x    = all_history[i][\"step\"],\n",
        "                              y    = all_history[i][\"function_vals\"],\n",
        "                              name = \" \" + i))\n",
        "fig.show()\n",
        "\n",
        "\n",
        "\n",
        "## we plot test loss\n",
        "fig = graph.Figure(layout=graph.Layout(title=graph.layout.Title(text=\"test logistic loss function value vs steps\")))\n",
        "for i in all_history:\n",
        "  fig.add_trace(graph.Scatter(x    = all_history[i][\"step\"],\n",
        "                              y    = all_history[i][\"test_loss\"],\n",
        "                              name = \" \" + i))\n",
        "fig.show()\n",
        "\n",
        "\n"
      ],
      "execution_count": null,
      "outputs": [
        {
          "output_type": "stream",
          "text": [
            "100%|██████████| 100/100 [00:49<00:00,  2.02it/s]\n",
            "100%|██████████| 100/100 [00:49<00:00,  2.01it/s]\n"
          ],
          "name": "stderr"
        },
        {
          "output_type": "display_data",
          "data": {
            "text/html": [
              "<html>\n",
              "<head><meta charset=\"utf-8\" /></head>\n",
              "<body>\n",
              "    <div>\n",
              "            <script src=\"https://cdnjs.cloudflare.com/ajax/libs/mathjax/2.7.5/MathJax.js?config=TeX-AMS-MML_SVG\"></script><script type=\"text/javascript\">if (window.MathJax) {MathJax.Hub.Config({SVG: {font: \"STIX-Web\"}});}</script>\n",
              "                <script type=\"text/javascript\">window.PlotlyConfig = {MathJaxConfig: 'local'};</script>\n",
              "        <script src=\"https://cdn.plot.ly/plotly-latest.min.js\"></script>    \n",
              "            <div id=\"96e9acb0-9e69-4c3e-a5d1-53999fe43eb5\" class=\"plotly-graph-div\" style=\"height:525px; width:100%;\"></div>\n",
              "            <script type=\"text/javascript\">\n",
              "                \n",
              "                    window.PLOTLYENV=window.PLOTLYENV || {};\n",
              "                    \n",
              "                if (document.getElementById(\"96e9acb0-9e69-4c3e-a5d1-53999fe43eb5\")) {\n",
              "                    Plotly.newPlot(\n",
              "                        '96e9acb0-9e69-4c3e-a5d1-53999fe43eb5',\n",
              "                        [{\"name\": \" AGD\", \"type\": \"scatter\", \"x\": [0, 1, 2, 3, 4, 5, 6, 7, 8, 9, 10, 11, 12, 13, 14, 15, 16, 17, 18, 19, 20, 21, 22, 23, 24, 25, 26, 27, 28, 29, 30, 31, 32, 33, 34, 35, 36, 37, 38, 39, 40, 41, 42, 43, 44, 45, 46, 47, 48, 49, 50, 51, 52, 53, 54, 55, 56, 57, 58, 59, 60, 61, 62, 63, 64, 65, 66, 67, 68, 69, 70, 71, 72, 73, 74, 75, 76, 77, 78, 79, 80, 81, 82, 83, 84, 85, 86, 87, 88, 89, 90, 91, 92, 93, 94, 95, 96, 97, 98, 99], \"y\": [2.995732273553991, 2.9955852719558997, 2.9953980795134165, 2.9951725686474884, 2.9949103212135126, 2.9946128195345874, 2.9942815188827265, 2.9939178767403423, 2.9935233628178506, 2.9930994594008498, 2.9926476564890865, 2.9921694440681446, 2.991666302865858, 2.9911396944387394, 2.9905910511515588, 2.990021766443206, 2.9894331856615666, 2.9888265976730426, 2.9882032273950103, 2.9875642293544784, 2.9869106823394818, 2.9862435851789595, 2.985563853660637, 2.9848723185740185, 2.9841697248464474, 2.9834567317239764, 2.9827339139352778, 2.9820017637658225, 2.9812606939608672, 2.9805110413692586, 2.9797530712355513, 2.978986982045218, 2.9782129108267315, 2.9774309388147318, 2.976641097380358, 2.975843374137775, 2.9750377191400035, 2.974224051082004, 2.9734022634346746, 2.972572230439601, 2.9717338129011326, 2.9708868637193997, 2.970031233115153, 2.9691667735047016, 2.9682933439906223, 2.9674108144412696, 2.9665190691392027, 2.96561800998564, 2.9647075592545615, 2.963787661896337, 2.9628582873964686, 2.961919431200373, 2.960971115719816, 2.9600133909408592, 2.959046334656778, 2.9580700523524683, 2.957084676769312, 2.9560903671813628, 2.9550873084150164, 2.954075709645156, 2.9530558030009644, 2.9520278420144637, 2.9509920999441372, 2.9499488680049817, 2.9488984535349445, 2.94784117812599, 2.946777375746126, 2.9457073908765388, 2.9446315766857007, 2.943550293259889, 2.9424639059070734, 2.9413727835486116, 2.940277297210708, 2.9391778186251427, 2.938074718946391, 2.936968367590021, 2.93585913119509, 2.9347473727113065, 2.9336334506098978, 2.9325177182154447, 2.931400523154563, 2.930282206915957, 2.929163104515348, 2.9280435442578847, 2.9269238475899217, 2.9258043290315543, 2.924685296180941, 2.923567049781275, 2.9224498838412063, 2.921334085799665, 2.920219936726248, 2.919107711548676, 2.9179976792992863, 2.916890103373078, 2.9157852417903576, 2.9146833474577645, 2.9135846684220974, 2.912489448112094, 2.9113979255640308, 2.9103103356277704]}, {\"name\": \" GD\", \"type\": \"scatter\", \"x\": [0, 1, 2, 3, 4, 5, 6, 7, 8, 9, 10, 11, 12, 13, 14, 15, 16, 17, 18, 19, 20, 21, 22, 23, 24, 25, 26, 27, 28, 29, 30, 31, 32, 33, 34, 35, 36, 37, 38, 39, 40, 41, 42, 43, 44, 45, 46, 47, 48, 49, 50, 51, 52, 53, 54, 55, 56, 57, 58, 59, 60, 61, 62, 63, 64, 65, 66, 67, 68, 69, 70, 71, 72, 73, 74, 75, 76, 77, 78, 79, 80, 81, 82, 83, 84, 85, 86, 87, 88, 89, 90, 91, 92, 93, 94, 95, 96, 97, 98, 99], \"y\": [2.995732273553991, 2.9955852719558997, 2.995439165352636, 2.995293941696437, 2.99514958912938, 2.99500609597997, 2.994863450759783, 2.994721642160192, 2.9945806590491553, 2.9944404904680693, 2.994301125628689, 2.994162553910113, 2.994024764855832, 2.993887748170825, 2.9937514937187353, 2.993615991519086, 2.9934812317445623, 2.9933472047183423, 2.9932139009114844, 2.9930813109403696, 2.992949425564188, 2.9928182356824817, 2.992687732332735, 2.9925579066880075, 2.992428750054621, 2.992300253869888, 2.9921724096998807, 2.9920452092372583, 2.991918644299112, 2.991792706824878, 2.9916673888742733, 2.991542682625277, 2.9914185803721507, 2.991295074523496, 2.991172157600353, 2.9910498222343214, 2.990928061165741, 2.9908068672418815, 2.990686233415184, 2.9905661527415237, 2.9904466183785194, 2.9903276235838576, 2.9902091617136604, 2.990091226220878, 2.989973810653717, 2.9898569086540863, 2.989740513956083, 2.9896246203845016, 2.9895092218533694, 2.9893943123645133, 2.989279886006142, 2.9891659369514714, 2.9890524594573575, 2.988939447862964, 2.98882689658845, 2.9887148001336854, 2.9886031530769848, 2.9884919500738643, 2.988381185855825, 2.988270855229153, 2.9881609530737427, 2.988051474341944, 2.987942414057423, 2.987833767314048, 2.9877255292747966, 2.9876176951706723, 2.987510260299655, 2.9874032200256555, 2.9872965697774965, 2.987190305047909, 2.9870844213925465, 2.986978914429014, 2.9868737798359186, 2.98676901335193, 2.9866646107748616, 2.9865605679607694, 2.986456880823055, 2.986353545331604, 2.986250557511914, 2.9861479134442583, 2.9860456092628547, 2.985943641155047, 2.985842005360505, 2.9857406981704333, 2.985639715926798, 2.9855390550215617, 2.9854387118959353, 2.9853386830396382, 2.9852389649901765, 2.985139554332126, 2.985040447696433, 2.9849416417597214, 2.984843133243622, 2.9847449189140924, 2.984646995580774, 2.984549360096335, 2.984452009355841, 2.9843549402961322, 2.984258149895203, 2.9841616351715996]}],\n",
              "                        {\"template\": {\"data\": {\"bar\": [{\"error_x\": {\"color\": \"#2a3f5f\"}, \"error_y\": {\"color\": \"#2a3f5f\"}, \"marker\": {\"line\": {\"color\": \"#E5ECF6\", \"width\": 0.5}}, \"type\": \"bar\"}], \"barpolar\": [{\"marker\": {\"line\": {\"color\": \"#E5ECF6\", \"width\": 0.5}}, \"type\": \"barpolar\"}], \"carpet\": [{\"aaxis\": {\"endlinecolor\": \"#2a3f5f\", \"gridcolor\": \"white\", \"linecolor\": \"white\", \"minorgridcolor\": \"white\", \"startlinecolor\": \"#2a3f5f\"}, \"baxis\": {\"endlinecolor\": \"#2a3f5f\", \"gridcolor\": \"white\", \"linecolor\": \"white\", \"minorgridcolor\": \"white\", \"startlinecolor\": \"#2a3f5f\"}, \"type\": \"carpet\"}], \"choropleth\": [{\"colorbar\": {\"outlinewidth\": 0, \"ticks\": \"\"}, \"type\": \"choropleth\"}], \"contour\": [{\"colorbar\": {\"outlinewidth\": 0, \"ticks\": \"\"}, \"colorscale\": [[0.0, \"#0d0887\"], [0.1111111111111111, \"#46039f\"], [0.2222222222222222, \"#7201a8\"], [0.3333333333333333, \"#9c179e\"], [0.4444444444444444, \"#bd3786\"], [0.5555555555555556, \"#d8576b\"], [0.6666666666666666, \"#ed7953\"], [0.7777777777777778, \"#fb9f3a\"], [0.8888888888888888, \"#fdca26\"], [1.0, \"#f0f921\"]], \"type\": \"contour\"}], \"contourcarpet\": [{\"colorbar\": {\"outlinewidth\": 0, \"ticks\": \"\"}, \"type\": \"contourcarpet\"}], \"heatmap\": [{\"colorbar\": {\"outlinewidth\": 0, \"ticks\": \"\"}, \"colorscale\": [[0.0, \"#0d0887\"], [0.1111111111111111, \"#46039f\"], [0.2222222222222222, \"#7201a8\"], [0.3333333333333333, \"#9c179e\"], [0.4444444444444444, \"#bd3786\"], [0.5555555555555556, \"#d8576b\"], [0.6666666666666666, \"#ed7953\"], [0.7777777777777778, \"#fb9f3a\"], [0.8888888888888888, \"#fdca26\"], [1.0, \"#f0f921\"]], \"type\": \"heatmap\"}], \"heatmapgl\": [{\"colorbar\": {\"outlinewidth\": 0, \"ticks\": \"\"}, \"colorscale\": [[0.0, \"#0d0887\"], [0.1111111111111111, \"#46039f\"], [0.2222222222222222, \"#7201a8\"], [0.3333333333333333, \"#9c179e\"], [0.4444444444444444, \"#bd3786\"], [0.5555555555555556, \"#d8576b\"], [0.6666666666666666, \"#ed7953\"], [0.7777777777777778, \"#fb9f3a\"], [0.8888888888888888, \"#fdca26\"], [1.0, \"#f0f921\"]], \"type\": \"heatmapgl\"}], \"histogram\": [{\"marker\": {\"colorbar\": {\"outlinewidth\": 0, \"ticks\": \"\"}}, \"type\": \"histogram\"}], \"histogram2d\": [{\"colorbar\": {\"outlinewidth\": 0, \"ticks\": \"\"}, \"colorscale\": [[0.0, \"#0d0887\"], [0.1111111111111111, \"#46039f\"], [0.2222222222222222, \"#7201a8\"], [0.3333333333333333, \"#9c179e\"], [0.4444444444444444, \"#bd3786\"], [0.5555555555555556, \"#d8576b\"], [0.6666666666666666, \"#ed7953\"], [0.7777777777777778, \"#fb9f3a\"], [0.8888888888888888, \"#fdca26\"], [1.0, \"#f0f921\"]], \"type\": \"histogram2d\"}], \"histogram2dcontour\": [{\"colorbar\": {\"outlinewidth\": 0, \"ticks\": \"\"}, \"colorscale\": [[0.0, \"#0d0887\"], [0.1111111111111111, \"#46039f\"], [0.2222222222222222, \"#7201a8\"], [0.3333333333333333, \"#9c179e\"], [0.4444444444444444, \"#bd3786\"], [0.5555555555555556, \"#d8576b\"], [0.6666666666666666, \"#ed7953\"], [0.7777777777777778, \"#fb9f3a\"], [0.8888888888888888, \"#fdca26\"], [1.0, \"#f0f921\"]], \"type\": \"histogram2dcontour\"}], \"mesh3d\": [{\"colorbar\": {\"outlinewidth\": 0, \"ticks\": \"\"}, \"type\": \"mesh3d\"}], \"parcoords\": [{\"line\": {\"colorbar\": {\"outlinewidth\": 0, \"ticks\": \"\"}}, \"type\": \"parcoords\"}], \"pie\": [{\"automargin\": true, \"type\": \"pie\"}], \"scatter\": [{\"marker\": {\"colorbar\": {\"outlinewidth\": 0, \"ticks\": \"\"}}, \"type\": \"scatter\"}], \"scatter3d\": [{\"line\": {\"colorbar\": {\"outlinewidth\": 0, \"ticks\": \"\"}}, \"marker\": {\"colorbar\": {\"outlinewidth\": 0, \"ticks\": \"\"}}, \"type\": \"scatter3d\"}], \"scattercarpet\": [{\"marker\": {\"colorbar\": {\"outlinewidth\": 0, \"ticks\": \"\"}}, \"type\": \"scattercarpet\"}], \"scattergeo\": [{\"marker\": {\"colorbar\": {\"outlinewidth\": 0, \"ticks\": \"\"}}, \"type\": \"scattergeo\"}], \"scattergl\": [{\"marker\": {\"colorbar\": {\"outlinewidth\": 0, \"ticks\": \"\"}}, \"type\": \"scattergl\"}], \"scattermapbox\": [{\"marker\": {\"colorbar\": {\"outlinewidth\": 0, \"ticks\": \"\"}}, \"type\": \"scattermapbox\"}], \"scatterpolar\": [{\"marker\": {\"colorbar\": {\"outlinewidth\": 0, \"ticks\": \"\"}}, \"type\": \"scatterpolar\"}], \"scatterpolargl\": [{\"marker\": {\"colorbar\": {\"outlinewidth\": 0, \"ticks\": \"\"}}, \"type\": \"scatterpolargl\"}], \"scatterternary\": [{\"marker\": {\"colorbar\": {\"outlinewidth\": 0, \"ticks\": \"\"}}, \"type\": \"scatterternary\"}], \"surface\": [{\"colorbar\": {\"outlinewidth\": 0, \"ticks\": \"\"}, \"colorscale\": [[0.0, \"#0d0887\"], [0.1111111111111111, \"#46039f\"], [0.2222222222222222, \"#7201a8\"], [0.3333333333333333, \"#9c179e\"], [0.4444444444444444, \"#bd3786\"], [0.5555555555555556, \"#d8576b\"], [0.6666666666666666, \"#ed7953\"], [0.7777777777777778, \"#fb9f3a\"], [0.8888888888888888, \"#fdca26\"], [1.0, \"#f0f921\"]], \"type\": \"surface\"}], \"table\": [{\"cells\": {\"fill\": {\"color\": \"#EBF0F8\"}, \"line\": {\"color\": \"white\"}}, \"header\": {\"fill\": {\"color\": \"#C8D4E3\"}, \"line\": {\"color\": \"white\"}}, \"type\": \"table\"}]}, \"layout\": {\"annotationdefaults\": {\"arrowcolor\": \"#2a3f5f\", \"arrowhead\": 0, \"arrowwidth\": 1}, \"coloraxis\": {\"colorbar\": {\"outlinewidth\": 0, \"ticks\": \"\"}}, \"colorscale\": {\"diverging\": [[0, \"#8e0152\"], [0.1, \"#c51b7d\"], [0.2, \"#de77ae\"], [0.3, \"#f1b6da\"], [0.4, \"#fde0ef\"], [0.5, \"#f7f7f7\"], [0.6, \"#e6f5d0\"], [0.7, \"#b8e186\"], [0.8, \"#7fbc41\"], [0.9, \"#4d9221\"], [1, \"#276419\"]], \"sequential\": [[0.0, \"#0d0887\"], [0.1111111111111111, \"#46039f\"], [0.2222222222222222, \"#7201a8\"], [0.3333333333333333, \"#9c179e\"], [0.4444444444444444, \"#bd3786\"], [0.5555555555555556, \"#d8576b\"], [0.6666666666666666, \"#ed7953\"], [0.7777777777777778, \"#fb9f3a\"], [0.8888888888888888, \"#fdca26\"], [1.0, \"#f0f921\"]], \"sequentialminus\": [[0.0, \"#0d0887\"], [0.1111111111111111, \"#46039f\"], [0.2222222222222222, \"#7201a8\"], [0.3333333333333333, \"#9c179e\"], [0.4444444444444444, \"#bd3786\"], [0.5555555555555556, \"#d8576b\"], [0.6666666666666666, \"#ed7953\"], [0.7777777777777778, \"#fb9f3a\"], [0.8888888888888888, \"#fdca26\"], [1.0, \"#f0f921\"]]}, \"colorway\": [\"#636efa\", \"#EF553B\", \"#00cc96\", \"#ab63fa\", \"#FFA15A\", \"#19d3f3\", \"#FF6692\", \"#B6E880\", \"#FF97FF\", \"#FECB52\"], \"font\": {\"color\": \"#2a3f5f\"}, \"geo\": {\"bgcolor\": \"white\", \"lakecolor\": \"white\", \"landcolor\": \"#E5ECF6\", \"showlakes\": true, \"showland\": true, \"subunitcolor\": \"white\"}, \"hoverlabel\": {\"align\": \"left\"}, \"hovermode\": \"closest\", \"mapbox\": {\"style\": \"light\"}, \"paper_bgcolor\": \"white\", \"plot_bgcolor\": \"#E5ECF6\", \"polar\": {\"angularaxis\": {\"gridcolor\": \"white\", \"linecolor\": \"white\", \"ticks\": \"\"}, \"bgcolor\": \"#E5ECF6\", \"radialaxis\": {\"gridcolor\": \"white\", \"linecolor\": \"white\", \"ticks\": \"\"}}, \"scene\": {\"xaxis\": {\"backgroundcolor\": \"#E5ECF6\", \"gridcolor\": \"white\", \"gridwidth\": 2, \"linecolor\": \"white\", \"showbackground\": true, \"ticks\": \"\", \"zerolinecolor\": \"white\"}, \"yaxis\": {\"backgroundcolor\": \"#E5ECF6\", \"gridcolor\": \"white\", \"gridwidth\": 2, \"linecolor\": \"white\", \"showbackground\": true, \"ticks\": \"\", \"zerolinecolor\": \"white\"}, \"zaxis\": {\"backgroundcolor\": \"#E5ECF6\", \"gridcolor\": \"white\", \"gridwidth\": 2, \"linecolor\": \"white\", \"showbackground\": true, \"ticks\": \"\", \"zerolinecolor\": \"white\"}}, \"shapedefaults\": {\"line\": {\"color\": \"#2a3f5f\"}}, \"ternary\": {\"aaxis\": {\"gridcolor\": \"white\", \"linecolor\": \"white\", \"ticks\": \"\"}, \"baxis\": {\"gridcolor\": \"white\", \"linecolor\": \"white\", \"ticks\": \"\"}, \"bgcolor\": \"#E5ECF6\", \"caxis\": {\"gridcolor\": \"white\", \"linecolor\": \"white\", \"ticks\": \"\"}}, \"title\": {\"x\": 0.05}, \"xaxis\": {\"automargin\": true, \"gridcolor\": \"white\", \"linecolor\": \"white\", \"ticks\": \"\", \"title\": {\"standoff\": 15}, \"zerolinecolor\": \"white\", \"zerolinewidth\": 2}, \"yaxis\": {\"automargin\": true, \"gridcolor\": \"white\", \"linecolor\": \"white\", \"ticks\": \"\", \"title\": {\"standoff\": 15}, \"zerolinecolor\": \"white\", \"zerolinewidth\": 2}}}, \"title\": {\"text\": \"logistic loss function value vs steps\"}},\n",
              "                        {\"responsive\": true}\n",
              "                    ).then(function(){\n",
              "                            \n",
              "var gd = document.getElementById('96e9acb0-9e69-4c3e-a5d1-53999fe43eb5');\n",
              "var x = new MutationObserver(function (mutations, observer) {{\n",
              "        var display = window.getComputedStyle(gd).display;\n",
              "        if (!display || display === 'none') {{\n",
              "            console.log([gd, 'removed!']);\n",
              "            Plotly.purge(gd);\n",
              "            observer.disconnect();\n",
              "        }}\n",
              "}});\n",
              "\n",
              "// Listen for the removal of the full notebook cells\n",
              "var notebookContainer = gd.closest('#notebook-container');\n",
              "if (notebookContainer) {{\n",
              "    x.observe(notebookContainer, {childList: true});\n",
              "}}\n",
              "\n",
              "// Listen for the clearing of the current output cell\n",
              "var outputEl = gd.closest('.output');\n",
              "if (outputEl) {{\n",
              "    x.observe(outputEl, {childList: true});\n",
              "}}\n",
              "\n",
              "                        })\n",
              "                };\n",
              "                \n",
              "            </script>\n",
              "        </div>\n",
              "</body>\n",
              "</html>"
            ]
          },
          "metadata": {
            "tags": []
          }
        },
        {
          "output_type": "display_data",
          "data": {
            "text/html": [
              "<html>\n",
              "<head><meta charset=\"utf-8\" /></head>\n",
              "<body>\n",
              "    <div>\n",
              "            <script src=\"https://cdnjs.cloudflare.com/ajax/libs/mathjax/2.7.5/MathJax.js?config=TeX-AMS-MML_SVG\"></script><script type=\"text/javascript\">if (window.MathJax) {MathJax.Hub.Config({SVG: {font: \"STIX-Web\"}});}</script>\n",
              "                <script type=\"text/javascript\">window.PlotlyConfig = {MathJaxConfig: 'local'};</script>\n",
              "        <script src=\"https://cdn.plot.ly/plotly-latest.min.js\"></script>    \n",
              "            <div id=\"738ae6d3-35c6-47ca-b160-ed1ae77c1cf8\" class=\"plotly-graph-div\" style=\"height:525px; width:100%;\"></div>\n",
              "            <script type=\"text/javascript\">\n",
              "                \n",
              "                    window.PLOTLYENV=window.PLOTLYENV || {};\n",
              "                    \n",
              "                if (document.getElementById(\"738ae6d3-35c6-47ca-b160-ed1ae77c1cf8\")) {\n",
              "                    Plotly.newPlot(\n",
              "                        '738ae6d3-35c6-47ca-b160-ed1ae77c1cf8',\n",
              "                        [{\"name\": \" AGD\", \"type\": \"scatter\", \"x\": [0, 1, 2, 3, 4, 5, 6, 7, 8, 9, 10, 11, 12, 13, 14, 15, 16, 17, 18, 19, 20, 21, 22, 23, 24, 25, 26, 27, 28, 29, 30, 31, 32, 33, 34, 35, 36, 37, 38, 39, 40, 41, 42, 43, 44, 45, 46, 47, 48, 49, 50, 51, 52, 53, 54, 55, 56, 57, 58, 59, 60, 61, 62, 63, 64, 65, 66, 67, 68, 69, 70, 71, 72, 73, 74, 75, 76, 77, 78, 79, 80, 81, 82, 83, 84, 85, 86, 87, 88, 89, 90, 91, 92, 93, 94, 95, 96, 97, 98, 99], \"y\": [2.99560407835151, 2.995440886912368, 2.995244370177734, 2.9950159510954095, 2.9947569700590178, 2.9944687468760045, 2.994152604996227, 2.993809878935805, 2.993441913269021, 2.993050057102897, 2.9926356560981096, 2.992200043236065, 2.9917445290881877, 2.991270392095228, 2.9907788692137154, 2.9902711471877415, 2.9897483546343766, 2.9892115550782106, 2.988661741028618, 2.9880998291586787, 2.9875266566153966, 2.9869429784657, 2.986349466261108, 2.9857467076853994, 2.9851352072338644, 2.9845153878596338, 2.983887593511854, 2.9832520924820476, 2.9826090814687545, 2.9819586902661475, 2.9813009869798797, 2.980635983672515, 2.979963642341545, 2.979283881134998, 2.9785965807127526, 2.977901590665916, 2.9771987359116237, 2.97648782298648, 2.975768646168204, 2.9750409933619473, 2.974304651694958, 2.9735594127706535, 2.972805077540823, 2.9720414607621155, 2.9712683950105814, 2.9704857342352353, 2.969693356838752, 2.9688911682800896, 2.9680791032001737, 2.9672571270776986, 2.966425237427441, 2.9655834645583874, 2.9647318719132416, 2.9638705560145877, 2.9629996460460957, 2.962119303099684, 2.9612297191214516, 2.9603311155905585, 2.959423741966015, 2.9585078739366115, 2.957583811508998, 2.9566518769682384, 2.955712412744098, 2.954765779214862, 2.953812352478755, 2.952852522120963, 2.9518866890020967, 2.950915263091475, 2.949938661366125, 2.9489573057938174, 2.9479716214158107, 2.946982034542406, 2.9459889710718277, 2.9449928549404847, 2.9439941067102757, 2.942993142296372, 2.941990371836796, 2.9409861987032238, 2.939981018650625, 2.938975219101872, 2.937969178562022, 2.936963266155826, 2.9359578412810357, 2.9349532533693035, 2.933949841745856, 2.9329479355786976, 2.9319478539078645, 2.9309499057451274, 2.9299543902346086, 2.928961596864943, 2.9279718057239097, 2.9269852877868843, 2.9260023052308943, 2.925023111766668, 2.9240479529816694, 2.9230770666877395, 2.9221106832677015, 2.921149026015949, 2.9201923114687562, 2.9192407497207493]}, {\"name\": \" GD\", \"type\": \"scatter\", \"x\": [0, 1, 2, 3, 4, 5, 6, 7, 8, 9, 10, 11, 12, 13, 14, 15, 16, 17, 18, 19, 20, 21, 22, 23, 24, 25, 26, 27, 28, 29, 30, 31, 32, 33, 34, 35, 36, 37, 38, 39, 40, 41, 42, 43, 44, 45, 46, 47, 48, 49, 50, 51, 52, 53, 54, 55, 56, 57, 58, 59, 60, 61, 62, 63, 64, 65, 66, 67, 68, 69, 70, 71, 72, 73, 74, 75, 76, 77, 78, 79, 80, 81, 82, 83, 84, 85, 86, 87, 88, 89, 90, 91, 92, 93, 94, 95, 96, 97, 98, 99], \"y\": [2.99560407835151, 2.9954766970663727, 2.9953501182139357, 2.9952243304947737, 2.9950993227913107, 2.994975084164522, 2.9948516038507034, 2.9947288712583138, 2.9946068759648754, 2.9944856077139415, 2.9943650564121302, 2.9942452121262146, 2.9941260650802723, 2.994007605652899, 2.9938898243744694, 2.9937727119244673, 2.9936562591288514, 2.993540456957494, 2.9934252965216546, 2.9933107690715137, 2.9931968659937556, 2.9930835788091916, 2.9929708991704405, 2.9928588188596463, 2.9927473297862486, 2.992636423984789, 2.9925260936127684, 2.9924163309485365, 2.9923071283892346, 2.9921984784487683, 2.992090373755821, 2.9919828070519108, 2.99187577118948, 2.991769259130027, 2.991663263942258, 2.9915577788002996, 2.9914527969819242, 2.9913483118668154, 2.9912443169348704, 2.991140805764529, 2.9910377720311363, 2.9909352095053356, 2.990833112051491, 2.9907314736261417, 2.990630288276482, 2.9905295501388673, 2.9904292534373584, 2.990329392482278, 2.990229961668806, 2.9901309554755913, 2.990032368463398, 2.989934195273764, 2.9898364306277023, 2.989739069324403, 2.9896421062399807, 2.9895455363262267, 2.9894493546093996, 2.98935355618902, 2.9892581362367037, 2.9891630899950066, 2.9890684127762888, 2.9889740999616063, 2.9888801469996142, 2.988786549405497, 2.988693302759907, 2.9886004027079385, 2.988507844958098, 2.988415625281317, 2.9883237395099567, 2.9882321835368493, 2.9881409533143506, 2.988050044853402, 2.9879594542226195, 2.987869177547391, 2.9877792110089905, 2.98768955084371, 2.987600193342006, 2.987511134847656, 2.9874223717569373, 2.9873339005178097, 2.9872457176291207, 2.987157819639824, 2.987070203148203, 2.986982864801114, 2.986895801293246, 2.986809009366382, 2.9867224858086803, 2.986636227453967, 2.986550231181038, 2.986464493912979, 2.986379012616483, 2.9862937843011967, 2.986208806019062, 2.986124074863686, 2.986039587969697, 2.985955342512134, 2.9858713357058377, 2.985787564804847, 2.985704027101813, 2.9856207199274145]}],\n",
              "                        {\"template\": {\"data\": {\"bar\": [{\"error_x\": {\"color\": \"#2a3f5f\"}, \"error_y\": {\"color\": \"#2a3f5f\"}, \"marker\": {\"line\": {\"color\": \"#E5ECF6\", \"width\": 0.5}}, \"type\": \"bar\"}], \"barpolar\": [{\"marker\": {\"line\": {\"color\": \"#E5ECF6\", \"width\": 0.5}}, \"type\": \"barpolar\"}], \"carpet\": [{\"aaxis\": {\"endlinecolor\": \"#2a3f5f\", \"gridcolor\": \"white\", \"linecolor\": \"white\", \"minorgridcolor\": \"white\", \"startlinecolor\": \"#2a3f5f\"}, \"baxis\": {\"endlinecolor\": \"#2a3f5f\", \"gridcolor\": \"white\", \"linecolor\": \"white\", \"minorgridcolor\": \"white\", \"startlinecolor\": \"#2a3f5f\"}, \"type\": \"carpet\"}], \"choropleth\": [{\"colorbar\": {\"outlinewidth\": 0, \"ticks\": \"\"}, \"type\": \"choropleth\"}], \"contour\": [{\"colorbar\": {\"outlinewidth\": 0, \"ticks\": \"\"}, \"colorscale\": [[0.0, \"#0d0887\"], [0.1111111111111111, \"#46039f\"], [0.2222222222222222, \"#7201a8\"], [0.3333333333333333, \"#9c179e\"], [0.4444444444444444, \"#bd3786\"], [0.5555555555555556, \"#d8576b\"], [0.6666666666666666, \"#ed7953\"], [0.7777777777777778, \"#fb9f3a\"], [0.8888888888888888, \"#fdca26\"], [1.0, \"#f0f921\"]], \"type\": \"contour\"}], \"contourcarpet\": [{\"colorbar\": {\"outlinewidth\": 0, \"ticks\": \"\"}, \"type\": \"contourcarpet\"}], \"heatmap\": [{\"colorbar\": {\"outlinewidth\": 0, \"ticks\": \"\"}, \"colorscale\": [[0.0, \"#0d0887\"], [0.1111111111111111, \"#46039f\"], [0.2222222222222222, \"#7201a8\"], [0.3333333333333333, \"#9c179e\"], [0.4444444444444444, \"#bd3786\"], [0.5555555555555556, \"#d8576b\"], [0.6666666666666666, \"#ed7953\"], [0.7777777777777778, \"#fb9f3a\"], [0.8888888888888888, \"#fdca26\"], [1.0, \"#f0f921\"]], \"type\": \"heatmap\"}], \"heatmapgl\": [{\"colorbar\": {\"outlinewidth\": 0, \"ticks\": \"\"}, \"colorscale\": [[0.0, \"#0d0887\"], [0.1111111111111111, \"#46039f\"], [0.2222222222222222, \"#7201a8\"], [0.3333333333333333, \"#9c179e\"], [0.4444444444444444, \"#bd3786\"], [0.5555555555555556, \"#d8576b\"], [0.6666666666666666, \"#ed7953\"], [0.7777777777777778, \"#fb9f3a\"], [0.8888888888888888, \"#fdca26\"], [1.0, \"#f0f921\"]], \"type\": \"heatmapgl\"}], \"histogram\": [{\"marker\": {\"colorbar\": {\"outlinewidth\": 0, \"ticks\": \"\"}}, \"type\": \"histogram\"}], \"histogram2d\": [{\"colorbar\": {\"outlinewidth\": 0, \"ticks\": \"\"}, \"colorscale\": [[0.0, \"#0d0887\"], [0.1111111111111111, \"#46039f\"], [0.2222222222222222, \"#7201a8\"], [0.3333333333333333, \"#9c179e\"], [0.4444444444444444, \"#bd3786\"], [0.5555555555555556, \"#d8576b\"], [0.6666666666666666, \"#ed7953\"], [0.7777777777777778, \"#fb9f3a\"], [0.8888888888888888, \"#fdca26\"], [1.0, \"#f0f921\"]], \"type\": \"histogram2d\"}], \"histogram2dcontour\": [{\"colorbar\": {\"outlinewidth\": 0, \"ticks\": \"\"}, \"colorscale\": [[0.0, \"#0d0887\"], [0.1111111111111111, \"#46039f\"], [0.2222222222222222, \"#7201a8\"], [0.3333333333333333, \"#9c179e\"], [0.4444444444444444, \"#bd3786\"], [0.5555555555555556, \"#d8576b\"], [0.6666666666666666, \"#ed7953\"], [0.7777777777777778, \"#fb9f3a\"], [0.8888888888888888, \"#fdca26\"], [1.0, \"#f0f921\"]], \"type\": \"histogram2dcontour\"}], \"mesh3d\": [{\"colorbar\": {\"outlinewidth\": 0, \"ticks\": \"\"}, \"type\": \"mesh3d\"}], \"parcoords\": [{\"line\": {\"colorbar\": {\"outlinewidth\": 0, \"ticks\": \"\"}}, \"type\": \"parcoords\"}], \"pie\": [{\"automargin\": true, \"type\": \"pie\"}], \"scatter\": [{\"marker\": {\"colorbar\": {\"outlinewidth\": 0, \"ticks\": \"\"}}, \"type\": \"scatter\"}], \"scatter3d\": [{\"line\": {\"colorbar\": {\"outlinewidth\": 0, \"ticks\": \"\"}}, \"marker\": {\"colorbar\": {\"outlinewidth\": 0, \"ticks\": \"\"}}, \"type\": \"scatter3d\"}], \"scattercarpet\": [{\"marker\": {\"colorbar\": {\"outlinewidth\": 0, \"ticks\": \"\"}}, \"type\": \"scattercarpet\"}], \"scattergeo\": [{\"marker\": {\"colorbar\": {\"outlinewidth\": 0, \"ticks\": \"\"}}, \"type\": \"scattergeo\"}], \"scattergl\": [{\"marker\": {\"colorbar\": {\"outlinewidth\": 0, \"ticks\": \"\"}}, \"type\": \"scattergl\"}], \"scattermapbox\": [{\"marker\": {\"colorbar\": {\"outlinewidth\": 0, \"ticks\": \"\"}}, \"type\": \"scattermapbox\"}], \"scatterpolar\": [{\"marker\": {\"colorbar\": {\"outlinewidth\": 0, \"ticks\": \"\"}}, \"type\": \"scatterpolar\"}], \"scatterpolargl\": [{\"marker\": {\"colorbar\": {\"outlinewidth\": 0, \"ticks\": \"\"}}, \"type\": \"scatterpolargl\"}], \"scatterternary\": [{\"marker\": {\"colorbar\": {\"outlinewidth\": 0, \"ticks\": \"\"}}, \"type\": \"scatterternary\"}], \"surface\": [{\"colorbar\": {\"outlinewidth\": 0, \"ticks\": \"\"}, \"colorscale\": [[0.0, \"#0d0887\"], [0.1111111111111111, \"#46039f\"], [0.2222222222222222, \"#7201a8\"], [0.3333333333333333, \"#9c179e\"], [0.4444444444444444, \"#bd3786\"], [0.5555555555555556, \"#d8576b\"], [0.6666666666666666, \"#ed7953\"], [0.7777777777777778, \"#fb9f3a\"], [0.8888888888888888, \"#fdca26\"], [1.0, \"#f0f921\"]], \"type\": \"surface\"}], \"table\": [{\"cells\": {\"fill\": {\"color\": \"#EBF0F8\"}, \"line\": {\"color\": \"white\"}}, \"header\": {\"fill\": {\"color\": \"#C8D4E3\"}, \"line\": {\"color\": \"white\"}}, \"type\": \"table\"}]}, \"layout\": {\"annotationdefaults\": {\"arrowcolor\": \"#2a3f5f\", \"arrowhead\": 0, \"arrowwidth\": 1}, \"coloraxis\": {\"colorbar\": {\"outlinewidth\": 0, \"ticks\": \"\"}}, \"colorscale\": {\"diverging\": [[0, \"#8e0152\"], [0.1, \"#c51b7d\"], [0.2, \"#de77ae\"], [0.3, \"#f1b6da\"], [0.4, \"#fde0ef\"], [0.5, \"#f7f7f7\"], [0.6, \"#e6f5d0\"], [0.7, \"#b8e186\"], [0.8, \"#7fbc41\"], [0.9, \"#4d9221\"], [1, \"#276419\"]], \"sequential\": [[0.0, \"#0d0887\"], [0.1111111111111111, \"#46039f\"], [0.2222222222222222, \"#7201a8\"], [0.3333333333333333, \"#9c179e\"], [0.4444444444444444, \"#bd3786\"], [0.5555555555555556, \"#d8576b\"], [0.6666666666666666, \"#ed7953\"], [0.7777777777777778, \"#fb9f3a\"], [0.8888888888888888, \"#fdca26\"], [1.0, \"#f0f921\"]], \"sequentialminus\": [[0.0, \"#0d0887\"], [0.1111111111111111, \"#46039f\"], [0.2222222222222222, \"#7201a8\"], [0.3333333333333333, \"#9c179e\"], [0.4444444444444444, \"#bd3786\"], [0.5555555555555556, \"#d8576b\"], [0.6666666666666666, \"#ed7953\"], [0.7777777777777778, \"#fb9f3a\"], [0.8888888888888888, \"#fdca26\"], [1.0, \"#f0f921\"]]}, \"colorway\": [\"#636efa\", \"#EF553B\", \"#00cc96\", \"#ab63fa\", \"#FFA15A\", \"#19d3f3\", \"#FF6692\", \"#B6E880\", \"#FF97FF\", \"#FECB52\"], \"font\": {\"color\": \"#2a3f5f\"}, \"geo\": {\"bgcolor\": \"white\", \"lakecolor\": \"white\", \"landcolor\": \"#E5ECF6\", \"showlakes\": true, \"showland\": true, \"subunitcolor\": \"white\"}, \"hoverlabel\": {\"align\": \"left\"}, \"hovermode\": \"closest\", \"mapbox\": {\"style\": \"light\"}, \"paper_bgcolor\": \"white\", \"plot_bgcolor\": \"#E5ECF6\", \"polar\": {\"angularaxis\": {\"gridcolor\": \"white\", \"linecolor\": \"white\", \"ticks\": \"\"}, \"bgcolor\": \"#E5ECF6\", \"radialaxis\": {\"gridcolor\": \"white\", \"linecolor\": \"white\", \"ticks\": \"\"}}, \"scene\": {\"xaxis\": {\"backgroundcolor\": \"#E5ECF6\", \"gridcolor\": \"white\", \"gridwidth\": 2, \"linecolor\": \"white\", \"showbackground\": true, \"ticks\": \"\", \"zerolinecolor\": \"white\"}, \"yaxis\": {\"backgroundcolor\": \"#E5ECF6\", \"gridcolor\": \"white\", \"gridwidth\": 2, \"linecolor\": \"white\", \"showbackground\": true, \"ticks\": \"\", \"zerolinecolor\": \"white\"}, \"zaxis\": {\"backgroundcolor\": \"#E5ECF6\", \"gridcolor\": \"white\", \"gridwidth\": 2, \"linecolor\": \"white\", \"showbackground\": true, \"ticks\": \"\", \"zerolinecolor\": \"white\"}}, \"shapedefaults\": {\"line\": {\"color\": \"#2a3f5f\"}}, \"ternary\": {\"aaxis\": {\"gridcolor\": \"white\", \"linecolor\": \"white\", \"ticks\": \"\"}, \"baxis\": {\"gridcolor\": \"white\", \"linecolor\": \"white\", \"ticks\": \"\"}, \"bgcolor\": \"#E5ECF6\", \"caxis\": {\"gridcolor\": \"white\", \"linecolor\": \"white\", \"ticks\": \"\"}}, \"title\": {\"x\": 0.05}, \"xaxis\": {\"automargin\": true, \"gridcolor\": \"white\", \"linecolor\": \"white\", \"ticks\": \"\", \"title\": {\"standoff\": 15}, \"zerolinecolor\": \"white\", \"zerolinewidth\": 2}, \"yaxis\": {\"automargin\": true, \"gridcolor\": \"white\", \"linecolor\": \"white\", \"ticks\": \"\", \"title\": {\"standoff\": 15}, \"zerolinecolor\": \"white\", \"zerolinewidth\": 2}}}, \"title\": {\"text\": \"test logistic loss function value vs steps\"}},\n",
              "                        {\"responsive\": true}\n",
              "                    ).then(function(){\n",
              "                            \n",
              "var gd = document.getElementById('738ae6d3-35c6-47ca-b160-ed1ae77c1cf8');\n",
              "var x = new MutationObserver(function (mutations, observer) {{\n",
              "        var display = window.getComputedStyle(gd).display;\n",
              "        if (!display || display === 'none') {{\n",
              "            console.log([gd, 'removed!']);\n",
              "            Plotly.purge(gd);\n",
              "            observer.disconnect();\n",
              "        }}\n",
              "}});\n",
              "\n",
              "// Listen for the removal of the full notebook cells\n",
              "var notebookContainer = gd.closest('#notebook-container');\n",
              "if (notebookContainer) {{\n",
              "    x.observe(notebookContainer, {childList: true});\n",
              "}}\n",
              "\n",
              "// Listen for the clearing of the current output cell\n",
              "var outputEl = gd.closest('.output');\n",
              "if (outputEl) {{\n",
              "    x.observe(outputEl, {childList: true});\n",
              "}}\n",
              "\n",
              "                        })\n",
              "                };\n",
              "                \n",
              "            </script>\n",
              "        </div>\n",
              "</body>\n",
              "</html>"
            ]
          },
          "metadata": {
            "tags": []
          }
        }
      ]
    },
    {
      "cell_type": "code",
      "metadata": {
        "id": "pBXhfQIRon3i"
      },
      "source": [
        "tqdm._instances.clear()\n"
      ],
      "execution_count": null,
      "outputs": []
    }
  ]
}