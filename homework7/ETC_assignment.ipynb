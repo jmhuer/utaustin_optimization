{
  "nbformat": 4,
  "nbformat_minor": 0,
  "metadata": {
    "colab": {
      "name": "ETC-assignment.ipynb",
      "provenance": [],
      "collapsed_sections": [],
      "toc_visible": true,
      "include_colab_link": true
    },
    "kernelspec": {
      "name": "python3",
      "display_name": "Python 3"
    }
  },
  "cells": [
    {
      "cell_type": "markdown",
      "metadata": {
        "id": "view-in-github",
        "colab_type": "text"
      },
      "source": [
        "<a href=\"https://colab.research.google.com/github/jmhuer/utaustin_optimization/blob/main/homework7/ETC_assignment.ipynb\" target=\"_parent\"><img src=\"https://colab.research.google.com/assets/colab-badge.svg\" alt=\"Open In Colab\"/></a>"
      ]
    },
    {
      "cell_type": "markdown",
      "metadata": {
        "id": "3DVUkrr5ap39"
      },
      "source": [
        "# Explore then Commit (ETC)\n",
        "\n",
        "In this excercises, we will be playing with the Multi-arm bandit problem with Explore then Commit algorithm.\n",
        "\n",
        "## Setup\n",
        "\n",
        "Consider unstructural bandit problem. Suppose we have $k$ arms, each with random rewards $p_i = u_i + \\epsilon$ where $\\epsilon$ is draw from i.i.d. standard gaussian. (Note that we only require $\\epsilon$ to be sub-gaussian for the analysis to go through)\n",
        "\n",
        "The following codes is capturing the setup."
      ]
    },
    {
      "cell_type": "code",
      "metadata": {
        "id": "mve-Cs7ODbfs"
      },
      "source": [
        "import numpy as np\n",
        "import pdb\n",
        "import matplotlib.pyplot as plt\n",
        "import plotly.graph_objects as graph\n",
        "\n",
        "class Gaussian_Arm:\n",
        "  def __init__(self, num_arms, mu=None):\n",
        "    '''\n",
        "    num_arms: (int). the number of arms\n",
        "    mu: (None or list-type). the mean of the reward of each arm.\n",
        "        if set to None, a random vector will be generated.\n",
        "    '''\n",
        "    if num_arms <= 1 or not isinstance(num_arms, int):\n",
        "      print('number of arms has an int that is at least two')\n",
        "      return\n",
        "    \n",
        "    self.num_arms = num_arms\n",
        "    #\n",
        "    if mu:\n",
        "      self.mu = np.asarray(mu)\n",
        "      if len(self.mu) != num_arms:\n",
        "        print('The lenth of mu does not match the number of arms')\n",
        "        return\n",
        "    else:\n",
        "      self.mu = np.random.rand((num_arms))\n",
        "    # \n",
        "    self.delta = max(self.mu) - min(self.mu)\n",
        "    #\n",
        "\n",
        "    # keep track of the rewards for the user\n",
        "    self.rewards_history = []\n",
        "    # keep track of how many times the arms have been pulled\n",
        "    self.total_pull = 0 \n",
        "\n",
        "  def pull_arm(self, arm_id=-1, pull_time=1):\n",
        "    if arm_id < 0 or arm_id >= self.num_arms:\n",
        "      print('please specify arm id in the range of 0-%d' % (self.num_arms))\n",
        "      return\n",
        "    assert (isinstance(pull_time, int) and pull_time >= 1)\n",
        "    self.total_pull += pull_time\n",
        "    # Generate reward\n",
        "    reward = self.mu[arm_id] * pull_time + sum(np.random.randn(pull_time))\n",
        "    self.rewards_history.append(reward)\n",
        "    return reward\n",
        "\n",
        "\n",
        "  def genie_reward(self):\n",
        "    '''\n",
        "    the best expected reward after pulling self.total_pull times\n",
        "    '''\n",
        "    best_mu = max(self.mu)\n",
        "    return self.total_pull * best_mu\n",
        "\n",
        "  def my_rewards(self):\n",
        "    return sum(self.rewards_history)\n",
        "\n",
        "  def clear_reward_hist(self):\n",
        "    self.rewards_history = []\n",
        "    self.total_pull = 0\n"
      ],
      "execution_count": 2,
      "outputs": []
    },
    {
      "cell_type": "markdown",
      "metadata": {
        "id": "Ce_E9sfwDlgo"
      },
      "source": [
        "## Algorithm review\n",
        "\n",
        "(Please refer to the lecture notes and the text book for details)\n",
        "\n",
        "The parameter to set: the exploration time m\\*k\n",
        "\n",
        "1. Play each arm in the round-robin fashion until each arm are played m times\n",
        "2. Compute the empirical reward estimation for each arm\n",
        "3. Play the best arm (according to the empirical reward estimation) until the end of the game\n",
        "\n",
        "## Goal of these exercises\n",
        "\n",
        "Implement the following:\n",
        "\n",
        "1. Basic ETC algorithm implementation\n",
        "2. Plot the expected regret of ETC VS horizon ($n$).\n",
        "3. The doubling trick.\n",
        "4. Plot the expected regret of ETC with doubling trick VS horizon ($n$).\n",
        "\n",
        "Answer the following:\n",
        "\n",
        "1. What are the pros and cons of the doubling trick?\n",
        "2. Does the regret VS horizon plot looks like $\\log n$?\n",
        "3. What if the exploration time is not set appropriately  (which means, we explore too little or too much) (Usually because the sub-optimality gap cannot be estimated appropriately)?\n",
        "4. (Open-ended) Can we improve ETC?\n",
        "\n",
        "## Tips:\n",
        "1. The regret is expected to be logarithmic against the horizon. To check if the relationship is logarithmic, one can use the semilogx function in matplotlib.pyplot\n",
        "2. When the regret is not logarithmic, please check against the analysis, and obtain insights there for debugging.\n",
        "3. To see a smooth curve, one would have to repeat the simulation for multiple time, and take the empirical mean of the regret. This may be slow, if implemented on a single process. So please try-out parallel implementation, if you are comfortable with it (the simulation is very parallelable).\n"
      ]
    },
    {
      "cell_type": "code",
      "metadata": {
        "id": "z1cQxaWWykJj"
      },
      "source": [
        "def plot_history(all_history:dict, x:str, y:str , title:str , log = False):\n",
        "  fig = graph.Figure(layout = graph.Layout(title=graph.layout.Title(text=title)))\n",
        "  for i in all_history:\n",
        "      fig.add_trace(graph.Scatter(x    = all_history[i][x],\n",
        "                                  y    = all_history[i][y],\n",
        "                                  name = i))\n",
        "  if log: fig.update_xaxes(type=\"log\")\n",
        "  fig.show()\n",
        "\n",
        "\n",
        "def etc_algorithm(arm:Gaussian_Arm, horizon:int, mexplore:int):\n",
        "  \n",
        "  print(\"True mu: \", arm.mu)\n",
        "  history = {\"step\":[], \"regret\":[], \"expected_mu\":np.zeros((arm.num_arms)), \"arm_chosen\":[]}\n",
        "\n",
        "  for i in range(horizon):\n",
        "    ##Phase 1 : Explore and record experimental muo\n",
        "    if i <= arm.num_arms*mexplore:\n",
        "      arm_decision = i % arm.num_arms # + 1? \n",
        "      reward = arm.pull_arm(arm_decision)\n",
        "      number_visit = history['arm_chosen'].count(arm_decision)\n",
        "      current_arm_muo = history['expected_mu'][arm_decision] \n",
        "      history['expected_mu'][arm_decision] =  (current_arm_muo*number_visit + reward )/(number_visit + 1)\n",
        "    else:\n",
        "    ##Phase 2 : Commited stage\n",
        "      arm_decision = np.argmax(history['expected_mu'])\n",
        "      reward = arm.pull_arm(arm_decision)\n",
        "\n",
        "    ## store history\n",
        "    history['step'].append(i)\n",
        "    history['regret'].append( float(arm.genie_reward() - arm.my_rewards()) )\n",
        "    history['arm_chosen'].append(arm_decision)\n",
        "  print(\"experimental mu:\", history['expected_mu'])\n",
        "  return history\n"
      ],
      "execution_count": 8,
      "outputs": []
    },
    {
      "cell_type": "code",
      "metadata": {
        "colab": {
          "base_uri": "https://localhost:8080/"
        },
        "id": "Hq7WVVEdsU2l",
        "outputId": "1e2b330d-ca95-439a-d958-a927363d634a"
      },
      "source": [
        "\n",
        "arm = Gaussian_Arm(2)\n",
        "total_run = 10000\n",
        "\n",
        "\n",
        "# average regret for n runs \n",
        "mean_history = {\"step\": list(range(total_run)), \n",
        "                \"regret\": np.zeros(total_run)}\n",
        "for i in range(5):\n",
        "  history = etc_algorithm(arm, horizon= total_run, mexplore= 1000)\n",
        "  mean_history[\"regret\"] = (mean_history[\"regret\"]*i + history[\"regret\"]) /(i + 1)\n",
        "\n",
        "\n",
        "# combine all plots into one\n",
        "all_history = {\"ETC\": mean_history}\n",
        "\n",
        "\n",
        "#plot\n",
        "plot_history(all_history, x=\"step\" , y=\"regret\", title=\"e-greedy v log horizon\", log=True)\n",
        "plot_history(all_history, x=\"step\" , y=\"regret\", title=\"e-greedy v horizon\", log=False)"
      ],
      "execution_count": null,
      "outputs": [
        {
          "output_type": "stream",
          "text": [
            "True mu:  [0.90160936 0.19641757]\n",
            "experimental mu: [0.92490581 0.30239941]\n",
            "True mu:  [0.90160936 0.19641757]\n"
          ],
          "name": "stdout"
        }
      ]
    },
    {
      "cell_type": "code",
      "metadata": {
        "id": "NAfWRe_HRPIO"
      },
      "source": [
        "print([range(20)])"
      ],
      "execution_count": null,
      "outputs": []
    },
    {
      "cell_type": "code",
      "metadata": {
        "id": "BapZ-1nNyjtd"
      },
      "source": [
        ""
      ],
      "execution_count": null,
      "outputs": []
    }
  ]
}