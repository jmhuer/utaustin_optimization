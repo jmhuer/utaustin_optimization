{
  "nbformat": 4,
  "nbformat_minor": 0,
  "metadata": {
    "colab": {
      "name": "Thompson-Sampling-Assignment",
      "provenance": [],
      "collapsed_sections": [],
      "include_colab_link": true
    },
    "kernelspec": {
      "name": "python3",
      "display_name": "Python 3"
    }
  },
  "cells": [
    {
      "cell_type": "markdown",
      "metadata": {
        "id": "view-in-github",
        "colab_type": "text"
      },
      "source": [
        "<a href=\"https://colab.research.google.com/github/jmhuer/utaustin_optimization/blob/main/homework13/Thompson_Sampling_Assignment.ipynb\" target=\"_parent\"><img src=\"https://colab.research.google.com/assets/colab-badge.svg\" alt=\"Open In Colab\"/></a>"
      ]
    },
    {
      "cell_type": "markdown",
      "metadata": {
        "id": "-Sa6Tg_Jsn-k"
      },
      "source": [
        "## Thompson Sampling\n",
        "\n",
        "In this excercise, we will be playing with the Multi-arm bandit problem with the UCB algorithm.\n",
        "\n",
        "Assume we are under the Bernoulli reward setting."
      ]
    },
    {
      "cell_type": "code",
      "metadata": {
        "id": "x8uoo3FnsCrf"
      },
      "source": [
        "import numpy as np\n",
        "import matplotlib.pyplot as plt\n",
        "from tqdm import tqdm\n",
        "\n",
        "mu = np.array([0.30, 0.25, 0.20, 0.15, 0.10])\n",
        "\n",
        "\n",
        "class Bernoulli_Bandit():\n",
        "  def __init__(self, num_arms, mu=None):\n",
        "    self.num_arms = num_arms\n",
        "    if mu is None:\n",
        "      self.mu = np.random.uniform(0,1, num_arms)\n",
        "    else:\n",
        "      self.mu = np.array(mu)\n",
        "    self.total_pull = 0 \n",
        "     # keep track of the rewards for the user\n",
        "    self.rewards_history = []\n",
        "    \n",
        "  def pull_arm(self, arm):\n",
        "    reward = 1 if np.random.random()< self.mu[arm] else 0\n",
        "    self.total_pull += 1\n",
        "    self.rewards_history.append(reward)\n",
        "    return reward\n",
        "\n",
        "  def my_rewards(self):\n",
        "    return sum(self.rewards_history)\n",
        "\n",
        "  def genie_reward(self):\n",
        "    return self.mu.max() * self.total_pull\n",
        "  \n",
        "  def clear_reward_hist(self):\n",
        "    self.rewards_history = []\n",
        "    self.total_pull = 0\n"
      ],
      "execution_count": 60,
      "outputs": []
    },
    {
      "cell_type": "markdown",
      "metadata": {
        "id": "qZ_8XukfsKNH"
      },
      "source": [
        "\n",
        "## Goal of this exercise\n",
        "1. Basic Thompson Sampling algorithm implementation\n",
        "2. Plot the regret VS horizon ($n$).\n",
        "3. Compare to the UCB algorithm.\n",
        "\n",
        "Please refer to previous assignment for tips.\n"
      ]
    },
    {
      "cell_type": "code",
      "metadata": {
        "id": "CYAlSvxPgVDg"
      },
      "source": [
        "# utils \n",
        "\n",
        "class Running_mean:\n",
        "    def __init__(self,num_arms):\n",
        "        self.rewards = np.zeros(num_arms)\n",
        "        self.count = np.zeros(num_arms)\n",
        "        self.mean =  np.zeros(num_arms)\n",
        "    def add_new_reward(self, reward, indx):\n",
        "        self.rewards[indx] += reward\n",
        "        self.count[indx] += 1\n",
        "        self.mean[indx] = self.rewards[indx] / self.count[indx]\n",
        "    def mean(self, indx):\n",
        "        return self.mean[indx]\n",
        "    def reset(self):\n",
        "        self.rewards = self.rewards * 0 \n",
        "        self.count = self.rewards * 0 \n",
        "        self.mean =  self.rewards * 0\n",
        "\n",
        "\n",
        "def regret_vs_horizon(arm, Ns:list, REPEAT:int, algorithm: type(lambda x: None)):\n",
        "  regret = []\n",
        "  my_arm = arm\n",
        "  for NUM_RUNs in Ns:\n",
        "    print(NUM_RUNs)\n",
        "    cur_regret = 0\n",
        "    for repeat in range(REPEAT):\n",
        "        rewards = algorithm(my_arm, NUM_RUNs) ## everyrun NUM_RUNs += 10000\n",
        "        cur_regret += my_arm.genie_reward() - rewards\n",
        "        my_arm.clear_reward_hist()\n",
        "    cur_regret /= REPEAT\n",
        "    regret.append(cur_regret)\n",
        "  return regret\n",
        "\n",
        "\n",
        "import plotly.graph_objects as graph\n",
        "def plot(all_history:list, title:str, log = False):\n",
        "    \"\"\"\n",
        "    input:\n",
        "        all_history: list of dicts to plot\n",
        "    ret:\n",
        "        None: show plotly fig\n",
        "    \"\"\"\n",
        "    fig = graph.Figure(layout = graph.Layout(title=graph.layout.Title(text=title))) \n",
        "    for i in range(len(all_history)):\n",
        "        fig.add_trace(graph.Scatter(x = all_history[i][\"x\"], \n",
        "                                    y = all_history[i][\"y\"],\n",
        "                                    name = all_history[i][\"legend\"])) \n",
        "    if log: fig.update_xaxes(type=\"log\")\n",
        "    fig.show()"
      ],
      "execution_count": 61,
      "outputs": []
    },
    {
      "cell_type": "code",
      "metadata": {
        "id": "5WpfV8OkfrUD"
      },
      "source": [
        "def UCB(arm, N):\n",
        "  bonus = lambda delta, t: np.sqrt((2*np.log(1/delta))/t) if t > 0 else float('inf')\n",
        "  delta = 1/N**2 \n",
        "  mean_vals = Running_mean(arm.num_arms)\n",
        "  for i in range(N):\n",
        "      UCBbest_arm = np.argmax([u + bonus(delta, t) for (u,t) in zip(mean_vals.mean, mean_vals.count)])\n",
        "      mean_vals.add_new_reward(arm.pull_arm(UCBbest_arm), UCBbest_arm)\n",
        "  return arm.my_rewards()"
      ],
      "execution_count": 62,
      "outputs": []
    },
    {
      "cell_type": "code",
      "metadata": {
        "id": "AbIIBN57jWYo"
      },
      "source": [
        "from numpy.random import beta\n",
        "\n",
        "\n",
        "def Thompson(arm, N):\n",
        "  counter = {\"success\" : [1 for i in range(arm.num_arms)], \n",
        "             \"failure\" : [1 for i in range(arm.num_arms)]}\n",
        "\n",
        "  for i in range(N):\n",
        "      UCBbest_arm = np.argmax([beta(s,f,1) for (s,f) in zip(counter['success'], counter['failure'])])\n",
        "      reward = arm.pull_arm(UCBbest_arm)\n",
        "\n",
        "      #update \n",
        "      if reward==1: counter['success'][UCBbest_arm] += 1 \n",
        "      else : counter['failure'][UCBbest_arm] += 1 \n",
        "\n",
        "  return arm.my_rewards()"
      ],
      "execution_count": 63,
      "outputs": []
    },
    {
      "cell_type": "code",
      "metadata": {
        "colab": {
          "base_uri": "https://localhost:8080/"
        },
        "id": "RG6Uu6eBgaBH",
        "outputId": "d4dce19c-dcd0-4d4e-9089-1f8f41b2e326"
      },
      "source": [
        "Ninit = 100\n",
        "Ns  = [Ninit * (2**i) for i in range(1, 9)]\n",
        "\n",
        "bernoulli_arm  = Bernoulli_Bandit(num_arms=mu.shape[0] , mu=mu)\n",
        "\n",
        "Thompson_regret = regret_vs_horizon(bernoulli_arm, Ns, REPEAT=100, algorithm=Thompson)\n",
        "UCB_regret = regret_vs_horizon(bernoulli_arm, Ns, REPEAT=100, algorithm=UCB)\n",
        "\n",
        "plot_Thompson_regret = {\"legend\": \"mean_Thompson_regret\", \n",
        "                        \"x\": Ns , \n",
        "                        \"y\": Thompson_regret}\n",
        "\n",
        "plot_UCB_regret = {\"legend\": \"mean_UCB_regret\", \n",
        "                   \"x\": Ns , \n",
        "                   \"y\": UCB_regret}\n",
        "\n",
        "\n",
        "plot([plot_UCB_regret, plot_Thompson_regret], title=\"regret VS horizon - linear\", log = False)\n"
      ],
      "execution_count": null,
      "outputs": [
        {
          "output_type": "stream",
          "text": [
            "200\n",
            "400\n",
            "800\n",
            "1600\n",
            "3200\n",
            "6400\n",
            "12800\n",
            "25600\n",
            "200\n",
            "400\n",
            "800\n",
            "1600\n",
            "3200\n"
          ],
          "name": "stdout"
        }
      ]
    }
  ]
}