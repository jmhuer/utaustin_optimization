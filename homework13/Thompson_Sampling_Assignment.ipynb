{
  "nbformat": 4,
  "nbformat_minor": 0,
  "metadata": {
    "colab": {
      "name": "Thompson-Sampling-Assignment",
      "provenance": [],
      "collapsed_sections": [],
      "include_colab_link": true
    },
    "kernelspec": {
      "name": "python3",
      "display_name": "Python 3"
    }
  },
  "cells": [
    {
      "cell_type": "markdown",
      "metadata": {
        "id": "view-in-github",
        "colab_type": "text"
      },
      "source": [
        "<a href=\"https://colab.research.google.com/github/jmhuer/utaustin_optimization/blob/main/homework13/Thompson_Sampling_Assignment.ipynb\" target=\"_parent\"><img src=\"https://colab.research.google.com/assets/colab-badge.svg\" alt=\"Open In Colab\"/></a>"
      ]
    },
    {
      "cell_type": "markdown",
      "metadata": {
        "id": "-Sa6Tg_Jsn-k"
      },
      "source": [
        "## Thompson Sampling\n",
        "\n",
        "In this excercise, we will be playing with the Multi-arm bandit problem with the UCB algorithm.\n",
        "\n",
        "Assume we are under the Bernoulli reward setting."
      ]
    },
    {
      "cell_type": "code",
      "metadata": {
        "id": "x8uoo3FnsCrf"
      },
      "source": [
        "import numpy as np\n",
        "import matplotlib.pyplot as plt\n",
        "from tqdm import tqdm\n",
        "\n",
        "mu = np.array([0.30, 0.25, 0.20, 0.15, 0.10])\n",
        "\n",
        "\n",
        "class Bernoulli_Bandit():\n",
        "  def __init__(self, num_arms, mu=None):\n",
        "    self.num_arms = num_arms\n",
        "    if mu is None:\n",
        "      self.mu = np.random.uniform(0,1, num_arms)\n",
        "    else:\n",
        "      self.mu = np.array(mu)\n",
        "    self.total_pull = 0 \n",
        "     # keep track of the rewards for the user\n",
        "    self.rewards_history = []\n",
        "    \n",
        "  def pull_arm(self, arm):\n",
        "    reward = 1 if np.random.random()< self.mu[arm] else 0\n",
        "    self.total_pull += 1\n",
        "    self.rewards_history.append(reward)\n",
        "    return reward\n",
        "\n",
        "  def my_rewards(self):\n",
        "    return sum(self.rewards_history)\n",
        "\n",
        "  def genie_reward(self):\n",
        "    return self.mu.max() * self.total_pull\n",
        "  \n",
        "  def clear_reward_hist(self):\n",
        "    self.rewards_history = []\n",
        "    self.total_pull = 0\n"
      ],
      "execution_count": 1,
      "outputs": []
    },
    {
      "cell_type": "markdown",
      "metadata": {
        "id": "qZ_8XukfsKNH"
      },
      "source": [
        "\n",
        "## Goal of this exercise\n",
        "1. Basic Thompson Sampling algorithm implementation\n",
        "2. Plot the regret VS horizon ($n$).\n",
        "3. Compare to the UCB algorithm.\n",
        "\n",
        "Please refer to previous assignment for tips.\n"
      ]
    },
    {
      "cell_type": "code",
      "metadata": {
        "id": "CYAlSvxPgVDg"
      },
      "source": [
        "# utils \n",
        "\n",
        "class Running_mean:\n",
        "    def __init__(self,num_arms):\n",
        "        self.rewards = np.zeros(num_arms)\n",
        "        self.count = np.zeros(num_arms)\n",
        "        self.mean =  np.zeros(num_arms)\n",
        "    def add_new_reward(self, reward, indx):\n",
        "        self.rewards[indx] += reward\n",
        "        self.count[indx] += 1\n",
        "        self.mean[indx] = self.rewards[indx] / self.count[indx]\n",
        "    def mean(self, indx):\n",
        "        return self.mean[indx]\n",
        "    def reset(self):\n",
        "        self.rewards = self.rewards * 0 \n",
        "        self.count = self.rewards * 0 \n",
        "        self.mean =  self.rewards * 0\n",
        "\n",
        "\n",
        "def regret_vs_horizon(arm, Ns:list, REPEAT:int, algorithm: type(lambda x: None)):\n",
        "  regret = []\n",
        "  my_arm = arm\n",
        "  for NUM_RUNs in Ns:\n",
        "    print(NUM_RUNs)\n",
        "    cur_regret = 0\n",
        "    for repeat in range(REPEAT):\n",
        "        rewards = algorithm(my_arm, NUM_RUNs) ## everyrun NUM_RUNs += 10000\n",
        "        cur_regret += my_arm.genie_reward() - rewards\n",
        "        my_arm.clear_reward_hist()\n",
        "    cur_regret /= REPEAT\n",
        "    regret.append(cur_regret)\n",
        "  return regret\n",
        "\n",
        "\n",
        "import plotly.graph_objects as graph\n",
        "def plot(all_history:list, title:str, log = False):\n",
        "    \"\"\"\n",
        "    input:\n",
        "        all_history: list of dicts to plot\n",
        "    ret:\n",
        "        None: show plotly fig\n",
        "    \"\"\"\n",
        "    fig = graph.Figure(layout = graph.Layout(title=graph.layout.Title(text=title))) \n",
        "    for i in range(len(all_history)):\n",
        "        fig.add_trace(graph.Scatter(x = all_history[i][\"x\"], \n",
        "                                    y = all_history[i][\"y\"],\n",
        "                                    name = all_history[i][\"legend\"])) \n",
        "    if log: fig.update_xaxes(type=\"log\")\n",
        "    fig.show()"
      ],
      "execution_count": 2,
      "outputs": []
    },
    {
      "cell_type": "markdown",
      "metadata": {
        "id": "qCc-5JqT8Qcq"
      },
      "source": [
        "# 1. Basic Thompson Sampling algorithm implementation"
      ]
    },
    {
      "cell_type": "code",
      "metadata": {
        "id": "AbIIBN57jWYo"
      },
      "source": [
        "from numpy.random import beta\n",
        "\n",
        "\n",
        "def Thompson(arm, N):\n",
        "  counter = {\"success\" : [1 for i in range(arm.num_arms)], \n",
        "             \"failure\" : [1 for i in range(arm.num_arms)]}\n",
        "\n",
        "  for i in range(N):\n",
        "      UCBbest_arm = np.argmax([beta(s,f,1) for (s,f) in zip(counter['success'], counter['failure'])])\n",
        "      reward = arm.pull_arm(UCBbest_arm)\n",
        "\n",
        "      #update \n",
        "      if reward==1: counter['success'][UCBbest_arm] += 1 \n",
        "      else : counter['failure'][UCBbest_arm] += 1 \n",
        "\n",
        "  return arm.my_rewards()"
      ],
      "execution_count": 3,
      "outputs": []
    },
    {
      "cell_type": "markdown",
      "metadata": {
        "id": "jfvekq8y8TZ7"
      },
      "source": [
        "##UCB defined here"
      ]
    },
    {
      "cell_type": "code",
      "metadata": {
        "id": "5WpfV8OkfrUD"
      },
      "source": [
        "def UCB(arm, N):\n",
        "  bonus = lambda delta, t: np.sqrt((2*np.log(1/delta))/t) if t > 0 else float('inf')\n",
        "  delta = 1/N**2 \n",
        "  mean_vals = Running_mean(arm.num_arms)\n",
        "  for i in range(N):\n",
        "      UCBbest_arm = np.argmax([u + bonus(delta, t) for (u,t) in zip(mean_vals.mean, mean_vals.count)])\n",
        "      mean_vals.add_new_reward(arm.pull_arm(UCBbest_arm), UCBbest_arm)\n",
        "  return arm.my_rewards()"
      ],
      "execution_count": 4,
      "outputs": []
    },
    {
      "cell_type": "markdown",
      "metadata": {
        "id": "8oXblNKP8XIK"
      },
      "source": [
        "##KLUCB defined here"
      ]
    },
    {
      "cell_type": "code",
      "metadata": {
        "id": "uCJbE1Bz7Gd7"
      },
      "source": [
        "#(relative entropy or KL divergence defined below)\n",
        "def klBern(x, y):\n",
        "    eps = 1e-15 \n",
        "    x = min(max(x, eps), 1 - eps)\n",
        "    y = min(max(y, eps), 1 - eps)\n",
        "    return x*np.log(x/y) + (1-x)*np.log((1-x) / (1-y))\n",
        "\n",
        "def dkl_bernoulli(p, q):\n",
        "    eps = 1e-15 \n",
        "    p = min(max(p, eps), 1 - eps)\n",
        "    q = min(max(q, eps), 1 - eps)\n",
        "    result = (q-p)/(q*(1.0-q))\n",
        "    return result\n",
        "\n",
        "def max_newton(kl_distance, empiral_mean, k, t, dkl, precision = 1e-6, max_iterations = 50):\n",
        "    Nk = empiral_mean.count[k]\n",
        "    Sk = empiral_mean.rewards[k]\n",
        "    delta = 0.1\n",
        "    logtdt = np.log(t)/Nk\n",
        "    p = max(Sk/Nk, delta)\n",
        "    if p>=1: return 1\n",
        "    q = p + delta\n",
        "    for n in range(max_iterations):\n",
        "        f  = logtdt - kl_distance(p, q)\n",
        "        df = - dkl(p, q)\n",
        "        if f*f < precision: break\n",
        "    q = min(1 - delta , max(q - f / df, p + delta))\n",
        "    return q\n",
        "\n",
        "def KLUCB(arm, N):\n",
        "    max_u = lambda k,t: max_newton(klBern,mean_vals, k, t, dkl_bernoulli) if t > 0 else float('inf')\n",
        "    mean_vals = Running_mean(arm.num_arms)\n",
        "    for i in range(N):\n",
        "        UCBbest_arm = np.argmax([max_u(k,i) for k in range(arm.num_arms)])\n",
        "        mean_vals.add_new_reward(arm.pull_arm(UCBbest_arm), UCBbest_arm)\n",
        "    return arm.my_rewards()"
      ],
      "execution_count": 5,
      "outputs": []
    },
    {
      "cell_type": "markdown",
      "metadata": {
        "id": "Qc4BaDpF9hyt"
      },
      "source": [
        "# 2. Plot the regret VS horizon ($n$)."
      ]
    },
    {
      "cell_type": "markdown",
      "metadata": {
        "id": "d-HT07El_wgE"
      },
      "source": [
        "## 3a. Thompson sampling vs UCB"
      ]
    },
    {
      "cell_type": "code",
      "metadata": {
        "id": "RG6Uu6eBgaBH"
      },
      "source": [
        "Ninit = 100\n",
        "Ns  = [Ninit * (2**i) for i in range(1, 9)]\n",
        "\n",
        "bernoulli_arm  = Bernoulli_Bandit(num_arms=mu.shape[0] , mu=mu)\n",
        "\n",
        "Thompson_regret = regret_vs_horizon(bernoulli_arm, Ns, REPEAT=100, algorithm=Thompson)\n",
        "UCB_regret = regret_vs_horizon(bernoulli_arm, Ns, REPEAT=100, algorithm=UCB)\n",
        "\n",
        "plot_Thompson_regret = {\"legend\": \"mean_Thompson_regret\", \n",
        "                        \"x\": Ns , \n",
        "                        \"y\": Thompson_regret}\n",
        "\n",
        "plot_UCB_regret = {\"legend\": \"mean_UCB_regret\", \n",
        "                   \"x\": Ns , \n",
        "                   \"y\": UCB_regret}\n",
        "\n",
        "\n",
        "plot([plot_UCB_regret, plot_Thompson_regret], title=\"regret VS horizon - linear\", log = False)\n",
        "\n",
        "\n",
        "\n",
        "\n",
        "\n",
        "\n",
        "\n",
        "\n",
        "\n",
        "#\n"
      ],
      "execution_count": null,
      "outputs": []
    },
    {
      "cell_type": "markdown",
      "metadata": {
        "id": "YVKUGJWq-GTo"
      },
      "source": [
        "## 3b. Thompson sampling vs KL-UCB"
      ]
    },
    {
      "cell_type": "code",
      "metadata": {
        "id": "NswMLmil8kol"
      },
      "source": [
        "Ninit = 100\n",
        "Ns  = [Ninit * (2**i) for i in range(1, 7)]\n",
        "\n",
        "bernoulli_arm  = Bernoulli_Bandit(num_arms=mu.shape[0] , mu=mu)\n",
        "\n",
        "KLUCB_regret = regret_vs_horizon(bernoulli_arm, Ns, REPEAT=100, algorithm=KLUCB)\n",
        "Thompson_regret = regret_vs_horizon(bernoulli_arm, Ns, REPEAT=100, algorithm=Thompson)\n",
        "\n",
        "plot_Thompson_regret = {\"legend\": \"mean_Thompson_regret\", \n",
        "                        \"x\": Ns , \n",
        "                        \"y\": Thompson_regret}\n",
        "\n",
        "plot_KLUCB_regret = {\"legend\": \"mean_KLUCB_regret\", \n",
        "                     \"x\": Ns , \n",
        "                     \"y\": KLUCB_regret}\n",
        "\n",
        "\n",
        "plot([plot_KLUCB_regret, plot_Thompson_regret], title=\"regret VS horizon - linear\", log = False)\n",
        "\n",
        "\n"
      ],
      "execution_count": null,
      "outputs": []
    }
  ]
}